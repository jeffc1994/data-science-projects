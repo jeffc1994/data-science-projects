{
 "cells": [
  {
   "cell_type": "code",
   "execution_count": 1,
   "id": "feb0c34b",
   "metadata": {},
   "outputs": [],
   "source": [
    "import numpy as np\n",
    "import pandas as pd\n",
    "import seaborn as sns\n",
    "import matplotlib.pyplot as plt\n",
    "\n",
    "sns.set_style(\"whitegrid\")\n",
    "\n",
    "from pathlib import Path\n",
    "import sys\n",
    "\n",
    "notebook_dir = Path().resolve()\n",
    "common_utils_path = notebook_dir.parent / \"common_utils\"\n",
    "sys.path.append(str(common_utils_path))\n",
    "\n",
    "from EDA import dataset_overview,categorical_analysis,num_analysis\n"
   ]
  },
  {
   "cell_type": "code",
   "execution_count": 2,
   "id": "787c8275",
   "metadata": {},
   "outputs": [],
   "source": [
    "# Import Data\n",
    "\n",
    "df = pd.read_csv('train.csv')\n",
    "df_test = pd.read_csv('test.csv')\n",
    "df_final = pd.read_csv('sample_submission.csv')\n",
    "df_additional_data = pd.read_csv('Fertilizer Prediction.csv')\n",
    "df_additional_data['id'] = 0\n",
    "\n",
    "df = pd.concat([df,df_additional_data])"
   ]
  },
  {
   "cell_type": "markdown",
   "id": "a62a5e46",
   "metadata": {},
   "source": [
    "# Dataset Overview"
   ]
  },
  {
   "cell_type": "code",
   "execution_count": 3,
   "id": "2b36040a",
   "metadata": {},
   "outputs": [
    {
     "name": "stdout",
     "output_type": "stream",
     "text": [
      "==================================== Dataset Overview ====================================\n",
      "\n",
      "============ Data Shape ============\n",
      "Rows: 850000\n",
      "Columns: 10\n",
      "\n",
      "\n",
      "============ Datatypes ============\n",
      "<class 'pandas.core.frame.DataFrame'>\n",
      "Index: 850000 entries, 0 to 99999\n",
      "Data columns (total 10 columns):\n",
      " #   Column           Non-Null Count   Dtype \n",
      "---  ------           --------------   ----- \n",
      " 0   id               850000 non-null  int64 \n",
      " 1   Temparature      850000 non-null  int64 \n",
      " 2   Humidity         850000 non-null  int64 \n",
      " 3   Moisture         850000 non-null  int64 \n",
      " 4   Soil Type        850000 non-null  object\n",
      " 5   Crop Type        850000 non-null  object\n",
      " 6   Nitrogen         850000 non-null  int64 \n",
      " 7   Potassium        850000 non-null  int64 \n",
      " 8   Phosphorous      850000 non-null  int64 \n",
      " 9   Fertilizer Name  850000 non-null  object\n",
      "dtypes: int64(7), object(3)\n",
      "memory usage: 71.3+ MB\n",
      "============ Missing Values ============\n"
     ]
    },
    {
     "data": {
      "text/plain": [
       "id                 0\n",
       "Temparature        0\n",
       "Humidity           0\n",
       "Moisture           0\n",
       "Soil Type          0\n",
       "Crop Type          0\n",
       "Nitrogen           0\n",
       "Potassium          0\n",
       "Phosphorous        0\n",
       "Fertilizer Name    0\n",
       "dtype: int64"
      ]
     },
     "metadata": {},
     "output_type": "display_data"
    },
    {
     "name": "stdout",
     "output_type": "stream",
     "text": [
      "\n",
      "\n",
      "============ Duplicates Values ============\n",
      "Duplicated values : 0\n",
      "============ Data Preview ============\n",
      "Head:\n"
     ]
    },
    {
     "data": {
      "text/html": [
       "<div>\n",
       "<style scoped>\n",
       "    .dataframe tbody tr th:only-of-type {\n",
       "        vertical-align: middle;\n",
       "    }\n",
       "\n",
       "    .dataframe tbody tr th {\n",
       "        vertical-align: top;\n",
       "    }\n",
       "\n",
       "    .dataframe thead th {\n",
       "        text-align: right;\n",
       "    }\n",
       "</style>\n",
       "<table border=\"1\" class=\"dataframe\">\n",
       "  <thead>\n",
       "    <tr style=\"text-align: right;\">\n",
       "      <th></th>\n",
       "      <th>id</th>\n",
       "      <th>Temparature</th>\n",
       "      <th>Humidity</th>\n",
       "      <th>Moisture</th>\n",
       "      <th>Soil Type</th>\n",
       "      <th>Crop Type</th>\n",
       "      <th>Nitrogen</th>\n",
       "      <th>Potassium</th>\n",
       "      <th>Phosphorous</th>\n",
       "      <th>Fertilizer Name</th>\n",
       "    </tr>\n",
       "  </thead>\n",
       "  <tbody>\n",
       "    <tr>\n",
       "      <th>0</th>\n",
       "      <td>0</td>\n",
       "      <td>37</td>\n",
       "      <td>70</td>\n",
       "      <td>36</td>\n",
       "      <td>Clayey</td>\n",
       "      <td>Sugarcane</td>\n",
       "      <td>36</td>\n",
       "      <td>4</td>\n",
       "      <td>5</td>\n",
       "      <td>28-28</td>\n",
       "    </tr>\n",
       "    <tr>\n",
       "      <th>1</th>\n",
       "      <td>1</td>\n",
       "      <td>27</td>\n",
       "      <td>69</td>\n",
       "      <td>65</td>\n",
       "      <td>Sandy</td>\n",
       "      <td>Millets</td>\n",
       "      <td>30</td>\n",
       "      <td>6</td>\n",
       "      <td>18</td>\n",
       "      <td>28-28</td>\n",
       "    </tr>\n",
       "    <tr>\n",
       "      <th>2</th>\n",
       "      <td>2</td>\n",
       "      <td>29</td>\n",
       "      <td>63</td>\n",
       "      <td>32</td>\n",
       "      <td>Sandy</td>\n",
       "      <td>Millets</td>\n",
       "      <td>24</td>\n",
       "      <td>12</td>\n",
       "      <td>16</td>\n",
       "      <td>17-17-17</td>\n",
       "    </tr>\n",
       "  </tbody>\n",
       "</table>\n",
       "</div>"
      ],
      "text/plain": [
       "   id  Temparature  Humidity  Moisture Soil Type  Crop Type  Nitrogen  \\\n",
       "0   0           37        70        36    Clayey  Sugarcane        36   \n",
       "1   1           27        69        65     Sandy    Millets        30   \n",
       "2   2           29        63        32     Sandy    Millets        24   \n",
       "\n",
       "   Potassium  Phosphorous Fertilizer Name  \n",
       "0          4            5           28-28  \n",
       "1          6           18           28-28  \n",
       "2         12           16        17-17-17  "
      ]
     },
     "metadata": {},
     "output_type": "display_data"
    },
    {
     "name": "stdout",
     "output_type": "stream",
     "text": [
      "Tail:\n"
     ]
    },
    {
     "data": {
      "text/html": [
       "<div>\n",
       "<style scoped>\n",
       "    .dataframe tbody tr th:only-of-type {\n",
       "        vertical-align: middle;\n",
       "    }\n",
       "\n",
       "    .dataframe tbody tr th {\n",
       "        vertical-align: top;\n",
       "    }\n",
       "\n",
       "    .dataframe thead th {\n",
       "        text-align: right;\n",
       "    }\n",
       "</style>\n",
       "<table border=\"1\" class=\"dataframe\">\n",
       "  <thead>\n",
       "    <tr style=\"text-align: right;\">\n",
       "      <th></th>\n",
       "      <th>id</th>\n",
       "      <th>Temparature</th>\n",
       "      <th>Humidity</th>\n",
       "      <th>Moisture</th>\n",
       "      <th>Soil Type</th>\n",
       "      <th>Crop Type</th>\n",
       "      <th>Nitrogen</th>\n",
       "      <th>Potassium</th>\n",
       "      <th>Phosphorous</th>\n",
       "      <th>Fertilizer Name</th>\n",
       "    </tr>\n",
       "  </thead>\n",
       "  <tbody>\n",
       "    <tr>\n",
       "      <th>99997</th>\n",
       "      <td>0</td>\n",
       "      <td>28</td>\n",
       "      <td>50</td>\n",
       "      <td>61</td>\n",
       "      <td>Sandy</td>\n",
       "      <td>Maize</td>\n",
       "      <td>10</td>\n",
       "      <td>11</td>\n",
       "      <td>14</td>\n",
       "      <td>14-35-14</td>\n",
       "    </tr>\n",
       "    <tr>\n",
       "      <th>99998</th>\n",
       "      <td>0</td>\n",
       "      <td>29</td>\n",
       "      <td>57</td>\n",
       "      <td>63</td>\n",
       "      <td>Loamy</td>\n",
       "      <td>Ground Nuts</td>\n",
       "      <td>7</td>\n",
       "      <td>10</td>\n",
       "      <td>4</td>\n",
       "      <td>DAP</td>\n",
       "    </tr>\n",
       "    <tr>\n",
       "      <th>99999</th>\n",
       "      <td>0</td>\n",
       "      <td>25</td>\n",
       "      <td>72</td>\n",
       "      <td>42</td>\n",
       "      <td>Sandy</td>\n",
       "      <td>Wheat</td>\n",
       "      <td>38</td>\n",
       "      <td>2</td>\n",
       "      <td>6</td>\n",
       "      <td>17-17-17</td>\n",
       "    </tr>\n",
       "  </tbody>\n",
       "</table>\n",
       "</div>"
      ],
      "text/plain": [
       "       id  Temparature  Humidity  Moisture Soil Type    Crop Type  Nitrogen  \\\n",
       "99997   0           28        50        61     Sandy        Maize        10   \n",
       "99998   0           29        57        63     Loamy  Ground Nuts         7   \n",
       "99999   0           25        72        42     Sandy        Wheat        38   \n",
       "\n",
       "       Potassium  Phosphorous Fertilizer Name  \n",
       "99997         11           14        14-35-14  \n",
       "99998         10            4             DAP  \n",
       "99999          2            6        17-17-17  "
      ]
     },
     "metadata": {},
     "output_type": "display_data"
    },
    {
     "name": "stdout",
     "output_type": "stream",
     "text": [
      "Sample:\n"
     ]
    },
    {
     "data": {
      "text/html": [
       "<div>\n",
       "<style scoped>\n",
       "    .dataframe tbody tr th:only-of-type {\n",
       "        vertical-align: middle;\n",
       "    }\n",
       "\n",
       "    .dataframe tbody tr th {\n",
       "        vertical-align: top;\n",
       "    }\n",
       "\n",
       "    .dataframe thead th {\n",
       "        text-align: right;\n",
       "    }\n",
       "</style>\n",
       "<table border=\"1\" class=\"dataframe\">\n",
       "  <thead>\n",
       "    <tr style=\"text-align: right;\">\n",
       "      <th></th>\n",
       "      <th>id</th>\n",
       "      <th>Temparature</th>\n",
       "      <th>Humidity</th>\n",
       "      <th>Moisture</th>\n",
       "      <th>Soil Type</th>\n",
       "      <th>Crop Type</th>\n",
       "      <th>Nitrogen</th>\n",
       "      <th>Potassium</th>\n",
       "      <th>Phosphorous</th>\n",
       "      <th>Fertilizer Name</th>\n",
       "    </tr>\n",
       "  </thead>\n",
       "  <tbody>\n",
       "    <tr>\n",
       "      <th>219661</th>\n",
       "      <td>219661</td>\n",
       "      <td>29</td>\n",
       "      <td>56</td>\n",
       "      <td>63</td>\n",
       "      <td>Loamy</td>\n",
       "      <td>Paddy</td>\n",
       "      <td>42</td>\n",
       "      <td>5</td>\n",
       "      <td>27</td>\n",
       "      <td>17-17-17</td>\n",
       "    </tr>\n",
       "    <tr>\n",
       "      <th>393243</th>\n",
       "      <td>393243</td>\n",
       "      <td>27</td>\n",
       "      <td>69</td>\n",
       "      <td>34</td>\n",
       "      <td>Red</td>\n",
       "      <td>Pulses</td>\n",
       "      <td>20</td>\n",
       "      <td>18</td>\n",
       "      <td>29</td>\n",
       "      <td>14-35-14</td>\n",
       "    </tr>\n",
       "    <tr>\n",
       "      <th>152753</th>\n",
       "      <td>152753</td>\n",
       "      <td>26</td>\n",
       "      <td>72</td>\n",
       "      <td>30</td>\n",
       "      <td>Loamy</td>\n",
       "      <td>Tobacco</td>\n",
       "      <td>26</td>\n",
       "      <td>4</td>\n",
       "      <td>23</td>\n",
       "      <td>14-35-14</td>\n",
       "    </tr>\n",
       "  </tbody>\n",
       "</table>\n",
       "</div>"
      ],
      "text/plain": [
       "            id  Temparature  Humidity  Moisture Soil Type Crop Type  Nitrogen  \\\n",
       "219661  219661           29        56        63     Loamy     Paddy        42   \n",
       "393243  393243           27        69        34       Red    Pulses        20   \n",
       "152753  152753           26        72        30     Loamy   Tobacco        26   \n",
       "\n",
       "        Potassium  Phosphorous Fertilizer Name  \n",
       "219661          5           27        17-17-17  \n",
       "393243         18           29        14-35-14  \n",
       "152753          4           23        14-35-14  "
      ]
     },
     "metadata": {},
     "output_type": "display_data"
    },
    {
     "name": "stdout",
     "output_type": "stream",
     "text": [
      "\n",
      "\n",
      "============ Numerical and Categorical Values ============\n",
      "Numerical Datatypes: Index(['id', 'Temparature', 'Humidity', 'Moisture', 'Nitrogen', 'Potassium',\n",
      "       'Phosphorous'],\n",
      "      dtype='object')\n",
      "Number of numeric features: 7\n",
      "Categorical Datatypes: Index(['Soil Type', 'Crop Type', 'Fertilizer Name'], dtype='object')\n",
      "Number of categorical features: 3\n"
     ]
    }
   ],
   "source": [
    "num_cols, cat_cols = dataset_overview(df)"
   ]
  },
  {
   "cell_type": "markdown",
   "id": "bd84b1a9",
   "metadata": {},
   "source": [
    "# Observations:\n",
    "1. There are 850000 rows of data, and 10 columns\n",
    "2. There are no duplicated or null values\n",
    "3. There is 1 id column, 6 numeric features, 2 categorical features and 1 categorical target \n",
    "4. Data shows the type of environment that specific crop types are grown in, and then the optimal fertilizer used "
   ]
  },
  {
   "cell_type": "markdown",
   "id": "ad85d060",
   "metadata": {},
   "source": [
    "# Numerical Analysis"
   ]
  },
  {
   "cell_type": "code",
   "execution_count": 4,
   "id": "18b09d34",
   "metadata": {},
   "outputs": [
    {
     "name": "stdout",
     "output_type": "stream",
     "text": [
      "Index(['id', 'Temparature', 'Humidity', 'Moisture', 'Nitrogen', 'Potassium',\n",
      "       'Phosphorous'],\n",
      "      dtype='object')\n"
     ]
    }
   ],
   "source": [
    "print(num_cols)"
   ]
  },
  {
   "cell_type": "code",
   "execution_count": 5,
   "id": "45dca632",
   "metadata": {},
   "outputs": [],
   "source": [
    "cols_to_analyze = num_cols.drop('id')"
   ]
  },
  {
   "cell_type": "code",
   "execution_count": 6,
   "id": "f270d376",
   "metadata": {},
   "outputs": [
    {
     "name": "stdout",
     "output_type": "stream",
     "text": [
      "****************************** Temparature analysis ******************************\n"
     ]
    },
    {
     "data": {
      "image/png": "[encoded data removed]",
      "text/plain": [
       "<Figure size 1000x500 with 2 Axes>"
      ]
     },
     "metadata": {},
     "output_type": "display_data"
    },
    {
     "name": "stdout",
     "output_type": "stream",
     "text": [
      "********************  Temparature values description  ********************\n"
     ]
    },
    {
     "data": {
      "text/html": [
       "<style type=\"text/css\">\n",
       "#T_6b0b2_row0_col0 {\n",
       "  background-color: #ff00ff;\n",
       "  color: #f1f1f1;\n",
       "}\n",
       "#T_6b0b2_row1_col0, #T_6b0b2_row2_col0, #T_6b0b2_row3_col0, #T_6b0b2_row4_col0, #T_6b0b2_row5_col0, #T_6b0b2_row6_col0, #T_6b0b2_row7_col0 {\n",
       "  background-color: #00ffff;\n",
       "  color: #000000;\n",
       "}\n",
       "</style>\n",
       "<table id=\"T_6b0b2\">\n",
       "  <thead>\n",
       "    <tr>\n",
       "      <th class=\"blank level0\" >&nbsp;</th>\n",
       "      <th id=\"T_6b0b2_level0_col0\" class=\"col_heading level0 col0\" >Temparature</th>\n",
       "    </tr>\n",
       "  </thead>\n",
       "  <tbody>\n",
       "    <tr>\n",
       "      <th id=\"T_6b0b2_level0_row0\" class=\"row_heading level0 row0\" >count</th>\n",
       "      <td id=\"T_6b0b2_row0_col0\" class=\"data row0 col0\" >850000.000000</td>\n",
       "    </tr>\n",
       "    <tr>\n",
       "      <th id=\"T_6b0b2_level0_row1\" class=\"row_heading level0 row1\" >mean</th>\n",
       "      <td id=\"T_6b0b2_row1_col0\" class=\"data row1 col0\" >31.503534</td>\n",
       "    </tr>\n",
       "    <tr>\n",
       "      <th id=\"T_6b0b2_level0_row2\" class=\"row_heading level0 row2\" >std</th>\n",
       "      <td id=\"T_6b0b2_row2_col0\" class=\"data row2 col0\" >4.024909</td>\n",
       "    </tr>\n",
       "    <tr>\n",
       "      <th id=\"T_6b0b2_level0_row3\" class=\"row_heading level0 row3\" >min</th>\n",
       "      <td id=\"T_6b0b2_row3_col0\" class=\"data row3 col0\" >25.000000</td>\n",
       "    </tr>\n",
       "    <tr>\n",
       "      <th id=\"T_6b0b2_level0_row4\" class=\"row_heading level0 row4\" >25%</th>\n",
       "      <td id=\"T_6b0b2_row4_col0\" class=\"data row4 col0\" >28.000000</td>\n",
       "    </tr>\n",
       "    <tr>\n",
       "      <th id=\"T_6b0b2_level0_row5\" class=\"row_heading level0 row5\" >50%</th>\n",
       "      <td id=\"T_6b0b2_row5_col0\" class=\"data row5 col0\" >32.000000</td>\n",
       "    </tr>\n",
       "    <tr>\n",
       "      <th id=\"T_6b0b2_level0_row6\" class=\"row_heading level0 row6\" >75%</th>\n",
       "      <td id=\"T_6b0b2_row6_col0\" class=\"data row6 col0\" >35.000000</td>\n",
       "    </tr>\n",
       "    <tr>\n",
       "      <th id=\"T_6b0b2_level0_row7\" class=\"row_heading level0 row7\" >max</th>\n",
       "      <td id=\"T_6b0b2_row7_col0\" class=\"data row7 col0\" >38.000000</td>\n",
       "    </tr>\n",
       "  </tbody>\n",
       "</table>\n"
      ],
      "text/plain": [
       "<pandas.io.formats.style.Styler at 0x25bd995d590>"
      ]
     },
     "metadata": {},
     "output_type": "display_data"
    },
    {
     "name": "stdout",
     "output_type": "stream",
     "text": [
      "********************  Temparature outliers  ********************\n",
      "IQR : 7.0\n",
      "\n",
      "\n",
      "\n",
      "\n",
      "****************************** Humidity analysis ******************************\n"
     ]
    },
    {
     "data": {
      "image/png": "[encoded data removed]",
      "text/plain": [
       "<Figure size 1000x500 with 2 Axes>"
      ]
     },
     "metadata": {},
     "output_type": "display_data"
    },
    {
     "name": "stdout",
     "output_type": "stream",
     "text": [
      "********************  Humidity values description  ********************\n"
     ]
    },
    {
     "data": {
      "text/html": [
       "<style type=\"text/css\">\n",
       "#T_26601_row0_col0 {\n",
       "  background-color: #ff00ff;\n",
       "  color: #f1f1f1;\n",
       "}\n",
       "#T_26601_row1_col0, #T_26601_row2_col0, #T_26601_row3_col0, #T_26601_row4_col0, #T_26601_row5_col0, #T_26601_row6_col0, #T_26601_row7_col0 {\n",
       "  background-color: #00ffff;\n",
       "  color: #000000;\n",
       "}\n",
       "</style>\n",
       "<table id=\"T_26601\">\n",
       "  <thead>\n",
       "    <tr>\n",
       "      <th class=\"blank level0\" >&nbsp;</th>\n",
       "      <th id=\"T_26601_level0_col0\" class=\"col_heading level0 col0\" >Humidity</th>\n",
       "    </tr>\n",
       "  </thead>\n",
       "  <tbody>\n",
       "    <tr>\n",
       "      <th id=\"T_26601_level0_row0\" class=\"row_heading level0 row0\" >count</th>\n",
       "      <td id=\"T_26601_row0_col0\" class=\"data row0 col0\" >850000.000000</td>\n",
       "    </tr>\n",
       "    <tr>\n",
       "      <th id=\"T_26601_level0_row1\" class=\"row_heading level0 row1\" >mean</th>\n",
       "      <td id=\"T_26601_row1_col0\" class=\"data row1 col0\" >61.032665</td>\n",
       "    </tr>\n",
       "    <tr>\n",
       "      <th id=\"T_26601_level0_row2\" class=\"row_heading level0 row2\" >std</th>\n",
       "      <td id=\"T_26601_row2_col0\" class=\"data row2 col0\" >6.648149</td>\n",
       "    </tr>\n",
       "    <tr>\n",
       "      <th id=\"T_26601_level0_row3\" class=\"row_heading level0 row3\" >min</th>\n",
       "      <td id=\"T_26601_row3_col0\" class=\"data row3 col0\" >50.000000</td>\n",
       "    </tr>\n",
       "    <tr>\n",
       "      <th id=\"T_26601_level0_row4\" class=\"row_heading level0 row4\" >25%</th>\n",
       "      <td id=\"T_26601_row4_col0\" class=\"data row4 col0\" >55.000000</td>\n",
       "    </tr>\n",
       "    <tr>\n",
       "      <th id=\"T_26601_level0_row5\" class=\"row_heading level0 row5\" >50%</th>\n",
       "      <td id=\"T_26601_row5_col0\" class=\"data row5 col0\" >61.000000</td>\n",
       "    </tr>\n",
       "    <tr>\n",
       "      <th id=\"T_26601_level0_row6\" class=\"row_heading level0 row6\" >75%</th>\n",
       "      <td id=\"T_26601_row6_col0\" class=\"data row6 col0\" >67.000000</td>\n",
       "    </tr>\n",
       "    <tr>\n",
       "      <th id=\"T_26601_level0_row7\" class=\"row_heading level0 row7\" >max</th>\n",
       "      <td id=\"T_26601_row7_col0\" class=\"data row7 col0\" >72.000000</td>\n",
       "    </tr>\n",
       "  </tbody>\n",
       "</table>\n"
      ],
      "text/plain": [
       "<pandas.io.formats.style.Styler at 0x25bd9c1add0>"
      ]
     },
     "metadata": {},
     "output_type": "display_data"
    },
    {
     "name": "stdout",
     "output_type": "stream",
     "text": [
      "********************  Humidity outliers  ********************\n",
      "IQR : 12.0\n",
      "\n",
      "\n",
      "\n",
      "\n",
      "****************************** Moisture analysis ******************************\n"
     ]
    },
    {
     "data": {
      "image/png": "[encoded data removed]",
      "text/plain": [
       "<Figure size 1000x500 with 2 Axes>"
      ]
     },
     "metadata": {},
     "output_type": "display_data"
    },
    {
     "name": "stdout",
     "output_type": "stream",
     "text": [
      "********************  Moisture values description  ********************\n"
     ]
    },
    {
     "data": {
      "text/html": [
       "<style type=\"text/css\">\n",
       "#T_7c61d_row0_col0 {\n",
       "  background-color: #ff00ff;\n",
       "  color: #f1f1f1;\n",
       "}\n",
       "#T_7c61d_row1_col0, #T_7c61d_row2_col0, #T_7c61d_row3_col0, #T_7c61d_row4_col0, #T_7c61d_row5_col0, #T_7c61d_row6_col0, #T_7c61d_row7_col0 {\n",
       "  background-color: #00ffff;\n",
       "  color: #000000;\n",
       "}\n",
       "</style>\n",
       "<table id=\"T_7c61d\">\n",
       "  <thead>\n",
       "    <tr>\n",
       "      <th class=\"blank level0\" >&nbsp;</th>\n",
       "      <th id=\"T_7c61d_level0_col0\" class=\"col_heading level0 col0\" >Moisture</th>\n",
       "    </tr>\n",
       "  </thead>\n",
       "  <tbody>\n",
       "    <tr>\n",
       "      <th id=\"T_7c61d_level0_row0\" class=\"row_heading level0 row0\" >count</th>\n",
       "      <td id=\"T_7c61d_row0_col0\" class=\"data row0 col0\" >850000.000000</td>\n",
       "    </tr>\n",
       "    <tr>\n",
       "      <th id=\"T_7c61d_level0_row1\" class=\"row_heading level0 row1\" >mean</th>\n",
       "      <td id=\"T_7c61d_row1_col0\" class=\"data row1 col0\" >45.162887</td>\n",
       "    </tr>\n",
       "    <tr>\n",
       "      <th id=\"T_7c61d_level0_row2\" class=\"row_heading level0 row2\" >std</th>\n",
       "      <td id=\"T_7c61d_row2_col0\" class=\"data row2 col0\" >11.799929</td>\n",
       "    </tr>\n",
       "    <tr>\n",
       "      <th id=\"T_7c61d_level0_row3\" class=\"row_heading level0 row3\" >min</th>\n",
       "      <td id=\"T_7c61d_row3_col0\" class=\"data row3 col0\" >25.000000</td>\n",
       "    </tr>\n",
       "    <tr>\n",
       "      <th id=\"T_7c61d_level0_row4\" class=\"row_heading level0 row4\" >25%</th>\n",
       "      <td id=\"T_7c61d_row4_col0\" class=\"data row4 col0\" >35.000000</td>\n",
       "    </tr>\n",
       "    <tr>\n",
       "      <th id=\"T_7c61d_level0_row5\" class=\"row_heading level0 row5\" >50%</th>\n",
       "      <td id=\"T_7c61d_row5_col0\" class=\"data row5 col0\" >45.000000</td>\n",
       "    </tr>\n",
       "    <tr>\n",
       "      <th id=\"T_7c61d_level0_row6\" class=\"row_heading level0 row6\" >75%</th>\n",
       "      <td id=\"T_7c61d_row6_col0\" class=\"data row6 col0\" >55.000000</td>\n",
       "    </tr>\n",
       "    <tr>\n",
       "      <th id=\"T_7c61d_level0_row7\" class=\"row_heading level0 row7\" >max</th>\n",
       "      <td id=\"T_7c61d_row7_col0\" class=\"data row7 col0\" >65.000000</td>\n",
       "    </tr>\n",
       "  </tbody>\n",
       "</table>\n"
      ],
      "text/plain": [
       "<pandas.io.formats.style.Styler at 0x25bda14eb50>"
      ]
     },
     "metadata": {},
     "output_type": "display_data"
    },
    {
     "name": "stdout",
     "output_type": "stream",
     "text": [
      "********************  Moisture outliers  ********************\n",
      "IQR : 20.0\n",
      "\n",
      "\n",
      "\n",
      "\n",
      "****************************** Nitrogen analysis ******************************\n"
     ]
    },
    {
     "data": {
      "image/png": "[encoded data removed]",
      "text/plain": [
       "<Figure size 1000x500 with 2 Axes>"
      ]
     },
     "metadata": {},
     "output_type": "display_data"
    },
    {
     "name": "stdout",
     "output_type": "stream",
     "text": [
      "********************  Nitrogen values description  ********************\n"
     ]
    },
    {
     "data": {
      "text/html": [
       "<style type=\"text/css\">\n",
       "#T_11a33_row0_col0 {\n",
       "  background-color: #ff00ff;\n",
       "  color: #f1f1f1;\n",
       "}\n",
       "#T_11a33_row1_col0, #T_11a33_row2_col0, #T_11a33_row3_col0, #T_11a33_row4_col0, #T_11a33_row5_col0, #T_11a33_row6_col0, #T_11a33_row7_col0 {\n",
       "  background-color: #00ffff;\n",
       "  color: #000000;\n",
       "}\n",
       "</style>\n",
       "<table id=\"T_11a33\">\n",
       "  <thead>\n",
       "    <tr>\n",
       "      <th class=\"blank level0\" >&nbsp;</th>\n",
       "      <th id=\"T_11a33_level0_col0\" class=\"col_heading level0 col0\" >Nitrogen</th>\n",
       "    </tr>\n",
       "  </thead>\n",
       "  <tbody>\n",
       "    <tr>\n",
       "      <th id=\"T_11a33_level0_row0\" class=\"row_heading level0 row0\" >count</th>\n",
       "      <td id=\"T_11a33_row0_col0\" class=\"data row0 col0\" >850000.000000</td>\n",
       "    </tr>\n",
       "    <tr>\n",
       "      <th id=\"T_11a33_level0_row1\" class=\"row_heading level0 row1\" >mean</th>\n",
       "      <td id=\"T_11a33_row1_col0\" class=\"data row1 col0\" >23.081215</td>\n",
       "    </tr>\n",
       "    <tr>\n",
       "      <th id=\"T_11a33_level0_row2\" class=\"row_heading level0 row2\" >std</th>\n",
       "      <td id=\"T_11a33_row2_col0\" class=\"data row2 col0\" >11.219842</td>\n",
       "    </tr>\n",
       "    <tr>\n",
       "      <th id=\"T_11a33_level0_row3\" class=\"row_heading level0 row3\" >min</th>\n",
       "      <td id=\"T_11a33_row3_col0\" class=\"data row3 col0\" >4.000000</td>\n",
       "    </tr>\n",
       "    <tr>\n",
       "      <th id=\"T_11a33_level0_row4\" class=\"row_heading level0 row4\" >25%</th>\n",
       "      <td id=\"T_11a33_row4_col0\" class=\"data row4 col0\" >13.000000</td>\n",
       "    </tr>\n",
       "    <tr>\n",
       "      <th id=\"T_11a33_level0_row5\" class=\"row_heading level0 row5\" >50%</th>\n",
       "      <td id=\"T_11a33_row5_col0\" class=\"data row5 col0\" >23.000000</td>\n",
       "    </tr>\n",
       "    <tr>\n",
       "      <th id=\"T_11a33_level0_row6\" class=\"row_heading level0 row6\" >75%</th>\n",
       "      <td id=\"T_11a33_row6_col0\" class=\"data row6 col0\" >33.000000</td>\n",
       "    </tr>\n",
       "    <tr>\n",
       "      <th id=\"T_11a33_level0_row7\" class=\"row_heading level0 row7\" >max</th>\n",
       "      <td id=\"T_11a33_row7_col0\" class=\"data row7 col0\" >42.000000</td>\n",
       "    </tr>\n",
       "  </tbody>\n",
       "</table>\n"
      ],
      "text/plain": [
       "<pandas.io.formats.style.Styler at 0x25bdc9b9990>"
      ]
     },
     "metadata": {},
     "output_type": "display_data"
    },
    {
     "name": "stdout",
     "output_type": "stream",
     "text": [
      "********************  Nitrogen outliers  ********************\n",
      "IQR : 20.0\n",
      "\n",
      "\n",
      "\n",
      "\n",
      "****************************** Potassium analysis ******************************\n"
     ]
    },
    {
     "data": {
      "image/png": "[encoded data removed]",
      "text/plain": [
       "<Figure size 1000x500 with 2 Axes>"
      ]
     },
     "metadata": {},
     "output_type": "display_data"
    },
    {
     "name": "stdout",
     "output_type": "stream",
     "text": [
      "********************  Potassium values description  ********************\n"
     ]
    },
    {
     "data": {
      "text/html": [
       "<style type=\"text/css\">\n",
       "#T_db421_row0_col0 {\n",
       "  background-color: #ff00ff;\n",
       "  color: #f1f1f1;\n",
       "}\n",
       "#T_db421_row1_col0, #T_db421_row2_col0, #T_db421_row3_col0, #T_db421_row4_col0, #T_db421_row5_col0, #T_db421_row6_col0, #T_db421_row7_col0 {\n",
       "  background-color: #00ffff;\n",
       "  color: #000000;\n",
       "}\n",
       "</style>\n",
       "<table id=\"T_db421\">\n",
       "  <thead>\n",
       "    <tr>\n",
       "      <th class=\"blank level0\" >&nbsp;</th>\n",
       "      <th id=\"T_db421_level0_col0\" class=\"col_heading level0 col0\" >Potassium</th>\n",
       "    </tr>\n",
       "  </thead>\n",
       "  <tbody>\n",
       "    <tr>\n",
       "      <th id=\"T_db421_level0_row0\" class=\"row_heading level0 row0\" >count</th>\n",
       "      <td id=\"T_db421_row0_col0\" class=\"data row0 col0\" >850000.000000</td>\n",
       "    </tr>\n",
       "    <tr>\n",
       "      <th id=\"T_db421_level0_row1\" class=\"row_heading level0 row1\" >mean</th>\n",
       "      <td id=\"T_db421_row1_col0\" class=\"data row1 col0\" >9.477581</td>\n",
       "    </tr>\n",
       "    <tr>\n",
       "      <th id=\"T_db421_level0_row2\" class=\"row_heading level0 row2\" >std</th>\n",
       "      <td id=\"T_db421_row2_col0\" class=\"data row2 col0\" >5.765965</td>\n",
       "    </tr>\n",
       "    <tr>\n",
       "      <th id=\"T_db421_level0_row3\" class=\"row_heading level0 row3\" >min</th>\n",
       "      <td id=\"T_db421_row3_col0\" class=\"data row3 col0\" >0.000000</td>\n",
       "    </tr>\n",
       "    <tr>\n",
       "      <th id=\"T_db421_level0_row4\" class=\"row_heading level0 row4\" >25%</th>\n",
       "      <td id=\"T_db421_row4_col0\" class=\"data row4 col0\" >4.000000</td>\n",
       "    </tr>\n",
       "    <tr>\n",
       "      <th id=\"T_db421_level0_row5\" class=\"row_heading level0 row5\" >50%</th>\n",
       "      <td id=\"T_db421_row5_col0\" class=\"data row5 col0\" >9.000000</td>\n",
       "    </tr>\n",
       "    <tr>\n",
       "      <th id=\"T_db421_level0_row6\" class=\"row_heading level0 row6\" >75%</th>\n",
       "      <td id=\"T_db421_row6_col0\" class=\"data row6 col0\" >14.000000</td>\n",
       "    </tr>\n",
       "    <tr>\n",
       "      <th id=\"T_db421_level0_row7\" class=\"row_heading level0 row7\" >max</th>\n",
       "      <td id=\"T_db421_row7_col0\" class=\"data row7 col0\" >19.000000</td>\n",
       "    </tr>\n",
       "  </tbody>\n",
       "</table>\n"
      ],
      "text/plain": [
       "<pandas.io.formats.style.Styler at 0x25be1bce310>"
      ]
     },
     "metadata": {},
     "output_type": "display_data"
    },
    {
     "name": "stdout",
     "output_type": "stream",
     "text": [
      "********************  Potassium outliers  ********************\n",
      "IQR : 10.0\n",
      "\n",
      "\n",
      "\n",
      "\n",
      "****************************** Phosphorous analysis ******************************\n"
     ]
    },
    {
     "data": {
      "image/png": "[encoded data removed]",
      "text/plain": [
       "<Figure size 1000x500 with 2 Axes>"
      ]
     },
     "metadata": {},
     "output_type": "display_data"
    },
    {
     "name": "stdout",
     "output_type": "stream",
     "text": [
      "********************  Phosphorous values description  ********************\n"
     ]
    },
    {
     "data": {
      "text/html": [
       "<style type=\"text/css\">\n",
       "#T_dc8ce_row0_col0 {\n",
       "  background-color: #ff00ff;\n",
       "  color: #f1f1f1;\n",
       "}\n",
       "#T_dc8ce_row1_col0, #T_dc8ce_row2_col0, #T_dc8ce_row3_col0, #T_dc8ce_row4_col0, #T_dc8ce_row5_col0, #T_dc8ce_row6_col0, #T_dc8ce_row7_col0 {\n",
       "  background-color: #00ffff;\n",
       "  color: #000000;\n",
       "}\n",
       "</style>\n",
       "<table id=\"T_dc8ce\">\n",
       "  <thead>\n",
       "    <tr>\n",
       "      <th class=\"blank level0\" >&nbsp;</th>\n",
       "      <th id=\"T_dc8ce_level0_col0\" class=\"col_heading level0 col0\" >Phosphorous</th>\n",
       "    </tr>\n",
       "  </thead>\n",
       "  <tbody>\n",
       "    <tr>\n",
       "      <th id=\"T_dc8ce_level0_row0\" class=\"row_heading level0 row0\" >count</th>\n",
       "      <td id=\"T_dc8ce_row0_col0\" class=\"data row0 col0\" >850000.000000</td>\n",
       "    </tr>\n",
       "    <tr>\n",
       "      <th id=\"T_dc8ce_level0_row1\" class=\"row_heading level0 row1\" >mean</th>\n",
       "      <td id=\"T_dc8ce_row1_col0\" class=\"data row1 col0\" >21.066198</td>\n",
       "    </tr>\n",
       "    <tr>\n",
       "      <th id=\"T_dc8ce_level0_row2\" class=\"row_heading level0 row2\" >std</th>\n",
       "      <td id=\"T_dc8ce_row2_col0\" class=\"data row2 col0\" >12.352064</td>\n",
       "    </tr>\n",
       "    <tr>\n",
       "      <th id=\"T_dc8ce_level0_row3\" class=\"row_heading level0 row3\" >min</th>\n",
       "      <td id=\"T_dc8ce_row3_col0\" class=\"data row3 col0\" >0.000000</td>\n",
       "    </tr>\n",
       "    <tr>\n",
       "      <th id=\"T_dc8ce_level0_row4\" class=\"row_heading level0 row4\" >25%</th>\n",
       "      <td id=\"T_dc8ce_row4_col0\" class=\"data row4 col0\" >10.000000</td>\n",
       "    </tr>\n",
       "    <tr>\n",
       "      <th id=\"T_dc8ce_level0_row5\" class=\"row_heading level0 row5\" >50%</th>\n",
       "      <td id=\"T_dc8ce_row5_col0\" class=\"data row5 col0\" >21.000000</td>\n",
       "    </tr>\n",
       "    <tr>\n",
       "      <th id=\"T_dc8ce_level0_row6\" class=\"row_heading level0 row6\" >75%</th>\n",
       "      <td id=\"T_dc8ce_row6_col0\" class=\"data row6 col0\" >32.000000</td>\n",
       "    </tr>\n",
       "    <tr>\n",
       "      <th id=\"T_dc8ce_level0_row7\" class=\"row_heading level0 row7\" >max</th>\n",
       "      <td id=\"T_dc8ce_row7_col0\" class=\"data row7 col0\" >42.000000</td>\n",
       "    </tr>\n",
       "  </tbody>\n",
       "</table>\n"
      ],
      "text/plain": [
       "<pandas.io.formats.style.Styler at 0x25be1d148d0>"
      ]
     },
     "metadata": {},
     "output_type": "display_data"
    },
    {
     "name": "stdout",
     "output_type": "stream",
     "text": [
      "********************  Phosphorous outliers  ********************\n",
      "IQR : 22.0\n",
      "\n",
      "\n",
      "\n",
      "\n"
     ]
    }
   ],
   "source": [
    "for col in cols_to_analyze:\n",
    "    num_analysis(df=df,col=col)"
   ]
  },
  {
   "cell_type": "markdown",
   "id": "65a671f7",
   "metadata": {},
   "source": [
    "# Observations\n",
    "1. All very uniform values, nothing particularly stands out"
   ]
  },
  {
   "cell_type": "markdown",
   "id": "5faa45c6",
   "metadata": {},
   "source": [
    "# Categorical Analysis"
   ]
  },
  {
   "cell_type": "code",
   "execution_count": 7,
   "id": "46792ec2",
   "metadata": {},
   "outputs": [
    {
     "name": "stdout",
     "output_type": "stream",
     "text": [
      "****************************** Soil Type analysis ******************************\n",
      "Number of Unique Soil Type values: 5\n"
     ]
    },
    {
     "data": {
      "image/png": "[encoded data removed]",
      "text/plain": [
       "<Figure size 800x400 with 1 Axes>"
      ]
     },
     "metadata": {},
     "output_type": "display_data"
    },
    {
     "name": "stdout",
     "output_type": "stream",
     "text": [
      "\n",
      "\n",
      "\n",
      "\n",
      "****************************** Crop Type analysis ******************************\n",
      "Number of Unique Crop Type values: 11\n",
      "Top values for Crop Type\n"
     ]
    },
    {
     "data": {
      "text/html": [
       "<div>\n",
       "<style scoped>\n",
       "    .dataframe tbody tr th:only-of-type {\n",
       "        vertical-align: middle;\n",
       "    }\n",
       "\n",
       "    .dataframe tbody tr th {\n",
       "        vertical-align: top;\n",
       "    }\n",
       "\n",
       "    .dataframe thead th {\n",
       "        text-align: right;\n",
       "    }\n",
       "</style>\n",
       "<table border=\"1\" class=\"dataframe\">\n",
       "  <thead>\n",
       "    <tr style=\"text-align: right;\">\n",
       "      <th></th>\n",
       "      <th>Crop Type</th>\n",
       "      <th>count</th>\n",
       "    </tr>\n",
       "  </thead>\n",
       "  <tbody>\n",
       "    <tr>\n",
       "      <th>0</th>\n",
       "      <td>Paddy</td>\n",
       "      <td>94857</td>\n",
       "    </tr>\n",
       "    <tr>\n",
       "      <th>1</th>\n",
       "      <td>Pulses</td>\n",
       "      <td>87252</td>\n",
       "    </tr>\n",
       "    <tr>\n",
       "      <th>2</th>\n",
       "      <td>Cotton</td>\n",
       "      <td>78408</td>\n",
       "    </tr>\n",
       "    <tr>\n",
       "      <th>3</th>\n",
       "      <td>Tobacco</td>\n",
       "      <td>77224</td>\n",
       "    </tr>\n",
       "    <tr>\n",
       "      <th>4</th>\n",
       "      <td>Wheat</td>\n",
       "      <td>75540</td>\n",
       "    </tr>\n",
       "  </tbody>\n",
       "</table>\n",
       "</div>"
      ],
      "text/plain": [
       "  Crop Type  count\n",
       "0     Paddy  94857\n",
       "1    Pulses  87252\n",
       "2    Cotton  78408\n",
       "3   Tobacco  77224\n",
       "4     Wheat  75540"
      ]
     },
     "metadata": {},
     "output_type": "display_data"
    },
    {
     "name": "stdout",
     "output_type": "stream",
     "text": [
      "\n",
      "\n",
      "\n",
      "\n",
      "****************************** Fertilizer Name analysis ******************************\n",
      "Number of Unique Fertilizer Name values: 7\n"
     ]
    },
    {
     "data": {
      "image/png": "[encoded data removed]",
      "text/plain": [
       "<Figure size 800x400 with 1 Axes>"
      ]
     },
     "metadata": {},
     "output_type": "display_data"
    },
    {
     "name": "stdout",
     "output_type": "stream",
     "text": [
      "\n",
      "\n",
      "\n",
      "\n"
     ]
    }
   ],
   "source": [
    "for col in cat_cols:\n",
    "    categorical_analysis(df=df,col=col)"
   ]
  },
  {
   "cell_type": "markdown",
   "id": "788c1e7b",
   "metadata": {},
   "source": [
    "# Observations\n",
    "1. Very uniform distribution\n",
    "2. Values can likely be one hot encoded\n",
    "3. Label encode the fertilizer"
   ]
  },
  {
   "cell_type": "markdown",
   "id": "bc62edf8",
   "metadata": {},
   "source": [
    "# Correlation Analysis"
   ]
  },
  {
   "cell_type": "code",
   "execution_count": 8,
   "id": "63b88dd1",
   "metadata": {},
   "outputs": [
    {
     "data": {
      "image/png": "[encoded data removed]",
      "text/plain": [
       "<Figure size 1000x1000 with 2 Axes>"
      ]
     },
     "metadata": {},
     "output_type": "display_data"
    }
   ],
   "source": [
    "df_corr = df[num_cols].corr()\n",
    "plt.figure(figsize=(10,10))\n",
    "plt.title(\"Numerical Correlations\")\n",
    "sns.heatmap(df_corr,annot=True)\n",
    "plt.tight_layout()\n",
    "plt.show()\n"
   ]
  },
  {
   "cell_type": "code",
   "execution_count": 9,
   "id": "902c718b",
   "metadata": {},
   "outputs": [
    {
     "data": {
      "text/plain": [
       "Index(['id', 'Temparature', 'Humidity', 'Moisture', 'Soil Type', 'Crop Type',\n",
       "       'Nitrogen', 'Potassium', 'Phosphorous', 'Fertilizer Name'],\n",
       "      dtype='object')"
      ]
     },
     "execution_count": 9,
     "metadata": {},
     "output_type": "execute_result"
    }
   ],
   "source": [
    "df.columns"
   ]
  },
  {
   "cell_type": "code",
   "execution_count": 10,
   "id": "69de032e",
   "metadata": {},
   "outputs": [
    {
     "data": {
      "text/plain": [
       "Index(['id', 'Temparature', 'Humidity', 'Moisture', 'Nitrogen', 'Potassium',\n",
       "       'Phosphorous'],\n",
       "      dtype='object')"
      ]
     },
     "execution_count": 10,
     "metadata": {},
     "output_type": "execute_result"
    }
   ],
   "source": [
    "num_cols"
   ]
  },
  {
   "cell_type": "markdown",
   "id": "56011114",
   "metadata": {},
   "source": [
    "# Observations\n",
    "1. No highly correlated items, no risk of multicollinearity"
   ]
  },
  {
   "cell_type": "markdown",
   "id": "fdff4d0c",
   "metadata": {},
   "source": [
    "# Business Related Analysis\n"
   ]
  },
  {
   "cell_type": "code",
   "execution_count": 11,
   "id": "28614352",
   "metadata": {},
   "outputs": [
    {
     "data": {
      "image/png": "[encoded data removed]",
      "text/plain": [
       "<Figure size 1800x600 with 3 Axes>"
      ]
     },
     "metadata": {},
     "output_type": "display_data"
    }
   ],
   "source": [
    "# What is the relationship between the type of soil, and the recorded temperature, humidity and moisture?\n",
    "\n",
    "fig,axs = plt.subplots(ncols=3,nrows=1,figsize=(18,6))\n",
    "axs[0].set_title(\"Soil Type vs Moisture\")\n",
    "sns.boxplot(data=df,x='Moisture',hue='Soil Type',ax=axs[0])\n",
    "axs[1].set_title(\"Soil Type vs Humidity\")\n",
    "sns.boxplot(data=df,x='Humidity',hue='Soil Type',ax=axs[1])\n",
    "axs[2].set_title(\"Soil Type vs Temperature\")\n",
    "sns.boxplot(data=df,x='Temparature',hue='Soil Type',ax=axs[2])\n",
    "\n",
    "axs[0].legend(loc='upper right')\n",
    "axs[1].legend(loc='upper right')\n",
    "axs[2].legend(loc='upper right')\n",
    "\n",
    "plt.show()\n",
    "\n",
    "\n"
   ]
  },
  {
   "cell_type": "markdown",
   "id": "dcd264fe",
   "metadata": {},
   "source": [
    "- No strong relationships as each soil type exists under a very similar environment"
   ]
  },
  {
   "cell_type": "code",
   "execution_count": 12,
   "id": "5f7ba878",
   "metadata": {},
   "outputs": [
    {
     "data": {
      "image/png": "[encoded data removed]",
      "text/plain": [
       "<Figure size 1800x600 with 3 Axes>"
      ]
     },
     "metadata": {},
     "output_type": "display_data"
    }
   ],
   "source": [
    "# What is the relationship between the type of soil, and the different minerals?\n",
    "\n",
    "fig,axs = plt.subplots(ncols=3,nrows=1,figsize=(18,6))\n",
    "axs[0].set_title(\"Soil Type vs Potassium\")\n",
    "sns.boxplot(data=df,x='Potassium',hue='Soil Type',ax=axs[0])\n",
    "axs[1].set_title(\"Soil Type vs Nitrogen\")\n",
    "sns.boxplot(data=df,x='Nitrogen',hue='Soil Type',ax=axs[1])\n",
    "axs[2].set_title(\"Soil Type vs Phosphorous\")\n",
    "sns.boxplot(data=df,x='Phosphorous',hue='Soil Type',ax=axs[2])\n",
    "\n",
    "axs[0].legend(loc='upper right')\n",
    "axs[1].legend(loc='upper right')\n",
    "axs[2].legend(loc='upper right')\n",
    "\n",
    "plt.show()\n",
    "\n"
   ]
  },
  {
   "cell_type": "markdown",
   "id": "0c4b1b1b",
   "metadata": {},
   "source": [
    "- Quite uniform however certain types of clay contain higher levels of each mineral"
   ]
  },
  {
   "cell_type": "code",
   "execution_count": 13,
   "id": "345d18e5",
   "metadata": {},
   "outputs": [
    {
     "data": {
      "text/plain": [
       "Index(['Soil Type', 'Crop Type', 'Fertilizer Name'], dtype='object')"
      ]
     },
     "execution_count": 13,
     "metadata": {},
     "output_type": "execute_result"
    }
   ],
   "source": [
    "cat_cols"
   ]
  },
  {
   "cell_type": "code",
   "execution_count": 14,
   "id": "9bb614bd",
   "metadata": {},
   "outputs": [
    {
     "data": {
      "text/plain": [
       "<Axes: xlabel='Crop Type', ylabel='Soil Type'>"
      ]
     },
     "execution_count": 14,
     "metadata": {},
     "output_type": "execute_result"
    },
    {
     "data": {
      "image/png": "[encoded data removed]",
      "text/plain": [
       "<Figure size 640x480 with 2 Axes>"
      ]
     },
     "metadata": {},
     "output_type": "display_data"
    }
   ],
   "source": [
    "# What is the relationship between clay type and also the crops which tend to be grown?\n",
    "\n",
    "soil_crop_crosstab = pd.crosstab(df['Soil Type'], df['Crop Type'], normalize='index')\n",
    "sns.heatmap(soil_crop_crosstab, cmap='Blues', annot=True, fmt='.2f')\n",
    "\n"
   ]
  },
  {
   "cell_type": "code",
   "execution_count": 15,
   "id": "6213c5e7",
   "metadata": {},
   "outputs": [
    {
     "name": "stdout",
     "output_type": "stream",
     "text": [
      "Chi-squared: 702.58\n",
      "P-value: 0.0000\n"
     ]
    },
    {
     "data": {
      "text/plain": [
       "0.014375059370788864"
      ]
     },
     "execution_count": 15,
     "metadata": {},
     "output_type": "execute_result"
    }
   ],
   "source": [
    "from scipy.stats import chi2_contingency\n",
    "\n",
    "contingency = pd.crosstab(df['Soil Type'], df['Crop Type'])\n",
    "chi2, p, dof, expected = chi2_contingency(contingency)\n",
    "\n",
    "\n",
    "print(f\"Chi-squared: {chi2:.2f}\")\n",
    "print(f\"P-value: {p:.4f}\")\n",
    "\n",
    "\n",
    "import numpy as np\n",
    "\n",
    "def cramers_v(confusion_matrix):\n",
    "    chi2 = chi2_contingency(confusion_matrix)[0]\n",
    "    n = confusion_matrix.sum().sum()\n",
    "    r, k = confusion_matrix.shape\n",
    "    return np.sqrt(chi2 / (n * (min(r, k)-1)))\n",
    "\n",
    "cramers_v(contingency)\n"
   ]
  },
  {
   "cell_type": "markdown",
   "id": "b60365be",
   "metadata": {},
   "source": [
    "- There is a relationship but it is a weak relationship"
   ]
  },
  {
   "cell_type": "markdown",
   "id": "7b9559bd",
   "metadata": {},
   "source": [
    "# Preprocessing\n",
    "1. One hot encode"
   ]
  },
  {
   "cell_type": "code",
   "execution_count": 16,
   "id": "c621da50",
   "metadata": {},
   "outputs": [],
   "source": [
    "from sklearn.model_selection import train_test_split, StratifiedKFold\n",
    "from sklearn.pipeline import Pipeline\n",
    "from sklearn.preprocessing import StandardScaler, OneHotEncoder, FunctionTransformer, LabelEncoder\n",
    "from sklearn.compose import ColumnTransformer\n",
    "from sklearn.metrics import accuracy_score, average_precision_score, label_ranking_average_precision_score\n",
    "from sklearn.impute import SimpleImputer\n",
    "import xgboost as xgb\n",
    "from catboost import CatBoostClassifier\n",
    "from lightgbm import LGBMClassifier\n",
    "import optuna\n",
    "from sklearn.model_selection import cross_val_score\n",
    "from sklearn.metrics import roc_auc_score\n"
   ]
  },
  {
   "cell_type": "code",
   "execution_count": 17,
   "id": "472edfbc",
   "metadata": {},
   "outputs": [],
   "source": [
    "def preprocessor(df):\n",
    "    X = df.copy()\n",
    "    X['temp_humidity'] = X['Temparature']*X['Humidity']\n",
    "    X['tot_nutrients'] = X['Nitrogen'] + X['Potassium'] + X['Phosphorous']\n",
    "    X[\"N_P_ratio\"] = X[\"Nitrogen\"] / (X[\"Phosphorous\"] + 1e-5)\n",
    "    X[\"N_K_ratio\"] = X[\"Nitrogen\"] / (X[\"Potassium\"] + 1e-5)\n",
    "    X[\"P_K_ratio\"] = X[\"Phosphorous\"] / (X[\"Potassium\"] + 1e-5)\n",
    "    X = pd.get_dummies(X, columns=['Soil Type', 'Crop Type'])\n",
    "    X.drop(columns='id',inplace=True)\n",
    "    \n",
    "    return X\n",
    "\n"
   ]
  },
  {
   "cell_type": "code",
   "execution_count": 18,
   "id": "9a3bcaae",
   "metadata": {},
   "outputs": [],
   "source": [
    "df_t = preprocessor(df)"
   ]
  },
  {
   "cell_type": "code",
   "execution_count": 19,
   "id": "5e637842",
   "metadata": {},
   "outputs": [
    {
     "data": {
      "text/plain": [
       "Index(['Temparature', 'Humidity', 'Moisture', 'Nitrogen', 'Potassium',\n",
       "       'Phosphorous', 'Fertilizer Name', 'temp_humidity', 'tot_nutrients',\n",
       "       'N_P_ratio', 'N_K_ratio', 'P_K_ratio', 'Soil Type_Black',\n",
       "       'Soil Type_Clayey', 'Soil Type_Loamy', 'Soil Type_Red',\n",
       "       'Soil Type_Sandy', 'Crop Type_Barley', 'Crop Type_Cotton',\n",
       "       'Crop Type_Ground Nuts', 'Crop Type_Maize', 'Crop Type_Millets',\n",
       "       'Crop Type_Oil seeds', 'Crop Type_Paddy', 'Crop Type_Pulses',\n",
       "       'Crop Type_Sugarcane', 'Crop Type_Tobacco', 'Crop Type_Wheat'],\n",
       "      dtype='object')"
      ]
     },
     "execution_count": 19,
     "metadata": {},
     "output_type": "execute_result"
    }
   ],
   "source": [
    "df_t.columns"
   ]
  },
  {
   "cell_type": "code",
   "execution_count": 20,
   "id": "28254d9d",
   "metadata": {},
   "outputs": [],
   "source": [
    "X = df_t.drop(columns=['Fertilizer Name'])\n",
    "y = df_t['Fertilizer Name']"
   ]
  },
  {
   "cell_type": "code",
   "execution_count": 21,
   "id": "cc3e26c4",
   "metadata": {},
   "outputs": [],
   "source": [
    "# Label Encode y\n",
    "\n",
    "encoder = LabelEncoder()\n",
    "\n",
    "y = encoder.fit_transform(y)"
   ]
  },
  {
   "cell_type": "code",
   "execution_count": 22,
   "id": "0c6a700d",
   "metadata": {},
   "outputs": [],
   "source": [
    "X_train, X_test, y_train, y_test = train_test_split(X,y,test_size=0.2)"
   ]
  },
  {
   "cell_type": "code",
   "execution_count": 23,
   "id": "a0832104",
   "metadata": {},
   "outputs": [],
   "source": [
    "cat_cols_pipeline = cat_cols.drop('Fertilizer Name')"
   ]
  },
  {
   "cell_type": "code",
   "execution_count": 24,
   "id": "ba8a805a",
   "metadata": {},
   "outputs": [
    {
     "name": "stdout",
     "output_type": "stream",
     "text": [
      "Index(['Soil Type', 'Crop Type'], dtype='object')\n"
     ]
    }
   ],
   "source": [
    "print(cat_cols_pipeline)"
   ]
  },
  {
   "cell_type": "code",
   "execution_count": null,
   "id": "6384ec43",
   "metadata": {},
   "outputs": [],
   "source": []
  },
  {
   "cell_type": "code",
   "execution_count": 25,
   "id": "eb9fcf67",
   "metadata": {},
   "outputs": [],
   "source": [
    "def pipeline_stack(model):\n",
    "\n",
    "    preprocessor = ColumnTransformer(transformers=[\n",
    "        ('cat',OneHotEncoder(handle_unknown='ignore'),cat_cols_pipeline),\n",
    "        ],\n",
    "        remainder ='passthrough'\n",
    "    )\n",
    "\n",
    "    pipeline = Pipeline(steps=[\n",
    "        ('preprocessor',preprocessor),\n",
    "        ('model',model)\n",
    "    ])\n",
    "\n",
    "    return pipeline\n",
    "\n",
    "\n"
   ]
  },
  {
   "cell_type": "code",
   "execution_count": 26,
   "id": "96936133",
   "metadata": {},
   "outputs": [
    {
     "data": {
      "text/plain": [
       "array([6, 4, 4, ..., 0, 3, 5])"
      ]
     },
     "execution_count": 26,
     "metadata": {},
     "output_type": "execute_result"
    }
   ],
   "source": [
    "y_train"
   ]
  },
  {
   "cell_type": "code",
   "execution_count": 27,
   "id": "1c17f179",
   "metadata": {},
   "outputs": [],
   "source": [
    "def map_at_k(y_true, y_pred_proba, k=3):\n",
    "    num_classes = y_pred_proba.shape[1]\n",
    "    top_k_pred = np.argsort(y_pred_proba,axis=1)[:,-k:][:,::-1]\n",
    "    y_true_binary = np.zeros((len(y_true), num_classes), dtype=bool)\n",
    "    y_true_binary[np.arange(len(y_true)),y_true] = 1\n",
    "\n",
    "    top_k_binary = np.take_along_axis(y_true_binary, top_k_pred, axis=1)\n",
    "    top_k_proba = np.take_along_axis(y_pred_proba, top_k_pred, axis=1)\n",
    "    \n",
    "    return label_ranking_average_precision_score(top_k_binary, top_k_proba)"
   ]
  },
  {
   "cell_type": "code",
   "execution_count": 28,
   "id": "54485094",
   "metadata": {},
   "outputs": [],
   "source": [
    "from sklearn.preprocessing import label_binarize\n",
    "\n",
    "def map3(actual, predicted_proba, k=3):\n",
    "    top_k_preds = np.argsort(predicted_proba, axis=1)[:, ::-1][:, :k]\n",
    "    score = 0.0\n",
    "    for i in range(len(actual)):\n",
    "        if actual[i] in top_k_preds[i]:\n",
    "            rank = np.where(top_k_preds[i] == actual[i])[0][0]\n",
    "            score += 1 / (rank + 1)\n",
    "    return score / len(actual)"
   ]
  },
  {
   "cell_type": "code",
   "execution_count": 29,
   "id": "6e43afa6",
   "metadata": {},
   "outputs": [
    {
     "data": {
      "text/plain": [
       "Index(['Soil Type', 'Crop Type', 'Fertilizer Name'], dtype='object')"
      ]
     },
     "execution_count": 29,
     "metadata": {},
     "output_type": "execute_result"
    }
   ],
   "source": [
    "cat_cols"
   ]
  },
  {
   "cell_type": "code",
   "execution_count": 30,
   "id": "a26bc57c",
   "metadata": {},
   "outputs": [
    {
     "name": "stderr",
     "output_type": "stream",
     "text": [
      "[I 2025-06-09 14:55:32,988] A new study created in memory with name: no-name-a0565bc0-1281-4194-ad02-9ed84f76daca\n",
      "[I 2025-06-09 14:56:50,247] Trial 0 finished with value: 0.3351458823529009 and parameters: {'n_estimators': 525, 'learning_rate': 0.39260714596148744, 'max_depth': 6, 'reg_lambda': 6.387926357773329}. Best is trial 0 with value: 0.3351458823529009.\n",
      "[I 2025-06-09 14:58:54,143] Trial 1 finished with value: 0.3338576470587823 and parameters: {'n_estimators': 481, 'learning_rate': 0.2733991780504304, 'max_depth': 4, 'reg_lambda': 8.795585311974417}. Best is trial 0 with value: 0.3351458823529009.\n",
      "[I 2025-06-09 15:01:23,308] Trial 2 finished with value: 0.33584098039211774 and parameters: {'n_estimators': 570, 'learning_rate': 0.3562108866694068, 'max_depth': 4, 'reg_lambda': 9.72918866945795}. Best is trial 2 with value: 0.33584098039211774.\n",
      "[I 2025-06-09 15:04:04,564] Trial 3 finished with value: 0.3353737254901572 and parameters: {'n_estimators': 617, 'learning_rate': 0.2818508666017414, 'max_depth': 4, 'reg_lambda': 2.650640588680904}. Best is trial 2 with value: 0.33584098039211774.\n",
      "[I 2025-06-09 15:06:07,648] Trial 4 finished with value: 0.33675647058819747 and parameters: {'n_estimators': 511, 'learning_rate': 0.3287134647448357, 'max_depth': 5, 'reg_lambda': 3.6210622617823773}. Best is trial 4 with value: 0.33675647058819747.\n",
      "[I 2025-06-09 15:08:39,446] Trial 5 finished with value: 0.3369923529411386 and parameters: {'n_estimators': 572, 'learning_rate': 0.2709240790978063, 'max_depth': 5, 'reg_lambda': 4.297256589643226}. Best is trial 5 with value: 0.3369923529411386.\n",
      "[I 2025-06-09 15:11:00,942] Trial 6 finished with value: 0.3358964705881965 and parameters: {'n_estimators': 541, 'learning_rate': 0.36777639420895203, 'max_depth': 4, 'reg_lambda': 5.628109945722504}. Best is trial 5 with value: 0.3369923529411386.\n",
      "[I 2025-06-09 15:13:04,430] Trial 7 finished with value: 0.3367443137254522 and parameters: {'n_estimators': 569, 'learning_rate': 0.2569675619079997, 'max_depth': 6, 'reg_lambda': 2.5347171131856236}. Best is trial 5 with value: 0.3369923529411386.\n",
      "[I 2025-06-09 15:14:16,511] Trial 8 finished with value: 0.333765686274468 and parameters: {'n_estimators': 463, 'learning_rate': 0.392332830588, 'max_depth': 7, 'reg_lambda': 8.275576133048151}. Best is trial 5 with value: 0.3369923529411386.\n",
      "[I 2025-06-09 15:16:17,383] Trial 9 finished with value: 0.3364068627450598 and parameters: {'n_estimators': 511, 'learning_rate': 0.26465081710095756, 'max_depth': 6, 'reg_lambda': 4.961372443656412}. Best is trial 5 with value: 0.3369923529411386.\n",
      "[I 2025-06-09 15:18:23,758] Trial 10 finished with value: 0.33600588235290263 and parameters: {'n_estimators': 642, 'learning_rate': 0.30455915104324466, 'max_depth': 5, 'reg_lambda': 1.1616568805333776}. Best is trial 5 with value: 0.3369923529411386.\n",
      "[I 2025-06-09 15:20:38,167] Trial 11 finished with value: 0.33705490196074644 and parameters: {'n_estimators': 593, 'learning_rate': 0.3251197728951597, 'max_depth': 5, 'reg_lambda': 3.9282399817415636}. Best is trial 11 with value: 0.33705490196074644.\n",
      "[I 2025-06-09 15:22:52,802] Trial 12 finished with value: 0.33724627450976696 and parameters: {'n_estimators': 599, 'learning_rate': 0.30694063651303355, 'max_depth': 5, 'reg_lambda': 4.2048210100149435}. Best is trial 12 with value: 0.33724627450976696.\n",
      "[I 2025-06-09 15:25:12,354] Trial 13 finished with value: 0.3375645098038851 and parameters: {'n_estimators': 606, 'learning_rate': 0.31592862835639085, 'max_depth': 5, 'reg_lambda': 6.869911813648873}. Best is trial 13 with value: 0.3375645098038851.\n",
      "[I 2025-06-09 15:26:43,636] Trial 14 finished with value: 0.3351282352940773 and parameters: {'n_estimators': 612, 'learning_rate': 0.30219448016676936, 'max_depth': 7, 'reg_lambda': 7.045569761101486}. Best is trial 13 with value: 0.3375645098038851.\n",
      "[I 2025-06-09 15:29:13,304] Trial 15 finished with value: 0.33730411764702173 and parameters: {'n_estimators': 642, 'learning_rate': 0.30185406178724, 'max_depth': 5, 'reg_lambda': 7.127816269683817}. Best is trial 13 with value: 0.3375645098038851.\n",
      "[I 2025-06-09 15:30:42,248] Trial 16 finished with value: 0.33528490196074395 and parameters: {'n_estimators': 649, 'learning_rate': 0.3532743642861158, 'max_depth': 6, 'reg_lambda': 7.407800219920706}. Best is trial 13 with value: 0.3375645098038851.\n",
      "[I 2025-06-09 15:33:06,918] Trial 17 finished with value: 0.33706745098035484 and parameters: {'n_estimators': 634, 'learning_rate': 0.28958470008078463, 'max_depth': 5, 'reg_lambda': 6.064429990809578}. Best is trial 13 with value: 0.3375645098038851.\n",
      "[I 2025-06-09 15:34:46,741] Trial 18 finished with value: 0.3362809803921184 and parameters: {'n_estimators': 622, 'learning_rate': 0.3349060261598345, 'max_depth': 6, 'reg_lambda': 7.672626854120868}. Best is trial 13 with value: 0.3375645098038851.\n",
      "[I 2025-06-09 15:37:20,541] Trial 19 finished with value: 0.3356656862744706 and parameters: {'n_estimators': 588, 'learning_rate': 0.34411124435206114, 'max_depth': 4, 'reg_lambda': 9.964152904250923}. Best is trial 13 with value: 0.3375645098038851.\n",
      "[I 2025-06-09 15:39:34,579] Trial 20 finished with value: 0.3365764705881975 and parameters: {'n_estimators': 625, 'learning_rate': 0.3152977426464545, 'max_depth': 5, 'reg_lambda': 6.665863409966074}. Best is trial 13 with value: 0.3375645098038851.\n",
      "[I 2025-06-09 15:41:59,584] Trial 21 finished with value: 0.3372456862744725 and parameters: {'n_estimators': 598, 'learning_rate': 0.29782241137910326, 'max_depth': 5, 'reg_lambda': 5.421570148534087}. Best is trial 13 with value: 0.3375645098038851.\n",
      "[I 2025-06-09 15:44:10,000] Trial 22 finished with value: 0.33659078431368716 and parameters: {'n_estimators': 601, 'learning_rate': 0.31425542821817204, 'max_depth': 5, 'reg_lambda': 4.95073360730484}. Best is trial 13 with value: 0.3375645098038851.\n",
      "[I 2025-06-09 15:46:29,259] Trial 23 finished with value: 0.3369588235293737 and parameters: {'n_estimators': 650, 'learning_rate': 0.3126231283092502, 'max_depth': 5, 'reg_lambda': 8.450085335117869}. Best is trial 13 with value: 0.3375645098038851.\n",
      "[I 2025-06-09 15:48:18,488] Trial 24 finished with value: 0.33631313725486334 and parameters: {'n_estimators': 553, 'learning_rate': 0.2881227486991887, 'max_depth': 6, 'reg_lambda': 2.990340352765161}. Best is trial 13 with value: 0.3375645098038851.\n",
      "[I 2025-06-09 15:50:35,348] Trial 25 finished with value: 0.337092745098002 and parameters: {'n_estimators': 582, 'learning_rate': 0.33983115304765804, 'max_depth': 5, 'reg_lambda': 7.76708542716981}. Best is trial 13 with value: 0.3375645098038851.\n",
      "[I 2025-06-09 15:53:15,163] Trial 26 finished with value: 0.33578098039211757 and parameters: {'n_estimators': 611, 'learning_rate': 0.3167236456386898, 'max_depth': 4, 'reg_lambda': 4.6731454854902275}. Best is trial 13 with value: 0.3375645098038851.\n",
      "[I 2025-06-09 15:55:45,453] Trial 27 finished with value: 0.337270588235257 and parameters: {'n_estimators': 630, 'learning_rate': 0.2979896361914936, 'max_depth': 5, 'reg_lambda': 6.069333738937711}. Best is trial 13 with value: 0.3375645098038851.\n",
      "[I 2025-06-09 15:57:39,362] Trial 28 finished with value: 0.3367598039215304 and parameters: {'n_estimators': 635, 'learning_rate': 0.29286568673773433, 'max_depth': 6, 'reg_lambda': 9.123914338438064}. Best is trial 13 with value: 0.3375645098038851.\n",
      "[I 2025-06-09 15:59:35,894] Trial 29 finished with value: 0.3369817647058443 and parameters: {'n_estimators': 630, 'learning_rate': 0.27866738317966255, 'max_depth': 6, 'reg_lambda': 6.268640174494242}. Best is trial 13 with value: 0.3375645098038851.\n",
      "[I 2025-06-09 16:02:14,722] Trial 30 finished with value: 0.3349513725489804 and parameters: {'n_estimators': 609, 'learning_rate': 0.2515629786920931, 'max_depth': 4, 'reg_lambda': 6.82867699771936}. Best is trial 13 with value: 0.3375645098038851.\n",
      "[I 2025-06-09 16:04:36,957] Trial 31 finished with value: 0.33715529411760925 and parameters: {'n_estimators': 624, 'learning_rate': 0.30586096666605106, 'max_depth': 5, 'reg_lambda': 5.981223152735844}. Best is trial 13 with value: 0.3375645098038851.\n",
      "[I 2025-06-09 16:06:53,513] Trial 32 finished with value: 0.3373662745097662 and parameters: {'n_estimators': 638, 'learning_rate': 0.3218033707569185, 'max_depth': 5, 'reg_lambda': 5.497992906859358}. Best is trial 13 with value: 0.3375645098038851.\n",
      "[I 2025-06-09 16:08:58,050] Trial 33 finished with value: 0.3368594117646681 and parameters: {'n_estimators': 639, 'learning_rate': 0.3287490494085021, 'max_depth': 5, 'reg_lambda': 7.022058180716762}. Best is trial 13 with value: 0.3375645098038851.\n",
      "[I 2025-06-09 16:11:46,024] Trial 34 finished with value: 0.3363325490195692 and parameters: {'n_estimators': 643, 'learning_rate': 0.32218462783508134, 'max_depth': 4, 'reg_lambda': 5.634554660533964}. Best is trial 13 with value: 0.3375645098038851.\n",
      "[I 2025-06-09 16:14:23,351] Trial 35 finished with value: 0.337679999999963 and parameters: {'n_estimators': 618, 'learning_rate': 0.2815257876253714, 'max_depth': 5, 'reg_lambda': 8.055553923562961}. Best is trial 35 with value: 0.337679999999963.\n",
      "[I 2025-06-09 16:17:11,677] Trial 36 finished with value: 0.33826039215682563 and parameters: {'n_estimators': 580, 'learning_rate': 0.2807935577161872, 'max_depth': 5, 'reg_lambda': 9.133692791492193}. Best is trial 36 with value: 0.33826039215682563.\n",
      "[I 2025-06-09 16:19:42,789] Trial 37 finished with value: 0.33494941176466636 and parameters: {'n_estimators': 575, 'learning_rate': 0.27041331016384085, 'max_depth': 4, 'reg_lambda': 9.36579066369502}. Best is trial 36 with value: 0.33826039215682563.\n",
      "[I 2025-06-09 16:22:18,834] Trial 38 finished with value: 0.3378356862744736 and parameters: {'n_estimators': 549, 'learning_rate': 0.27924739777160495, 'max_depth': 5, 'reg_lambda': 8.913838290630839}. Best is trial 36 with value: 0.33826039215682563.\n",
      "[I 2025-06-09 16:24:43,769] Trial 39 finished with value: 0.3344382352940778 and parameters: {'n_estimators': 546, 'learning_rate': 0.26188501829243416, 'max_depth': 4, 'reg_lambda': 8.275066211135554}. Best is trial 36 with value: 0.33826039215682563.\n",
      "[I 2025-06-09 16:27:27,175] Trial 40 finished with value: 0.33836411764702307 and parameters: {'n_estimators': 561, 'learning_rate': 0.2804165735001245, 'max_depth': 5, 'reg_lambda': 9.004723877706862}. Best is trial 40 with value: 0.33836411764702307.\n",
      "[I 2025-06-09 16:30:06,969] Trial 41 finished with value: 0.33796705882349315 and parameters: {'n_estimators': 561, 'learning_rate': 0.278003587961449, 'max_depth': 5, 'reg_lambda': 9.417379223885167}. Best is trial 40 with value: 0.33836411764702307.\n",
      "[I 2025-06-09 16:32:43,276] Trial 42 finished with value: 0.33780607843133625 and parameters: {'n_estimators': 558, 'learning_rate': 0.2830345527549445, 'max_depth': 5, 'reg_lambda': 8.897821818794494}. Best is trial 40 with value: 0.33836411764702307.\n",
      "[I 2025-06-09 16:35:22,334] Trial 43 finished with value: 0.3377980392156496 and parameters: {'n_estimators': 557, 'learning_rate': 0.2746732067129476, 'max_depth': 5, 'reg_lambda': 8.897967592837595}. Best is trial 40 with value: 0.33836411764702307.\n",
      "[I 2025-06-09 16:38:02,781] Trial 44 finished with value: 0.3377464705881984 and parameters: {'n_estimators': 533, 'learning_rate': 0.26676271347995184, 'max_depth': 5, 'reg_lambda': 9.518446027402552}. Best is trial 40 with value: 0.33836411764702307.\n",
      "[I 2025-06-09 16:40:29,484] Trial 45 finished with value: 0.33757901960780645 and parameters: {'n_estimators': 519, 'learning_rate': 0.2840970628873123, 'max_depth': 5, 'reg_lambda': 8.616119427740207}. Best is trial 40 with value: 0.33836411764702307.\n",
      "[I 2025-06-09 16:43:15,774] Trial 46 finished with value: 0.33811960784310024 and parameters: {'n_estimators': 563, 'learning_rate': 0.25864115991126374, 'max_depth': 5, 'reg_lambda': 9.756523472308244}. Best is trial 40 with value: 0.33836411764702307.\n",
      "[I 2025-06-09 16:45:13,885] Trial 47 finished with value: 0.3370854901960407 and parameters: {'n_estimators': 495, 'learning_rate': 0.25827351432846235, 'max_depth': 7, 'reg_lambda': 9.90328010535973}. Best is trial 40 with value: 0.33836411764702307.\n",
      "[I 2025-06-09 16:47:25,511] Trial 48 finished with value: 0.33764509803917875 and parameters: {'n_estimators': 564, 'learning_rate': 0.25260652348025553, 'max_depth': 6, 'reg_lambda': 9.551111028097838}. Best is trial 40 with value: 0.33836411764702307.\n",
      "[I 2025-06-09 16:50:04,441] Trial 49 finished with value: 0.3378578431372175 and parameters: {'n_estimators': 539, 'learning_rate': 0.2754333209255247, 'max_depth': 5, 'reg_lambda': 9.155668254653772}. Best is trial 40 with value: 0.33836411764702307.\n",
      "[I 2025-06-09 16:52:44,718] Trial 50 finished with value: 0.3375498039215316 and parameters: {'n_estimators': 536, 'learning_rate': 0.27027742566420815, 'max_depth': 5, 'reg_lambda': 9.323801815527217}. Best is trial 40 with value: 0.33836411764702307.\n",
      "[I 2025-06-09 16:55:19,074] Trial 51 finished with value: 0.3374539215685902 and parameters: {'n_estimators': 545, 'learning_rate': 0.27821131994546355, 'max_depth': 5, 'reg_lambda': 8.935966327481685}. Best is trial 40 with value: 0.33836411764702307.\n",
      "[I 2025-06-09 16:57:54,089] Trial 52 finished with value: 0.33771941176466896 and parameters: {'n_estimators': 526, 'learning_rate': 0.2631503127587501, 'max_depth': 5, 'reg_lambda': 9.702240255140262}. Best is trial 40 with value: 0.33836411764702307.\n",
      "[I 2025-06-09 16:59:46,475] Trial 53 finished with value: 0.3363870588234912 and parameters: {'n_estimators': 575, 'learning_rate': 0.37206075183582904, 'max_depth': 5, 'reg_lambda': 7.992312821552771}. Best is trial 40 with value: 0.33836411764702307.\n",
      "[I 2025-06-09 17:02:17,837] Trial 54 finished with value: 0.3376770588234929 and parameters: {'n_estimators': 583, 'learning_rate': 0.2762776464055637, 'max_depth': 5, 'reg_lambda': 9.167535002070286}. Best is trial 40 with value: 0.33836411764702307.\n",
      "[I 2025-06-09 17:04:51,631] Trial 55 finished with value: 0.337400588235257 and parameters: {'n_estimators': 565, 'learning_rate': 0.2912887986968307, 'max_depth': 5, 'reg_lambda': 8.62222402543187}. Best is trial 40 with value: 0.33836411764702307.\n",
      "[I 2025-06-09 17:07:31,776] Trial 56 finished with value: 0.3375147058823159 and parameters: {'n_estimators': 552, 'learning_rate': 0.25884105000400387, 'max_depth': 5, 'reg_lambda': 9.734314882735944}. Best is trial 40 with value: 0.33836411764702307.\n",
      "[I 2025-06-09 17:09:45,131] Trial 57 finished with value: 0.33372431372544975 and parameters: {'n_estimators': 502, 'learning_rate': 0.268547755627577, 'max_depth': 4, 'reg_lambda': 1.2282093859548393}. Best is trial 40 with value: 0.33836411764702307.\n",
      "[I 2025-06-09 17:12:21,885] Trial 58 finished with value: 0.33784431372545376 and parameters: {'n_estimators': 537, 'learning_rate': 0.28457962653553054, 'max_depth': 5, 'reg_lambda': 9.996008124901966}. Best is trial 40 with value: 0.33836411764702307.\n",
      "[I 2025-06-09 17:14:20,017] Trial 59 finished with value: 0.3372866666666296 and parameters: {'n_estimators': 537, 'learning_rate': 0.2876483518871138, 'max_depth': 6, 'reg_lambda': 9.920462413342708}. Best is trial 40 with value: 0.33836411764702307.\n",
      "[I 2025-06-09 17:16:38,227] Trial 60 finished with value: 0.33685509803917757 and parameters: {'n_estimators': 454, 'learning_rate': 0.27290756276922856, 'max_depth': 5, 'reg_lambda': 8.377558905155947}. Best is trial 40 with value: 0.33836411764702307.\n",
      "[I 2025-06-09 17:19:16,414] Trial 61 finished with value: 0.3378696078431005 and parameters: {'n_estimators': 522, 'learning_rate': 0.2647320410184776, 'max_depth': 5, 'reg_lambda': 9.224121067592858}. Best is trial 40 with value: 0.33836411764702307.\n",
      "[I 2025-06-09 17:21:45,298] Trial 62 finished with value: 0.3379715686274151 and parameters: {'n_estimators': 523, 'learning_rate': 0.2956474760857091, 'max_depth': 5, 'reg_lambda': 9.49742506602248}. Best is trial 40 with value: 0.33836411764702307.\n",
      "[I 2025-06-09 17:24:21,519] Trial 63 finished with value: 0.33751333333329636 and parameters: {'n_estimators': 524, 'learning_rate': 0.26420960086915984, 'max_depth': 5, 'reg_lambda': 9.343434516268418}. Best is trial 40 with value: 0.33836411764702307.\n",
      "[I 2025-06-09 17:26:43,176] Trial 64 finished with value: 0.33750019607839393 and parameters: {'n_estimators': 509, 'learning_rate': 0.2957190282171403, 'max_depth': 5, 'reg_lambda': 9.131742353333927}. Best is trial 40 with value: 0.33836411764702307.\n",
      "[I 2025-06-09 17:28:29,699] Trial 65 finished with value: 0.33579490196074574 and parameters: {'n_estimators': 490, 'learning_rate': 0.39879346980448727, 'max_depth': 5, 'reg_lambda': 7.438605776309886}. Best is trial 40 with value: 0.33836411764702307.\n",
      "[I 2025-06-09 17:31:05,834] Trial 66 finished with value: 0.3375843137254526 and parameters: {'n_estimators': 514, 'learning_rate': 0.25447175884187734, 'max_depth': 5, 'reg_lambda': 8.67979684360762}. Best is trial 40 with value: 0.33836411764702307.\n",
      "[I 2025-06-09 17:33:44,298] Trial 67 finished with value: 0.33749686274506063 and parameters: {'n_estimators': 527, 'learning_rate': 0.26093435349828525, 'max_depth': 5, 'reg_lambda': 9.59040129193825}. Best is trial 40 with value: 0.33836411764702307.\n",
      "[I 2025-06-09 17:36:20,224] Trial 68 finished with value: 0.3377403921568263 and parameters: {'n_estimators': 567, 'learning_rate': 0.274935523475747, 'max_depth': 5, 'reg_lambda': 7.932313696006135}. Best is trial 40 with value: 0.33836411764702307.\n",
      "[I 2025-06-09 17:38:16,703] Trial 69 finished with value: 0.33710098039211933 and parameters: {'n_estimators': 558, 'learning_rate': 0.3004428972300822, 'max_depth': 6, 'reg_lambda': 8.20245542204507}. Best is trial 40 with value: 0.33836411764702307.\n",
      "[I 2025-06-09 17:40:51,084] Trial 70 finished with value: 0.3379882352940814 and parameters: {'n_estimators': 582, 'learning_rate': 0.2937913471580715, 'max_depth': 5, 'reg_lambda': 9.231542805518538}. Best is trial 40 with value: 0.33836411764702307.\n",
      "[I 2025-06-09 17:43:20,023] Trial 71 finished with value: 0.337623921568591 and parameters: {'n_estimators': 579, 'learning_rate': 0.30990361455148224, 'max_depth': 5, 'reg_lambda': 9.118927735418945}. Best is trial 40 with value: 0.33836411764702307.\n",
      "[I 2025-06-09 17:45:49,054] Trial 72 finished with value: 0.33751058823525737 and parameters: {'n_estimators': 592, 'learning_rate': 0.2926171579813671, 'max_depth': 5, 'reg_lambda': 8.572832752627512}. Best is trial 40 with value: 0.33836411764702307.\n",
      "[I 2025-06-09 17:48:39,250] Trial 73 finished with value: 0.33812960784310087 and parameters: {'n_estimators': 587, 'learning_rate': 0.2673306059989466, 'max_depth': 5, 'reg_lambda': 9.471784852516889}. Best is trial 40 with value: 0.33836411764702307.\n",
      "[I 2025-06-09 17:51:19,919] Trial 74 finished with value: 0.3375301960783945 and parameters: {'n_estimators': 585, 'learning_rate': 0.2662547327333057, 'max_depth': 5, 'reg_lambda': 9.452882410197383}. Best is trial 40 with value: 0.33836411764702307.\n",
      "[I 2025-06-09 17:53:58,743] Trial 75 finished with value: 0.3379556862744729 and parameters: {'n_estimators': 590, 'learning_rate': 0.2869994292984084, 'max_depth': 5, 'reg_lambda': 9.631405866430159}. Best is trial 40 with value: 0.33836411764702307.\n",
      "[I 2025-06-09 17:56:35,109] Trial 76 finished with value: 0.33532647058819637 and parameters: {'n_estimators': 594, 'learning_rate': 0.286766301309262, 'max_depth': 4, 'reg_lambda': 9.730286106187167}. Best is trial 40 with value: 0.33836411764702307.\n",
      "[I 2025-06-09 17:58:50,261] Trial 77 finished with value: 0.3369068627450603 and parameters: {'n_estimators': 603, 'learning_rate': 0.2952430568530033, 'max_depth': 5, 'reg_lambda': 8.865847001448193}. Best is trial 40 with value: 0.33836411764702307.\n",
      "[I 2025-06-09 18:01:25,103] Trial 78 finished with value: 0.33754352941172794 and parameters: {'n_estimators': 572, 'learning_rate': 0.2813735553424425, 'max_depth': 5, 'reg_lambda': 9.633974866783955}. Best is trial 40 with value: 0.33836411764702307.\n",
      "[I 2025-06-09 18:03:43,559] Trial 79 finished with value: 0.33721607843133555 and parameters: {'n_estimators': 590, 'learning_rate': 0.30080559944077706, 'max_depth': 5, 'reg_lambda': 9.78166843293198}. Best is trial 40 with value: 0.33836411764702307.\n",
      "[I 2025-06-09 18:06:09,500] Trial 80 finished with value: 0.3370692156862368 and parameters: {'n_estimators': 597, 'learning_rate': 0.2889138344433632, 'max_depth': 5, 'reg_lambda': 9.399797822920643}. Best is trial 40 with value: 0.33836411764702307.\n",
      "[I 2025-06-09 18:08:57,078] Trial 81 finished with value: 0.337896078431336 and parameters: {'n_estimators': 579, 'learning_rate': 0.2564047327773941, 'max_depth': 5, 'reg_lambda': 9.189879463652373}. Best is trial 40 with value: 0.33836411764702307.\n",
      "[I 2025-06-09 18:11:45,395] Trial 82 finished with value: 0.3379511764705515 and parameters: {'n_estimators': 576, 'learning_rate': 0.25780519338611296, 'max_depth': 5, 'reg_lambda': 8.786421425203095}. Best is trial 40 with value: 0.33836411764702307.\n",
      "[I 2025-06-09 18:14:27,786] Trial 83 finished with value: 0.3379256862744734 and parameters: {'n_estimators': 561, 'learning_rate': 0.2694136590418173, 'max_depth': 5, 'reg_lambda': 8.740300324899914}. Best is trial 40 with value: 0.33836411764702307.\n",
      "[I 2025-06-09 18:17:18,288] Trial 84 finished with value: 0.33799039215682664 and parameters: {'n_estimators': 578, 'learning_rate': 0.25013754012733164, 'max_depth': 5, 'reg_lambda': 8.39583744220131}. Best is trial 40 with value: 0.33836411764702307.\n",
      "[I 2025-06-09 18:20:01,244] Trial 85 finished with value: 0.3381764705881991 and parameters: {'n_estimators': 584, 'learning_rate': 0.2814495191285488, 'max_depth': 5, 'reg_lambda': 8.401476519206083}. Best is trial 40 with value: 0.33836411764702307.\n",
      "[I 2025-06-09 18:22:45,864] Trial 86 finished with value: 0.33764627450976703 and parameters: {'n_estimators': 568, 'learning_rate': 0.25143440966735736, 'max_depth': 5, 'reg_lambda': 7.432779640679786}. Best is trial 40 with value: 0.33836411764702307.\n",
      "[I 2025-06-09 18:25:32,480] Trial 87 finished with value: 0.33770980392153227 and parameters: {'n_estimators': 586, 'learning_rate': 0.2503908700199547, 'max_depth': 5, 'reg_lambda': 7.74895441041948}. Best is trial 40 with value: 0.33836411764702307.\n",
      "[I 2025-06-09 18:28:08,115] Trial 88 finished with value: 0.33768627450976774 and parameters: {'n_estimators': 573, 'learning_rate': 0.279539540892167, 'max_depth': 5, 'reg_lambda': 8.361849247156957}. Best is trial 40 with value: 0.33836411764702307.\n",
      "[I 2025-06-09 18:30:48,875] Trial 89 finished with value: 0.3377633333332961 and parameters: {'n_estimators': 555, 'learning_rate': 0.2728558796898881, 'max_depth': 5, 'reg_lambda': 8.988068351902044}. Best is trial 40 with value: 0.33836411764702307.\n",
      "[I 2025-06-09 18:32:58,251] Trial 90 finished with value: 0.3371335294117272 and parameters: {'n_estimators': 581, 'learning_rate': 0.26210608189654094, 'max_depth': 6, 'reg_lambda': 8.150709244879604}. Best is trial 40 with value: 0.33836411764702307.\n",
      "[I 2025-06-09 18:35:31,958] Trial 91 finished with value: 0.3377196078431002 and parameters: {'n_estimators': 562, 'learning_rate': 0.28479758117494164, 'max_depth': 5, 'reg_lambda': 9.499256333139618}. Best is trial 40 with value: 0.33836411764702307.\n",
      "[I 2025-06-09 18:37:55,467] Trial 92 finished with value: 0.33725549019604184 and parameters: {'n_estimators': 569, 'learning_rate': 0.2911176679309426, 'max_depth': 5, 'reg_lambda': 8.52519475331354}. Best is trial 40 with value: 0.33836411764702307.\n",
      "[I 2025-06-09 18:40:29,317] Trial 93 finished with value: 0.3373866666666293 and parameters: {'n_estimators': 589, 'learning_rate': 0.2782693930419631, 'max_depth': 5, 'reg_lambda': 9.982141583273759}. Best is trial 40 with value: 0.33836411764702307.\n",
      "[I 2025-06-09 18:42:48,565] Trial 94 finished with value: 0.33726470588231594 and parameters: {'n_estimators': 597, 'learning_rate': 0.3045186043054503, 'max_depth': 5, 'reg_lambda': 8.984508918266526}. Best is trial 40 with value: 0.33836411764702307.\n",
      "[I 2025-06-09 18:45:13,874] Trial 95 finished with value: 0.3376768627450614 and parameters: {'n_estimators': 544, 'learning_rate': 0.29549068860046357, 'max_depth': 5, 'reg_lambda': 9.418660594712222}. Best is trial 40 with value: 0.33836411764702307.\n",
      "[I 2025-06-09 18:47:55,875] Trial 96 finished with value: 0.33757470588231553 and parameters: {'n_estimators': 605, 'learning_rate': 0.2680150290650452, 'max_depth': 5, 'reg_lambda': 9.75399331401718}. Best is trial 40 with value: 0.33836411764702307.\n",
      "[I 2025-06-09 18:50:17,306] Trial 97 finished with value: 0.337184313725453 and parameters: {'n_estimators': 550, 'learning_rate': 0.28290555977775755, 'max_depth': 5, 'reg_lambda': 3.356748887596437}. Best is trial 40 with value: 0.33836411764702307.\n",
      "[I 2025-06-09 18:53:05,569] Trial 98 finished with value: 0.33775882352937525 and parameters: {'n_estimators': 585, 'learning_rate': 0.2547938415276872, 'max_depth': 5, 'reg_lambda': 9.278791285544758}. Best is trial 40 with value: 0.33836411764702307.\n",
      "[I 2025-06-09 18:55:45,850] Trial 99 finished with value: 0.33776019607839447 and parameters: {'n_estimators': 615, 'learning_rate': 0.2728867596600601, 'max_depth': 5, 'reg_lambda': 8.454691944213861}. Best is trial 40 with value: 0.33836411764702307.\n"
     ]
    }
   ],
   "source": [
    "def objective(trial):\n",
    "    \n",
    "    cat_feature_indices = [X_train.columns.get_loc(col) for col in cat_cols_pipeline if col in X_train.columns]\n",
    "\n",
    "    # params = {\n",
    "    #     'iterations': trial.suggest_int('iterations', 450,650),\n",
    "    #     'learning_rate': trial.suggest_float('learning_rate', 0.25, 0.4),\n",
    "    #     'depth': trial.suggest_int('depth', 4, 7),\n",
    "    #     'l2_leaf_reg': trial.suggest_int('l2_leaf_reg',),  \n",
    "    #     'verbose': 0,\n",
    "    #     'random_seed': 42,\n",
    "    #     'loss_function': 'MultiClass',\n",
    "    #     'task_type': 'GPU',\n",
    "    #     'cat_features': cat_feature_indices\n",
    "    # }\n",
    "\n",
    "    params = {\n",
    "        'n_estimators': trial.suggest_int('n_estimators', 450, 650),\n",
    "        'learning_rate': trial.suggest_float('learning_rate', 0.25, 0.4),\n",
    "        'max_depth': trial.suggest_int('max_depth', 4, 7),\n",
    "        'reg_lambda': trial.suggest_float('reg_lambda', 1, 10),  \n",
    "        'verbosity': 0,\n",
    "        'random_state': 42,\n",
    "        'objective': 'multi:softprob',\n",
    "        'tree_method': 'gpu_hist',\n",
    "        'early_stopping_rounds':20\n",
    "    }\n",
    "    model_xgb = xgb.XGBClassifier(**params)\n",
    "    # model_cat = CatBoostClassifier(**params)\n",
    "    # pipeline_study = pipeline_stack(model)  \n",
    "\n",
    "    cv = StratifiedKFold(n_splits=8, shuffle=True, random_state=42)\n",
    "    map3_scores = []\n",
    "\n",
    "    # Use the original X_train/y_train for splitting\n",
    "    for train_idx, val_idx in cv.split(X, y):\n",
    "        X_fold_train, X_fold_val = X.iloc[train_idx], X.iloc[val_idx]\n",
    "        y_fold_train, y_fold_val = y[train_idx], y[val_idx]\n",
    "\n",
    "        model_xgb.fit(\n",
    "            X_fold_train,\n",
    "            y_fold_train,\n",
    "            eval_set=[(X_fold_val, y_fold_val)],\n",
    "            verbose=0\n",
    "        )\n",
    "\n",
    "        y_proba = model_xgb.predict_proba(X_fold_val)  \n",
    "        map3_result = map3(y_fold_val, y_proba, k=3)\n",
    "        map3_scores.append(map3_result)\n",
    "    \n",
    "    trial.set_user_attr(\"cv_scores\", map3_scores)\n",
    "    return np.mean(map3_scores) \n",
    "\n",
    "study = optuna.create_study(direction='maximize', sampler=optuna.samplers.TPESampler(seed=42))\n",
    "study.optimize(objective, n_trials=100)"
   ]
  },
  {
   "cell_type": "code",
   "execution_count": 44,
   "id": "33979a29",
   "metadata": {},
   "outputs": [
    {
     "name": "stdout",
     "output_type": "stream",
     "text": [
      "{'n_estimators': 561, 'learning_rate': 0.2804165735001245, 'max_depth': 5, 'reg_lambda': 9.004723877706862}\n"
     ]
    }
   ],
   "source": [
    "params = study.best_params\n",
    "print(params)"
   ]
  },
  {
   "cell_type": "code",
   "execution_count": 32,
   "id": "8a18ca37",
   "metadata": {},
   "outputs": [
    {
     "data": {
      "application/vnd.plotly.v1+json": {
       "config": {
        "plotlyServerURL": "https://plot.ly"
       },
       "data": [
        {
         "cliponaxis": false,
         "hovertemplate": [
          "n_estimators (IntDistribution): 0.05385243775306252<extra></extra>",
          "reg_lambda (FloatDistribution): 0.16994318097750358<extra></extra>",
          "learning_rate (FloatDistribution): 0.3563773793288266<extra></extra>",
          "max_depth (IntDistribution): 0.4198270019406071<extra></extra>"
         ],
         "name": "Objective Value",
         "orientation": "h",
         "text": [
          "0.05",
          "0.17",
          "0.36",
          "0.42"
         ],
         "textposition": "outside",
         "type": "bar",
         "x": [
          0.05385243775306252,
          0.16994318097750358,
          0.3563773793288266,
          0.4198270019406071
         ],
         "y": [
          "n_estimators",
          "reg_lambda",
          "learning_rate",
          "max_depth"
         ]
        }
       ],
       "layout": {
        "template": {
         "data": {
          "bar": [
           {
            "error_x": {
             "color": "#2a3f5f"
            },
            "error_y": {
             "color": "#2a3f5f"
            },
            "marker": {
             "line": {
              "color": "#E5ECF6",
              "width": 0.5
             },
             "pattern": {
              "fillmode": "overlay",
              "size": 10,
              "solidity": 0.2
             }
            },
            "type": "bar"
           }
          ],
          "barpolar": [
           {
            "marker": {
             "line": {
              "color": "#E5ECF6",
              "width": 0.5
             },
             "pattern": {
              "fillmode": "overlay",
              "size": 10,
              "solidity": 0.2
             }
            },
            "type": "barpolar"
           }
          ],
          "carpet": [
           {
            "aaxis": {
             "endlinecolor": "#2a3f5f",
             "gridcolor": "white",
             "linecolor": "white",
             "minorgridcolor": "white",
             "startlinecolor": "#2a3f5f"
            },
            "baxis": {
             "endlinecolor": "#2a3f5f",
             "gridcolor": "white",
             "linecolor": "white",
             "minorgridcolor": "white",
             "startlinecolor": "#2a3f5f"
            },
            "type": "carpet"
           }
          ],
          "choropleth": [
           {
            "colorbar": {
             "outlinewidth": 0,
             "ticks": ""
            },
            "type": "choropleth"
           }
          ],
          "contour": [
           {
            "colorbar": {
             "outlinewidth": 0,
             "ticks": ""
            },
            "colorscale": [
             [
              0,
              "#0d0887"
             ],
             [
              0.1111111111111111,
              "#46039f"
             ],
             [
              0.2222222222222222,
              "#7201a8"
             ],
             [
              0.3333333333333333,
              "#9c179e"
             ],
             [
              0.4444444444444444,
              "#bd3786"
             ],
             [
              0.5555555555555556,
              "#d8576b"
             ],
             [
              0.6666666666666666,
              "#ed7953"
             ],
             [
              0.7777777777777778,
              "#fb9f3a"
             ],
             [
              0.8888888888888888,
              "#fdca26"
             ],
             [
              1,
              "#f0f921"
             ]
            ],
            "type": "contour"
           }
          ],
          "contourcarpet": [
           {
            "colorbar": {
             "outlinewidth": 0,
             "ticks": ""
            },
            "type": "contourcarpet"
           }
          ],
          "heatmap": [
           {
            "colorbar": {
             "outlinewidth": 0,
             "ticks": ""
            },
            "colorscale": [
             [
              0,
              "#0d0887"
             ],
             [
              0.1111111111111111,
              "#46039f"
             ],
             [
              0.2222222222222222,
              "#7201a8"
             ],
             [
              0.3333333333333333,
              "#9c179e"
             ],
             [
              0.4444444444444444,
              "#bd3786"
             ],
             [
              0.5555555555555556,
              "#d8576b"
             ],
             [
              0.6666666666666666,
              "#ed7953"
             ],
             [
              0.7777777777777778,
              "#fb9f3a"
             ],
             [
              0.8888888888888888,
              "#fdca26"
             ],
             [
              1,
              "#f0f921"
             ]
            ],
            "type": "heatmap"
           }
          ],
          "histogram": [
           {
            "marker": {
             "pattern": {
              "fillmode": "overlay",
              "size": 10,
              "solidity": 0.2
             }
            },
            "type": "histogram"
           }
          ],
          "histogram2d": [
           {
            "colorbar": {
             "outlinewidth": 0,
             "ticks": ""
            },
            "colorscale": [
             [
              0,
              "#0d0887"
             ],
             [
              0.1111111111111111,
              "#46039f"
             ],
             [
              0.2222222222222222,
              "#7201a8"
             ],
             [
              0.3333333333333333,
              "#9c179e"
             ],
             [
              0.4444444444444444,
              "#bd3786"
             ],
             [
              0.5555555555555556,
              "#d8576b"
             ],
             [
              0.6666666666666666,
              "#ed7953"
             ],
             [
              0.7777777777777778,
              "#fb9f3a"
             ],
             [
              0.8888888888888888,
              "#fdca26"
             ],
             [
              1,
              "#f0f921"
             ]
            ],
            "type": "histogram2d"
           }
          ],
          "histogram2dcontour": [
           {
            "colorbar": {
             "outlinewidth": 0,
             "ticks": ""
            },
            "colorscale": [
             [
              0,
              "#0d0887"
             ],
             [
              0.1111111111111111,
              "#46039f"
             ],
             [
              0.2222222222222222,
              "#7201a8"
             ],
             [
              0.3333333333333333,
              "#9c179e"
             ],
             [
              0.4444444444444444,
              "#bd3786"
             ],
             [
              0.5555555555555556,
              "#d8576b"
             ],
             [
              0.6666666666666666,
              "#ed7953"
             ],
             [
              0.7777777777777778,
              "#fb9f3a"
             ],
             [
              0.8888888888888888,
              "#fdca26"
             ],
             [
              1,
              "#f0f921"
             ]
            ],
            "type": "histogram2dcontour"
           }
          ],
          "mesh3d": [
           {
            "colorbar": {
             "outlinewidth": 0,
             "ticks": ""
            },
            "type": "mesh3d"
           }
          ],
          "parcoords": [
           {
            "line": {
             "colorbar": {
              "outlinewidth": 0,
              "ticks": ""
             }
            },
            "type": "parcoords"
           }
          ],
          "pie": [
           {
            "automargin": true,
            "type": "pie"
           }
          ],
          "scatter": [
           {
            "fillpattern": {
             "fillmode": "overlay",
             "size": 10,
             "solidity": 0.2
            },
            "type": "scatter"
           }
          ],
          "scatter3d": [
           {
            "line": {
             "colorbar": {
              "outlinewidth": 0,
              "ticks": ""
             }
            },
            "marker": {
             "colorbar": {
              "outlinewidth": 0,
              "ticks": ""
             }
            },
            "type": "scatter3d"
           }
          ],
          "scattercarpet": [
           {
            "marker": {
             "colorbar": {
              "outlinewidth": 0,
              "ticks": ""
             }
            },
            "type": "scattercarpet"
           }
          ],
          "scattergeo": [
           {
            "marker": {
             "colorbar": {
              "outlinewidth": 0,
              "ticks": ""
             }
            },
            "type": "scattergeo"
           }
          ],
          "scattergl": [
           {
            "marker": {
             "colorbar": {
              "outlinewidth": 0,
              "ticks": ""
             }
            },
            "type": "scattergl"
           }
          ],
          "scattermap": [
           {
            "marker": {
             "colorbar": {
              "outlinewidth": 0,
              "ticks": ""
             }
            },
            "type": "scattermap"
           }
          ],
          "scattermapbox": [
           {
            "marker": {
             "colorbar": {
              "outlinewidth": 0,
              "ticks": ""
             }
            },
            "type": "scattermapbox"
           }
          ],
          "scatterpolar": [
           {
            "marker": {
             "colorbar": {
              "outlinewidth": 0,
              "ticks": ""
             }
            },
            "type": "scatterpolar"
           }
          ],
          "scatterpolargl": [
           {
            "marker": {
             "colorbar": {
              "outlinewidth": 0,
              "ticks": ""
             }
            },
            "type": "scatterpolargl"
           }
          ],
          "scatterternary": [
           {
            "marker": {
             "colorbar": {
              "outlinewidth": 0,
              "ticks": ""
             }
            },
            "type": "scatterternary"
           }
          ],
          "surface": [
           {
            "colorbar": {
             "outlinewidth": 0,
             "ticks": ""
            },
            "colorscale": [
             [
              0,
              "#0d0887"
             ],
             [
              0.1111111111111111,
              "#46039f"
             ],
             [
              0.2222222222222222,
              "#7201a8"
             ],
             [
              0.3333333333333333,
              "#9c179e"
             ],
             [
              0.4444444444444444,
              "#bd3786"
             ],
             [
              0.5555555555555556,
              "#d8576b"
             ],
             [
              0.6666666666666666,
              "#ed7953"
             ],
             [
              0.7777777777777778,
              "#fb9f3a"
             ],
             [
              0.8888888888888888,
              "#fdca26"
             ],
             [
              1,
              "#f0f921"
             ]
            ],
            "type": "surface"
           }
          ],
          "table": [
           {
            "cells": {
             "fill": {
              "color": "#EBF0F8"
             },
             "line": {
              "color": "white"
             }
            },
            "header": {
             "fill": {
              "color": "#C8D4E3"
             },
             "line": {
              "color": "white"
             }
            },
            "type": "table"
           }
          ]
         },
         "layout": {
          "annotationdefaults": {
           "arrowcolor": "#2a3f5f",
           "arrowhead": 0,
           "arrowwidth": 1
          },
          "autotypenumbers": "strict",
          "coloraxis": {
           "colorbar": {
            "outlinewidth": 0,
            "ticks": ""
           }
          },
          "colorscale": {
           "diverging": [
            [
             0,
             "#8e0152"
            ],
            [
             0.1,
             "#c51b7d"
            ],
            [
             0.2,
             "#de77ae"
            ],
            [
             0.3,
             "#f1b6da"
            ],
            [
             0.4,
             "#fde0ef"
            ],
            [
             0.5,
             "#f7f7f7"
            ],
            [
             0.6,
             "#e6f5d0"
            ],
            [
             0.7,
             "#b8e186"
            ],
            [
             0.8,
             "#7fbc41"
            ],
            [
             0.9,
             "#4d9221"
            ],
            [
             1,
             "#276419"
            ]
           ],
           "sequential": [
            [
             0,
             "#0d0887"
            ],
            [
             0.1111111111111111,
             "#46039f"
            ],
            [
             0.2222222222222222,
             "#7201a8"
            ],
            [
             0.3333333333333333,
             "#9c179e"
            ],
            [
             0.4444444444444444,
             "#bd3786"
            ],
            [
             0.5555555555555556,
             "#d8576b"
            ],
            [
             0.6666666666666666,
             "#ed7953"
            ],
            [
             0.7777777777777778,
             "#fb9f3a"
            ],
            [
             0.8888888888888888,
             "#fdca26"
            ],
            [
             1,
             "#f0f921"
            ]
           ],
           "sequentialminus": [
            [
             0,
             "#0d0887"
            ],
            [
             0.1111111111111111,
             "#46039f"
            ],
            [
             0.2222222222222222,
             "#7201a8"
            ],
            [
             0.3333333333333333,
             "#9c179e"
            ],
            [
             0.4444444444444444,
             "#bd3786"
            ],
            [
             0.5555555555555556,
             "#d8576b"
            ],
            [
             0.6666666666666666,
             "#ed7953"
            ],
            [
             0.7777777777777778,
             "#fb9f3a"
            ],
            [
             0.8888888888888888,
             "#fdca26"
            ],
            [
             1,
             "#f0f921"
            ]
           ]
          },
          "colorway": [
           "#636efa",
           "#EF553B",
           "#00cc96",
           "#ab63fa",
           "#FFA15A",
           "#19d3f3",
           "#FF6692",
           "#B6E880",
           "#FF97FF",
           "#FECB52"
          ],
          "font": {
           "color": "#2a3f5f"
          },
          "geo": {
           "bgcolor": "white",
           "lakecolor": "white",
           "landcolor": "#E5ECF6",
           "showlakes": true,
           "showland": true,
           "subunitcolor": "white"
          },
          "hoverlabel": {
           "align": "left"
          },
          "hovermode": "closest",
          "mapbox": {
           "style": "light"
          },
          "paper_bgcolor": "white",
          "plot_bgcolor": "#E5ECF6",
          "polar": {
           "angularaxis": {
            "gridcolor": "white",
            "linecolor": "white",
            "ticks": ""
           },
           "bgcolor": "#E5ECF6",
           "radialaxis": {
            "gridcolor": "white",
            "linecolor": "white",
            "ticks": ""
           }
          },
          "scene": {
           "xaxis": {
            "backgroundcolor": "#E5ECF6",
            "gridcolor": "white",
            "gridwidth": 2,
            "linecolor": "white",
            "showbackground": true,
            "ticks": "",
            "zerolinecolor": "white"
           },
           "yaxis": {
            "backgroundcolor": "#E5ECF6",
            "gridcolor": "white",
            "gridwidth": 2,
            "linecolor": "white",
            "showbackground": true,
            "ticks": "",
            "zerolinecolor": "white"
           },
           "zaxis": {
            "backgroundcolor": "#E5ECF6",
            "gridcolor": "white",
            "gridwidth": 2,
            "linecolor": "white",
            "showbackground": true,
            "ticks": "",
            "zerolinecolor": "white"
           }
          },
          "shapedefaults": {
           "line": {
            "color": "#2a3f5f"
           }
          },
          "ternary": {
           "aaxis": {
            "gridcolor": "white",
            "linecolor": "white",
            "ticks": ""
           },
           "baxis": {
            "gridcolor": "white",
            "linecolor": "white",
            "ticks": ""
           },
           "bgcolor": "#E5ECF6",
           "caxis": {
            "gridcolor": "white",
            "linecolor": "white",
            "ticks": ""
           }
          },
          "title": {
           "x": 0.05
          },
          "xaxis": {
           "automargin": true,
           "gridcolor": "white",
           "linecolor": "white",
           "ticks": "",
           "title": {
            "standoff": 15
           },
           "zerolinecolor": "white",
           "zerolinewidth": 2
          },
          "yaxis": {
           "automargin": true,
           "gridcolor": "white",
           "linecolor": "white",
           "ticks": "",
           "title": {
            "standoff": 15
           },
           "zerolinecolor": "white",
           "zerolinewidth": 2
          }
         }
        },
        "title": {
         "text": "Hyperparameter Importances"
        },
        "xaxis": {
         "title": {
          "text": "Hyperparameter Importance"
         }
        },
        "yaxis": {
         "title": {
          "text": "Hyperparameter"
         }
        }
       }
      }
     },
     "metadata": {},
     "output_type": "display_data"
    }
   ],
   "source": [
    "optuna.visualization.plot_param_importances(study)"
   ]
  },
  {
   "cell_type": "code",
   "execution_count": 45,
   "id": "a946a4f6",
   "metadata": {},
   "outputs": [
    {
     "data": {
      "application/vnd.plotly.v1+json": {
       "config": {
        "plotlyServerURL": "https://plot.ly"
       },
       "data": [
        {
         "mode": "markers",
         "name": "Objective Value",
         "type": "scatter",
         "x": [
          0,
          1,
          2,
          3,
          4,
          5,
          6,
          7,
          8,
          9,
          10,
          11,
          12,
          13,
          14,
          15,
          16,
          17,
          18,
          19,
          20,
          21,
          22,
          23,
          24,
          25,
          26,
          27,
          28,
          29,
          30,
          31,
          32,
          33,
          34,
          35,
          36,
          37,
          38,
          39,
          40,
          41,
          42,
          43,
          44,
          45,
          46,
          47,
          48,
          49,
          50,
          51,
          52,
          53,
          54,
          55,
          56,
          57,
          58,
          59,
          60,
          61,
          62,
          63,
          64,
          65,
          66,
          67,
          68,
          69,
          70,
          71,
          72,
          73,
          74,
          75,
          76,
          77,
          78,
          79,
          80,
          81,
          82,
          83,
          84,
          85,
          86,
          87,
          88,
          89,
          90,
          91,
          92,
          93,
          94,
          95,
          96,
          97,
          98,
          99
         ],
         "y": [
          0.3351458823529009,
          0.3338576470587823,
          0.33584098039211774,
          0.3353737254901572,
          0.33675647058819747,
          0.3369923529411386,
          0.3358964705881965,
          0.3367443137254522,
          0.333765686274468,
          0.3364068627450598,
          0.33600588235290263,
          0.33705490196074644,
          0.33724627450976696,
          0.3375645098038851,
          0.3351282352940773,
          0.33730411764702173,
          0.33528490196074395,
          0.33706745098035484,
          0.3362809803921184,
          0.3356656862744706,
          0.3365764705881975,
          0.3372456862744725,
          0.33659078431368716,
          0.3369588235293737,
          0.33631313725486334,
          0.337092745098002,
          0.33578098039211757,
          0.337270588235257,
          0.3367598039215304,
          0.3369817647058443,
          0.3349513725489804,
          0.33715529411760925,
          0.3373662745097662,
          0.3368594117646681,
          0.3363325490195692,
          0.337679999999963,
          0.33826039215682563,
          0.33494941176466636,
          0.3378356862744736,
          0.3344382352940778,
          0.33836411764702307,
          0.33796705882349315,
          0.33780607843133625,
          0.3377980392156496,
          0.3377464705881984,
          0.33757901960780645,
          0.33811960784310024,
          0.3370854901960407,
          0.33764509803917875,
          0.3378578431372175,
          0.3375498039215316,
          0.3374539215685902,
          0.33771941176466896,
          0.3363870588234912,
          0.3376770588234929,
          0.337400588235257,
          0.3375147058823159,
          0.33372431372544975,
          0.33784431372545376,
          0.3372866666666296,
          0.33685509803917757,
          0.3378696078431005,
          0.3379715686274151,
          0.33751333333329636,
          0.33750019607839393,
          0.33579490196074574,
          0.3375843137254526,
          0.33749686274506063,
          0.3377403921568263,
          0.33710098039211933,
          0.3379882352940814,
          0.337623921568591,
          0.33751058823525737,
          0.33812960784310087,
          0.3375301960783945,
          0.3379556862744729,
          0.33532647058819637,
          0.3369068627450603,
          0.33754352941172794,
          0.33721607843133555,
          0.3370692156862368,
          0.337896078431336,
          0.3379511764705515,
          0.3379256862744734,
          0.33799039215682664,
          0.3381764705881991,
          0.33764627450976703,
          0.33770980392153227,
          0.33768627450976774,
          0.3377633333332961,
          0.3371335294117272,
          0.3377196078431002,
          0.33725549019604184,
          0.3373866666666293,
          0.33726470588231594,
          0.3376768627450614,
          0.33757470588231553,
          0.337184313725453,
          0.33775882352937525,
          0.33776019607839447
         ]
        },
        {
         "mode": "lines",
         "name": "Best Value",
         "type": "scatter",
         "x": [
          0,
          1,
          2,
          3,
          4,
          5,
          6,
          7,
          8,
          9,
          10,
          11,
          12,
          13,
          14,
          15,
          16,
          17,
          18,
          19,
          20,
          21,
          22,
          23,
          24,
          25,
          26,
          27,
          28,
          29,
          30,
          31,
          32,
          33,
          34,
          35,
          36,
          37,
          38,
          39,
          40,
          41,
          42,
          43,
          44,
          45,
          46,
          47,
          48,
          49,
          50,
          51,
          52,
          53,
          54,
          55,
          56,
          57,
          58,
          59,
          60,
          61,
          62,
          63,
          64,
          65,
          66,
          67,
          68,
          69,
          70,
          71,
          72,
          73,
          74,
          75,
          76,
          77,
          78,
          79,
          80,
          81,
          82,
          83,
          84,
          85,
          86,
          87,
          88,
          89,
          90,
          91,
          92,
          93,
          94,
          95,
          96,
          97,
          98,
          99
         ],
         "y": [
          0.3351458823529009,
          0.3351458823529009,
          0.33584098039211774,
          0.33584098039211774,
          0.33675647058819747,
          0.3369923529411386,
          0.3369923529411386,
          0.3369923529411386,
          0.3369923529411386,
          0.3369923529411386,
          0.3369923529411386,
          0.33705490196074644,
          0.33724627450976696,
          0.3375645098038851,
          0.3375645098038851,
          0.3375645098038851,
          0.3375645098038851,
          0.3375645098038851,
          0.3375645098038851,
          0.3375645098038851,
          0.3375645098038851,
          0.3375645098038851,
          0.3375645098038851,
          0.3375645098038851,
          0.3375645098038851,
          0.3375645098038851,
          0.3375645098038851,
          0.3375645098038851,
          0.3375645098038851,
          0.3375645098038851,
          0.3375645098038851,
          0.3375645098038851,
          0.3375645098038851,
          0.3375645098038851,
          0.3375645098038851,
          0.337679999999963,
          0.33826039215682563,
          0.33826039215682563,
          0.33826039215682563,
          0.33826039215682563,
          0.33836411764702307,
          0.33836411764702307,
          0.33836411764702307,
          0.33836411764702307,
          0.33836411764702307,
          0.33836411764702307,
          0.33836411764702307,
          0.33836411764702307,
          0.33836411764702307,
          0.33836411764702307,
          0.33836411764702307,
          0.33836411764702307,
          0.33836411764702307,
          0.33836411764702307,
          0.33836411764702307,
          0.33836411764702307,
          0.33836411764702307,
          0.33836411764702307,
          0.33836411764702307,
          0.33836411764702307,
          0.33836411764702307,
          0.33836411764702307,
          0.33836411764702307,
          0.33836411764702307,
          0.33836411764702307,
          0.33836411764702307,
          0.33836411764702307,
          0.33836411764702307,
          0.33836411764702307,
          0.33836411764702307,
          0.33836411764702307,
          0.33836411764702307,
          0.33836411764702307,
          0.33836411764702307,
          0.33836411764702307,
          0.33836411764702307,
          0.33836411764702307,
          0.33836411764702307,
          0.33836411764702307,
          0.33836411764702307,
          0.33836411764702307,
          0.33836411764702307,
          0.33836411764702307,
          0.33836411764702307,
          0.33836411764702307,
          0.33836411764702307,
          0.33836411764702307,
          0.33836411764702307,
          0.33836411764702307,
          0.33836411764702307,
          0.33836411764702307,
          0.33836411764702307,
          0.33836411764702307,
          0.33836411764702307,
          0.33836411764702307,
          0.33836411764702307,
          0.33836411764702307,
          0.33836411764702307,
          0.33836411764702307,
          0.33836411764702307
         ]
        },
        {
         "marker": {
          "color": "#cccccc"
         },
         "mode": "markers",
         "name": "Infeasible Trial",
         "showlegend": false,
         "type": "scatter",
         "x": [],
         "y": []
        }
       ],
       "layout": {
        "template": {
         "data": {
          "bar": [
           {
            "error_x": {
             "color": "#2a3f5f"
            },
            "error_y": {
             "color": "#2a3f5f"
            },
            "marker": {
             "line": {
              "color": "#E5ECF6",
              "width": 0.5
             },
             "pattern": {
              "fillmode": "overlay",
              "size": 10,
              "solidity": 0.2
             }
            },
            "type": "bar"
           }
          ],
          "barpolar": [
           {
            "marker": {
             "line": {
              "color": "#E5ECF6",
              "width": 0.5
             },
             "pattern": {
              "fillmode": "overlay",
              "size": 10,
              "solidity": 0.2
             }
            },
            "type": "barpolar"
           }
          ],
          "carpet": [
           {
            "aaxis": {
             "endlinecolor": "#2a3f5f",
             "gridcolor": "white",
             "linecolor": "white",
             "minorgridcolor": "white",
             "startlinecolor": "#2a3f5f"
            },
            "baxis": {
             "endlinecolor": "#2a3f5f",
             "gridcolor": "white",
             "linecolor": "white",
             "minorgridcolor": "white",
             "startlinecolor": "#2a3f5f"
            },
            "type": "carpet"
           }
          ],
          "choropleth": [
           {
            "colorbar": {
             "outlinewidth": 0,
             "ticks": ""
            },
            "type": "choropleth"
           }
          ],
          "contour": [
           {
            "colorbar": {
             "outlinewidth": 0,
             "ticks": ""
            },
            "colorscale": [
             [
              0,
              "#0d0887"
             ],
             [
              0.1111111111111111,
              "#46039f"
             ],
             [
              0.2222222222222222,
              "#7201a8"
             ],
             [
              0.3333333333333333,
              "#9c179e"
             ],
             [
              0.4444444444444444,
              "#bd3786"
             ],
             [
              0.5555555555555556,
              "#d8576b"
             ],
             [
              0.6666666666666666,
              "#ed7953"
             ],
             [
              0.7777777777777778,
              "#fb9f3a"
             ],
             [
              0.8888888888888888,
              "#fdca26"
             ],
             [
              1,
              "#f0f921"
             ]
            ],
            "type": "contour"
           }
          ],
          "contourcarpet": [
           {
            "colorbar": {
             "outlinewidth": 0,
             "ticks": ""
            },
            "type": "contourcarpet"
           }
          ],
          "heatmap": [
           {
            "colorbar": {
             "outlinewidth": 0,
             "ticks": ""
            },
            "colorscale": [
             [
              0,
              "#0d0887"
             ],
             [
              0.1111111111111111,
              "#46039f"
             ],
             [
              0.2222222222222222,
              "#7201a8"
             ],
             [
              0.3333333333333333,
              "#9c179e"
             ],
             [
              0.4444444444444444,
              "#bd3786"
             ],
             [
              0.5555555555555556,
              "#d8576b"
             ],
             [
              0.6666666666666666,
              "#ed7953"
             ],
             [
              0.7777777777777778,
              "#fb9f3a"
             ],
             [
              0.8888888888888888,
              "#fdca26"
             ],
             [
              1,
              "#f0f921"
             ]
            ],
            "type": "heatmap"
           }
          ],
          "histogram": [
           {
            "marker": {
             "pattern": {
              "fillmode": "overlay",
              "size": 10,
              "solidity": 0.2
             }
            },
            "type": "histogram"
           }
          ],
          "histogram2d": [
           {
            "colorbar": {
             "outlinewidth": 0,
             "ticks": ""
            },
            "colorscale": [
             [
              0,
              "#0d0887"
             ],
             [
              0.1111111111111111,
              "#46039f"
             ],
             [
              0.2222222222222222,
              "#7201a8"
             ],
             [
              0.3333333333333333,
              "#9c179e"
             ],
             [
              0.4444444444444444,
              "#bd3786"
             ],
             [
              0.5555555555555556,
              "#d8576b"
             ],
             [
              0.6666666666666666,
              "#ed7953"
             ],
             [
              0.7777777777777778,
              "#fb9f3a"
             ],
             [
              0.8888888888888888,
              "#fdca26"
             ],
             [
              1,
              "#f0f921"
             ]
            ],
            "type": "histogram2d"
           }
          ],
          "histogram2dcontour": [
           {
            "colorbar": {
             "outlinewidth": 0,
             "ticks": ""
            },
            "colorscale": [
             [
              0,
              "#0d0887"
             ],
             [
              0.1111111111111111,
              "#46039f"
             ],
             [
              0.2222222222222222,
              "#7201a8"
             ],
             [
              0.3333333333333333,
              "#9c179e"
             ],
             [
              0.4444444444444444,
              "#bd3786"
             ],
             [
              0.5555555555555556,
              "#d8576b"
             ],
             [
              0.6666666666666666,
              "#ed7953"
             ],
             [
              0.7777777777777778,
              "#fb9f3a"
             ],
             [
              0.8888888888888888,
              "#fdca26"
             ],
             [
              1,
              "#f0f921"
             ]
            ],
            "type": "histogram2dcontour"
           }
          ],
          "mesh3d": [
           {
            "colorbar": {
             "outlinewidth": 0,
             "ticks": ""
            },
            "type": "mesh3d"
           }
          ],
          "parcoords": [
           {
            "line": {
             "colorbar": {
              "outlinewidth": 0,
              "ticks": ""
             }
            },
            "type": "parcoords"
           }
          ],
          "pie": [
           {
            "automargin": true,
            "type": "pie"
           }
          ],
          "scatter": [
           {
            "fillpattern": {
             "fillmode": "overlay",
             "size": 10,
             "solidity": 0.2
            },
            "type": "scatter"
           }
          ],
          "scatter3d": [
           {
            "line": {
             "colorbar": {
              "outlinewidth": 0,
              "ticks": ""
             }
            },
            "marker": {
             "colorbar": {
              "outlinewidth": 0,
              "ticks": ""
             }
            },
            "type": "scatter3d"
           }
          ],
          "scattercarpet": [
           {
            "marker": {
             "colorbar": {
              "outlinewidth": 0,
              "ticks": ""
             }
            },
            "type": "scattercarpet"
           }
          ],
          "scattergeo": [
           {
            "marker": {
             "colorbar": {
              "outlinewidth": 0,
              "ticks": ""
             }
            },
            "type": "scattergeo"
           }
          ],
          "scattergl": [
           {
            "marker": {
             "colorbar": {
              "outlinewidth": 0,
              "ticks": ""
             }
            },
            "type": "scattergl"
           }
          ],
          "scattermap": [
           {
            "marker": {
             "colorbar": {
              "outlinewidth": 0,
              "ticks": ""
             }
            },
            "type": "scattermap"
           }
          ],
          "scattermapbox": [
           {
            "marker": {
             "colorbar": {
              "outlinewidth": 0,
              "ticks": ""
             }
            },
            "type": "scattermapbox"
           }
          ],
          "scatterpolar": [
           {
            "marker": {
             "colorbar": {
              "outlinewidth": 0,
              "ticks": ""
             }
            },
            "type": "scatterpolar"
           }
          ],
          "scatterpolargl": [
           {
            "marker": {
             "colorbar": {
              "outlinewidth": 0,
              "ticks": ""
             }
            },
            "type": "scatterpolargl"
           }
          ],
          "scatterternary": [
           {
            "marker": {
             "colorbar": {
              "outlinewidth": 0,
              "ticks": ""
             }
            },
            "type": "scatterternary"
           }
          ],
          "surface": [
           {
            "colorbar": {
             "outlinewidth": 0,
             "ticks": ""
            },
            "colorscale": [
             [
              0,
              "#0d0887"
             ],
             [
              0.1111111111111111,
              "#46039f"
             ],
             [
              0.2222222222222222,
              "#7201a8"
             ],
             [
              0.3333333333333333,
              "#9c179e"
             ],
             [
              0.4444444444444444,
              "#bd3786"
             ],
             [
              0.5555555555555556,
              "#d8576b"
             ],
             [
              0.6666666666666666,
              "#ed7953"
             ],
             [
              0.7777777777777778,
              "#fb9f3a"
             ],
             [
              0.8888888888888888,
              "#fdca26"
             ],
             [
              1,
              "#f0f921"
             ]
            ],
            "type": "surface"
           }
          ],
          "table": [
           {
            "cells": {
             "fill": {
              "color": "#EBF0F8"
             },
             "line": {
              "color": "white"
             }
            },
            "header": {
             "fill": {
              "color": "#C8D4E3"
             },
             "line": {
              "color": "white"
             }
            },
            "type": "table"
           }
          ]
         },
         "layout": {
          "annotationdefaults": {
           "arrowcolor": "#2a3f5f",
           "arrowhead": 0,
           "arrowwidth": 1
          },
          "autotypenumbers": "strict",
          "coloraxis": {
           "colorbar": {
            "outlinewidth": 0,
            "ticks": ""
           }
          },
          "colorscale": {
           "diverging": [
            [
             0,
             "#8e0152"
            ],
            [
             0.1,
             "#c51b7d"
            ],
            [
             0.2,
             "#de77ae"
            ],
            [
             0.3,
             "#f1b6da"
            ],
            [
             0.4,
             "#fde0ef"
            ],
            [
             0.5,
             "#f7f7f7"
            ],
            [
             0.6,
             "#e6f5d0"
            ],
            [
             0.7,
             "#b8e186"
            ],
            [
             0.8,
             "#7fbc41"
            ],
            [
             0.9,
             "#4d9221"
            ],
            [
             1,
             "#276419"
            ]
           ],
           "sequential": [
            [
             0,
             "#0d0887"
            ],
            [
             0.1111111111111111,
             "#46039f"
            ],
            [
             0.2222222222222222,
             "#7201a8"
            ],
            [
             0.3333333333333333,
             "#9c179e"
            ],
            [
             0.4444444444444444,
             "#bd3786"
            ],
            [
             0.5555555555555556,
             "#d8576b"
            ],
            [
             0.6666666666666666,
             "#ed7953"
            ],
            [
             0.7777777777777778,
             "#fb9f3a"
            ],
            [
             0.8888888888888888,
             "#fdca26"
            ],
            [
             1,
             "#f0f921"
            ]
           ],
           "sequentialminus": [
            [
             0,
             "#0d0887"
            ],
            [
             0.1111111111111111,
             "#46039f"
            ],
            [
             0.2222222222222222,
             "#7201a8"
            ],
            [
             0.3333333333333333,
             "#9c179e"
            ],
            [
             0.4444444444444444,
             "#bd3786"
            ],
            [
             0.5555555555555556,
             "#d8576b"
            ],
            [
             0.6666666666666666,
             "#ed7953"
            ],
            [
             0.7777777777777778,
             "#fb9f3a"
            ],
            [
             0.8888888888888888,
             "#fdca26"
            ],
            [
             1,
             "#f0f921"
            ]
           ]
          },
          "colorway": [
           "#636efa",
           "#EF553B",
           "#00cc96",
           "#ab63fa",
           "#FFA15A",
           "#19d3f3",
           "#FF6692",
           "#B6E880",
           "#FF97FF",
           "#FECB52"
          ],
          "font": {
           "color": "#2a3f5f"
          },
          "geo": {
           "bgcolor": "white",
           "lakecolor": "white",
           "landcolor": "#E5ECF6",
           "showlakes": true,
           "showland": true,
           "subunitcolor": "white"
          },
          "hoverlabel": {
           "align": "left"
          },
          "hovermode": "closest",
          "mapbox": {
           "style": "light"
          },
          "paper_bgcolor": "white",
          "plot_bgcolor": "#E5ECF6",
          "polar": {
           "angularaxis": {
            "gridcolor": "white",
            "linecolor": "white",
            "ticks": ""
           },
           "bgcolor": "#E5ECF6",
           "radialaxis": {
            "gridcolor": "white",
            "linecolor": "white",
            "ticks": ""
           }
          },
          "scene": {
           "xaxis": {
            "backgroundcolor": "#E5ECF6",
            "gridcolor": "white",
            "gridwidth": 2,
            "linecolor": "white",
            "showbackground": true,
            "ticks": "",
            "zerolinecolor": "white"
           },
           "yaxis": {
            "backgroundcolor": "#E5ECF6",
            "gridcolor": "white",
            "gridwidth": 2,
            "linecolor": "white",
            "showbackground": true,
            "ticks": "",
            "zerolinecolor": "white"
           },
           "zaxis": {
            "backgroundcolor": "#E5ECF6",
            "gridcolor": "white",
            "gridwidth": 2,
            "linecolor": "white",
            "showbackground": true,
            "ticks": "",
            "zerolinecolor": "white"
           }
          },
          "shapedefaults": {
           "line": {
            "color": "#2a3f5f"
           }
          },
          "ternary": {
           "aaxis": {
            "gridcolor": "white",
            "linecolor": "white",
            "ticks": ""
           },
           "baxis": {
            "gridcolor": "white",
            "linecolor": "white",
            "ticks": ""
           },
           "bgcolor": "#E5ECF6",
           "caxis": {
            "gridcolor": "white",
            "linecolor": "white",
            "ticks": ""
           }
          },
          "title": {
           "x": 0.05
          },
          "xaxis": {
           "automargin": true,
           "gridcolor": "white",
           "linecolor": "white",
           "ticks": "",
           "title": {
            "standoff": 15
           },
           "zerolinecolor": "white",
           "zerolinewidth": 2
          },
          "yaxis": {
           "automargin": true,
           "gridcolor": "white",
           "linecolor": "white",
           "ticks": "",
           "title": {
            "standoff": 15
           },
           "zerolinecolor": "white",
           "zerolinewidth": 2
          }
         }
        },
        "title": {
         "text": "Optimization History Plot"
        },
        "xaxis": {
         "title": {
          "text": "Trial"
         }
        },
        "yaxis": {
         "title": {
          "text": "Objective Value"
         }
        }
       }
      }
     },
     "metadata": {},
     "output_type": "display_data"
    }
   ],
   "source": [
    "optuna.visualization.plot_optimization_history(study)"
   ]
  },
  {
   "cell_type": "code",
   "execution_count": 34,
   "id": "b89c59b6",
   "metadata": {},
   "outputs": [
    {
     "data": {
      "application/vnd.plotly.v1+json": {
       "config": {
        "plotlyServerURL": "https://plot.ly"
       },
       "data": [
        {
         "dimensions": [
          {
           "label": "Objective Value",
           "range": [
            0.33372431372544975,
            0.33836411764702307
           ],
           "values": [
            0.3351458823529009,
            0.3338576470587823,
            0.33584098039211774,
            0.3353737254901572,
            0.33675647058819747,
            0.3369923529411386,
            0.3358964705881965,
            0.3367443137254522,
            0.333765686274468,
            0.3364068627450598,
            0.33600588235290263,
            0.33705490196074644,
            0.33724627450976696,
            0.3375645098038851,
            0.3351282352940773,
            0.33730411764702173,
            0.33528490196074395,
            0.33706745098035484,
            0.3362809803921184,
            0.3356656862744706,
            0.3365764705881975,
            0.3372456862744725,
            0.33659078431368716,
            0.3369588235293737,
            0.33631313725486334,
            0.337092745098002,
            0.33578098039211757,
            0.337270588235257,
            0.3367598039215304,
            0.3369817647058443,
            0.3349513725489804,
            0.33715529411760925,
            0.3373662745097662,
            0.3368594117646681,
            0.3363325490195692,
            0.337679999999963,
            0.33826039215682563,
            0.33494941176466636,
            0.3378356862744736,
            0.3344382352940778,
            0.33836411764702307,
            0.33796705882349315,
            0.33780607843133625,
            0.3377980392156496,
            0.3377464705881984,
            0.33757901960780645,
            0.33811960784310024,
            0.3370854901960407,
            0.33764509803917875,
            0.3378578431372175,
            0.3375498039215316,
            0.3374539215685902,
            0.33771941176466896,
            0.3363870588234912,
            0.3376770588234929,
            0.337400588235257,
            0.3375147058823159,
            0.33372431372544975,
            0.33784431372545376,
            0.3372866666666296,
            0.33685509803917757,
            0.3378696078431005,
            0.3379715686274151,
            0.33751333333329636,
            0.33750019607839393,
            0.33579490196074574,
            0.3375843137254526,
            0.33749686274506063,
            0.3377403921568263,
            0.33710098039211933,
            0.3379882352940814,
            0.337623921568591,
            0.33751058823525737,
            0.33812960784310087,
            0.3375301960783945,
            0.3379556862744729,
            0.33532647058819637,
            0.3369068627450603,
            0.33754352941172794,
            0.33721607843133555,
            0.3370692156862368,
            0.337896078431336,
            0.3379511764705515,
            0.3379256862744734,
            0.33799039215682664,
            0.3381764705881991,
            0.33764627450976703,
            0.33770980392153227,
            0.33768627450976774,
            0.3377633333332961,
            0.3371335294117272,
            0.3377196078431002,
            0.33725549019604184,
            0.3373866666666293,
            0.33726470588231594,
            0.3376768627450614,
            0.33757470588231553,
            0.337184313725453,
            0.33775882352937525,
            0.33776019607839447
           ]
          },
          {
           "label": "learning_rate",
           "range": [
            0.25013754012733164,
            0.39879346980448727
           ],
           "values": [
            0.39260714596148744,
            0.2733991780504304,
            0.3562108866694068,
            0.2818508666017414,
            0.3287134647448357,
            0.2709240790978063,
            0.36777639420895203,
            0.2569675619079997,
            0.392332830588,
            0.26465081710095756,
            0.30455915104324466,
            0.3251197728951597,
            0.30694063651303355,
            0.31592862835639085,
            0.30219448016676936,
            0.30185406178724,
            0.3532743642861158,
            0.28958470008078463,
            0.3349060261598345,
            0.34411124435206114,
            0.3152977426464545,
            0.29782241137910326,
            0.31425542821817204,
            0.3126231283092502,
            0.2881227486991887,
            0.33983115304765804,
            0.3167236456386898,
            0.2979896361914936,
            0.29286568673773433,
            0.27866738317966255,
            0.2515629786920931,
            0.30586096666605106,
            0.3218033707569185,
            0.3287490494085021,
            0.32218462783508134,
            0.2815257876253714,
            0.2807935577161872,
            0.27041331016384085,
            0.27924739777160495,
            0.26188501829243416,
            0.2804165735001245,
            0.278003587961449,
            0.2830345527549445,
            0.2746732067129476,
            0.26676271347995184,
            0.2840970628873123,
            0.25864115991126374,
            0.25827351432846235,
            0.25260652348025553,
            0.2754333209255247,
            0.27027742566420815,
            0.27821131994546355,
            0.2631503127587501,
            0.37206075183582904,
            0.2762776464055637,
            0.2912887986968307,
            0.25884105000400387,
            0.268547755627577,
            0.28457962653553054,
            0.2876483518871138,
            0.27290756276922856,
            0.2647320410184776,
            0.2956474760857091,
            0.26420960086915984,
            0.2957190282171403,
            0.39879346980448727,
            0.25447175884187734,
            0.26093435349828525,
            0.274935523475747,
            0.3004428972300822,
            0.2937913471580715,
            0.30990361455148224,
            0.2926171579813671,
            0.2673306059989466,
            0.2662547327333057,
            0.2869994292984084,
            0.286766301309262,
            0.2952430568530033,
            0.2813735553424425,
            0.30080559944077706,
            0.2889138344433632,
            0.2564047327773941,
            0.25780519338611296,
            0.2694136590418173,
            0.25013754012733164,
            0.2814495191285488,
            0.25143440966735736,
            0.2503908700199547,
            0.279539540892167,
            0.2728558796898881,
            0.26210608189654094,
            0.28479758117494164,
            0.2911176679309426,
            0.2782693930419631,
            0.3045186043054503,
            0.29549068860046357,
            0.2680150290650452,
            0.28290555977775755,
            0.2547938415276872,
            0.2728867596600601
           ]
          },
          {
           "label": "max_depth",
           "range": [
            4,
            7
           ],
           "values": [
            6,
            4,
            4,
            4,
            5,
            5,
            4,
            6,
            7,
            6,
            5,
            5,
            5,
            5,
            7,
            5,
            6,
            5,
            6,
            4,
            5,
            5,
            5,
            5,
            6,
            5,
            4,
            5,
            6,
            6,
            4,
            5,
            5,
            5,
            4,
            5,
            5,
            4,
            5,
            4,
            5,
            5,
            5,
            5,
            5,
            5,
            5,
            7,
            6,
            5,
            5,
            5,
            5,
            5,
            5,
            5,
            5,
            4,
            5,
            6,
            5,
            5,
            5,
            5,
            5,
            5,
            5,
            5,
            5,
            6,
            5,
            5,
            5,
            5,
            5,
            5,
            4,
            5,
            5,
            5,
            5,
            5,
            5,
            5,
            5,
            5,
            5,
            5,
            5,
            5,
            6,
            5,
            5,
            5,
            5,
            5,
            5,
            5,
            5,
            5
           ]
          },
          {
           "label": "n_estimators",
           "range": [
            454,
            650
           ],
           "values": [
            525,
            481,
            570,
            617,
            511,
            572,
            541,
            569,
            463,
            511,
            642,
            593,
            599,
            606,
            612,
            642,
            649,
            634,
            622,
            588,
            625,
            598,
            601,
            650,
            553,
            582,
            611,
            630,
            635,
            630,
            609,
            624,
            638,
            639,
            643,
            618,
            580,
            575,
            549,
            546,
            561,
            561,
            558,
            557,
            533,
            519,
            563,
            495,
            564,
            539,
            536,
            545,
            526,
            575,
            583,
            565,
            552,
            502,
            537,
            537,
            454,
            522,
            523,
            524,
            509,
            490,
            514,
            527,
            567,
            558,
            582,
            579,
            592,
            587,
            585,
            590,
            594,
            603,
            572,
            590,
            597,
            579,
            576,
            561,
            578,
            584,
            568,
            586,
            573,
            555,
            581,
            562,
            569,
            589,
            597,
            544,
            605,
            550,
            585,
            615
           ]
          },
          {
           "label": "reg_lambda",
           "range": [
            1.1616568805333776,
            9.996008124901966
           ],
           "values": [
            6.387926357773329,
            8.795585311974417,
            9.72918866945795,
            2.650640588680904,
            3.6210622617823773,
            4.297256589643226,
            5.628109945722504,
            2.5347171131856236,
            8.275576133048151,
            4.961372443656412,
            1.1616568805333776,
            3.9282399817415636,
            4.2048210100149435,
            6.869911813648873,
            7.045569761101486,
            7.127816269683817,
            7.407800219920706,
            6.064429990809578,
            7.672626854120868,
            9.964152904250923,
            6.665863409966074,
            5.421570148534087,
            4.95073360730484,
            8.450085335117869,
            2.990340352765161,
            7.76708542716981,
            4.6731454854902275,
            6.069333738937711,
            9.123914338438064,
            6.268640174494242,
            6.82867699771936,
            5.981223152735844,
            5.497992906859358,
            7.022058180716762,
            5.634554660533964,
            8.055553923562961,
            9.133692791492193,
            9.36579066369502,
            8.913838290630839,
            8.275066211135554,
            9.004723877706862,
            9.417379223885167,
            8.897821818794494,
            8.897967592837595,
            9.518446027402552,
            8.616119427740207,
            9.756523472308244,
            9.90328010535973,
            9.551111028097838,
            9.155668254653772,
            9.323801815527217,
            8.935966327481685,
            9.702240255140262,
            7.992312821552771,
            9.167535002070286,
            8.62222402543187,
            9.734314882735944,
            1.2282093859548393,
            9.996008124901966,
            9.920462413342708,
            8.377558905155947,
            9.224121067592858,
            9.49742506602248,
            9.343434516268418,
            9.131742353333927,
            7.438605776309886,
            8.67979684360762,
            9.59040129193825,
            7.932313696006135,
            8.20245542204507,
            9.231542805518538,
            9.118927735418945,
            8.572832752627512,
            9.471784852516889,
            9.452882410197383,
            9.631405866430159,
            9.730286106187167,
            8.865847001448193,
            9.633974866783955,
            9.78166843293198,
            9.399797822920643,
            9.189879463652373,
            8.786421425203095,
            8.740300324899914,
            8.39583744220131,
            8.401476519206083,
            7.432779640679786,
            7.74895441041948,
            8.361849247156957,
            8.988068351902044,
            8.150709244879604,
            9.499256333139618,
            8.52519475331354,
            9.982141583273759,
            8.984508918266526,
            9.418660594712222,
            9.75399331401718,
            3.356748887596437,
            9.278791285544758,
            8.454691944213861
           ]
          }
         ],
         "labelangle": 30,
         "labelside": "bottom",
         "line": {
          "color": [
           0.3351458823529009,
           0.3338576470587823,
           0.33584098039211774,
           0.3353737254901572,
           0.33675647058819747,
           0.3369923529411386,
           0.3358964705881965,
           0.3367443137254522,
           0.333765686274468,
           0.3364068627450598,
           0.33600588235290263,
           0.33705490196074644,
           0.33724627450976696,
           0.3375645098038851,
           0.3351282352940773,
           0.33730411764702173,
           0.33528490196074395,
           0.33706745098035484,
           0.3362809803921184,
           0.3356656862744706,
           0.3365764705881975,
           0.3372456862744725,
           0.33659078431368716,
           0.3369588235293737,
           0.33631313725486334,
           0.337092745098002,
           0.33578098039211757,
           0.337270588235257,
           0.3367598039215304,
           0.3369817647058443,
           0.3349513725489804,
           0.33715529411760925,
           0.3373662745097662,
           0.3368594117646681,
           0.3363325490195692,
           0.337679999999963,
           0.33826039215682563,
           0.33494941176466636,
           0.3378356862744736,
           0.3344382352940778,
           0.33836411764702307,
           0.33796705882349315,
           0.33780607843133625,
           0.3377980392156496,
           0.3377464705881984,
           0.33757901960780645,
           0.33811960784310024,
           0.3370854901960407,
           0.33764509803917875,
           0.3378578431372175,
           0.3375498039215316,
           0.3374539215685902,
           0.33771941176466896,
           0.3363870588234912,
           0.3376770588234929,
           0.337400588235257,
           0.3375147058823159,
           0.33372431372544975,
           0.33784431372545376,
           0.3372866666666296,
           0.33685509803917757,
           0.3378696078431005,
           0.3379715686274151,
           0.33751333333329636,
           0.33750019607839393,
           0.33579490196074574,
           0.3375843137254526,
           0.33749686274506063,
           0.3377403921568263,
           0.33710098039211933,
           0.3379882352940814,
           0.337623921568591,
           0.33751058823525737,
           0.33812960784310087,
           0.3375301960783945,
           0.3379556862744729,
           0.33532647058819637,
           0.3369068627450603,
           0.33754352941172794,
           0.33721607843133555,
           0.3370692156862368,
           0.337896078431336,
           0.3379511764705515,
           0.3379256862744734,
           0.33799039215682664,
           0.3381764705881991,
           0.33764627450976703,
           0.33770980392153227,
           0.33768627450976774,
           0.3377633333332961,
           0.3371335294117272,
           0.3377196078431002,
           0.33725549019604184,
           0.3373866666666293,
           0.33726470588231594,
           0.3376768627450614,
           0.33757470588231553,
           0.337184313725453,
           0.33775882352937525,
           0.33776019607839447
          ],
          "colorbar": {
           "title": {
            "text": "Objective Value"
           }
          },
          "colorscale": [
           [
            0,
            "rgb(247,251,255)"
           ],
           [
            0.125,
            "rgb(222,235,247)"
           ],
           [
            0.25,
            "rgb(198,219,239)"
           ],
           [
            0.375,
            "rgb(158,202,225)"
           ],
           [
            0.5,
            "rgb(107,174,214)"
           ],
           [
            0.625,
            "rgb(66,146,198)"
           ],
           [
            0.75,
            "rgb(33,113,181)"
           ],
           [
            0.875,
            "rgb(8,81,156)"
           ],
           [
            1,
            "rgb(8,48,107)"
           ]
          ],
          "reversescale": false,
          "showscale": true
         },
         "type": "parcoords"
        }
       ],
       "layout": {
        "template": {
         "data": {
          "bar": [
           {
            "error_x": {
             "color": "#2a3f5f"
            },
            "error_y": {
             "color": "#2a3f5f"
            },
            "marker": {
             "line": {
              "color": "#E5ECF6",
              "width": 0.5
             },
             "pattern": {
              "fillmode": "overlay",
              "size": 10,
              "solidity": 0.2
             }
            },
            "type": "bar"
           }
          ],
          "barpolar": [
           {
            "marker": {
             "line": {
              "color": "#E5ECF6",
              "width": 0.5
             },
             "pattern": {
              "fillmode": "overlay",
              "size": 10,
              "solidity": 0.2
             }
            },
            "type": "barpolar"
           }
          ],
          "carpet": [
           {
            "aaxis": {
             "endlinecolor": "#2a3f5f",
             "gridcolor": "white",
             "linecolor": "white",
             "minorgridcolor": "white",
             "startlinecolor": "#2a3f5f"
            },
            "baxis": {
             "endlinecolor": "#2a3f5f",
             "gridcolor": "white",
             "linecolor": "white",
             "minorgridcolor": "white",
             "startlinecolor": "#2a3f5f"
            },
            "type": "carpet"
           }
          ],
          "choropleth": [
           {
            "colorbar": {
             "outlinewidth": 0,
             "ticks": ""
            },
            "type": "choropleth"
           }
          ],
          "contour": [
           {
            "colorbar": {
             "outlinewidth": 0,
             "ticks": ""
            },
            "colorscale": [
             [
              0,
              "#0d0887"
             ],
             [
              0.1111111111111111,
              "#46039f"
             ],
             [
              0.2222222222222222,
              "#7201a8"
             ],
             [
              0.3333333333333333,
              "#9c179e"
             ],
             [
              0.4444444444444444,
              "#bd3786"
             ],
             [
              0.5555555555555556,
              "#d8576b"
             ],
             [
              0.6666666666666666,
              "#ed7953"
             ],
             [
              0.7777777777777778,
              "#fb9f3a"
             ],
             [
              0.8888888888888888,
              "#fdca26"
             ],
             [
              1,
              "#f0f921"
             ]
            ],
            "type": "contour"
           }
          ],
          "contourcarpet": [
           {
            "colorbar": {
             "outlinewidth": 0,
             "ticks": ""
            },
            "type": "contourcarpet"
           }
          ],
          "heatmap": [
           {
            "colorbar": {
             "outlinewidth": 0,
             "ticks": ""
            },
            "colorscale": [
             [
              0,
              "#0d0887"
             ],
             [
              0.1111111111111111,
              "#46039f"
             ],
             [
              0.2222222222222222,
              "#7201a8"
             ],
             [
              0.3333333333333333,
              "#9c179e"
             ],
             [
              0.4444444444444444,
              "#bd3786"
             ],
             [
              0.5555555555555556,
              "#d8576b"
             ],
             [
              0.6666666666666666,
              "#ed7953"
             ],
             [
              0.7777777777777778,
              "#fb9f3a"
             ],
             [
              0.8888888888888888,
              "#fdca26"
             ],
             [
              1,
              "#f0f921"
             ]
            ],
            "type": "heatmap"
           }
          ],
          "histogram": [
           {
            "marker": {
             "pattern": {
              "fillmode": "overlay",
              "size": 10,
              "solidity": 0.2
             }
            },
            "type": "histogram"
           }
          ],
          "histogram2d": [
           {
            "colorbar": {
             "outlinewidth": 0,
             "ticks": ""
            },
            "colorscale": [
             [
              0,
              "#0d0887"
             ],
             [
              0.1111111111111111,
              "#46039f"
             ],
             [
              0.2222222222222222,
              "#7201a8"
             ],
             [
              0.3333333333333333,
              "#9c179e"
             ],
             [
              0.4444444444444444,
              "#bd3786"
             ],
             [
              0.5555555555555556,
              "#d8576b"
             ],
             [
              0.6666666666666666,
              "#ed7953"
             ],
             [
              0.7777777777777778,
              "#fb9f3a"
             ],
             [
              0.8888888888888888,
              "#fdca26"
             ],
             [
              1,
              "#f0f921"
             ]
            ],
            "type": "histogram2d"
           }
          ],
          "histogram2dcontour": [
           {
            "colorbar": {
             "outlinewidth": 0,
             "ticks": ""
            },
            "colorscale": [
             [
              0,
              "#0d0887"
             ],
             [
              0.1111111111111111,
              "#46039f"
             ],
             [
              0.2222222222222222,
              "#7201a8"
             ],
             [
              0.3333333333333333,
              "#9c179e"
             ],
             [
              0.4444444444444444,
              "#bd3786"
             ],
             [
              0.5555555555555556,
              "#d8576b"
             ],
             [
              0.6666666666666666,
              "#ed7953"
             ],
             [
              0.7777777777777778,
              "#fb9f3a"
             ],
             [
              0.8888888888888888,
              "#fdca26"
             ],
             [
              1,
              "#f0f921"
             ]
            ],
            "type": "histogram2dcontour"
           }
          ],
          "mesh3d": [
           {
            "colorbar": {
             "outlinewidth": 0,
             "ticks": ""
            },
            "type": "mesh3d"
           }
          ],
          "parcoords": [
           {
            "line": {
             "colorbar": {
              "outlinewidth": 0,
              "ticks": ""
             }
            },
            "type": "parcoords"
           }
          ],
          "pie": [
           {
            "automargin": true,
            "type": "pie"
           }
          ],
          "scatter": [
           {
            "fillpattern": {
             "fillmode": "overlay",
             "size": 10,
             "solidity": 0.2
            },
            "type": "scatter"
           }
          ],
          "scatter3d": [
           {
            "line": {
             "colorbar": {
              "outlinewidth": 0,
              "ticks": ""
             }
            },
            "marker": {
             "colorbar": {
              "outlinewidth": 0,
              "ticks": ""
             }
            },
            "type": "scatter3d"
           }
          ],
          "scattercarpet": [
           {
            "marker": {
             "colorbar": {
              "outlinewidth": 0,
              "ticks": ""
             }
            },
            "type": "scattercarpet"
           }
          ],
          "scattergeo": [
           {
            "marker": {
             "colorbar": {
              "outlinewidth": 0,
              "ticks": ""
             }
            },
            "type": "scattergeo"
           }
          ],
          "scattergl": [
           {
            "marker": {
             "colorbar": {
              "outlinewidth": 0,
              "ticks": ""
             }
            },
            "type": "scattergl"
           }
          ],
          "scattermap": [
           {
            "marker": {
             "colorbar": {
              "outlinewidth": 0,
              "ticks": ""
             }
            },
            "type": "scattermap"
           }
          ],
          "scattermapbox": [
           {
            "marker": {
             "colorbar": {
              "outlinewidth": 0,
              "ticks": ""
             }
            },
            "type": "scattermapbox"
           }
          ],
          "scatterpolar": [
           {
            "marker": {
             "colorbar": {
              "outlinewidth": 0,
              "ticks": ""
             }
            },
            "type": "scatterpolar"
           }
          ],
          "scatterpolargl": [
           {
            "marker": {
             "colorbar": {
              "outlinewidth": 0,
              "ticks": ""
             }
            },
            "type": "scatterpolargl"
           }
          ],
          "scatterternary": [
           {
            "marker": {
             "colorbar": {
              "outlinewidth": 0,
              "ticks": ""
             }
            },
            "type": "scatterternary"
           }
          ],
          "surface": [
           {
            "colorbar": {
             "outlinewidth": 0,
             "ticks": ""
            },
            "colorscale": [
             [
              0,
              "#0d0887"
             ],
             [
              0.1111111111111111,
              "#46039f"
             ],
             [
              0.2222222222222222,
              "#7201a8"
             ],
             [
              0.3333333333333333,
              "#9c179e"
             ],
             [
              0.4444444444444444,
              "#bd3786"
             ],
             [
              0.5555555555555556,
              "#d8576b"
             ],
             [
              0.6666666666666666,
              "#ed7953"
             ],
             [
              0.7777777777777778,
              "#fb9f3a"
             ],
             [
              0.8888888888888888,
              "#fdca26"
             ],
             [
              1,
              "#f0f921"
             ]
            ],
            "type": "surface"
           }
          ],
          "table": [
           {
            "cells": {
             "fill": {
              "color": "#EBF0F8"
             },
             "line": {
              "color": "white"
             }
            },
            "header": {
             "fill": {
              "color": "#C8D4E3"
             },
             "line": {
              "color": "white"
             }
            },
            "type": "table"
           }
          ]
         },
         "layout": {
          "annotationdefaults": {
           "arrowcolor": "#2a3f5f",
           "arrowhead": 0,
           "arrowwidth": 1
          },
          "autotypenumbers": "strict",
          "coloraxis": {
           "colorbar": {
            "outlinewidth": 0,
            "ticks": ""
           }
          },
          "colorscale": {
           "diverging": [
            [
             0,
             "#8e0152"
            ],
            [
             0.1,
             "#c51b7d"
            ],
            [
             0.2,
             "#de77ae"
            ],
            [
             0.3,
             "#f1b6da"
            ],
            [
             0.4,
             "#fde0ef"
            ],
            [
             0.5,
             "#f7f7f7"
            ],
            [
             0.6,
             "#e6f5d0"
            ],
            [
             0.7,
             "#b8e186"
            ],
            [
             0.8,
             "#7fbc41"
            ],
            [
             0.9,
             "#4d9221"
            ],
            [
             1,
             "#276419"
            ]
           ],
           "sequential": [
            [
             0,
             "#0d0887"
            ],
            [
             0.1111111111111111,
             "#46039f"
            ],
            [
             0.2222222222222222,
             "#7201a8"
            ],
            [
             0.3333333333333333,
             "#9c179e"
            ],
            [
             0.4444444444444444,
             "#bd3786"
            ],
            [
             0.5555555555555556,
             "#d8576b"
            ],
            [
             0.6666666666666666,
             "#ed7953"
            ],
            [
             0.7777777777777778,
             "#fb9f3a"
            ],
            [
             0.8888888888888888,
             "#fdca26"
            ],
            [
             1,
             "#f0f921"
            ]
           ],
           "sequentialminus": [
            [
             0,
             "#0d0887"
            ],
            [
             0.1111111111111111,
             "#46039f"
            ],
            [
             0.2222222222222222,
             "#7201a8"
            ],
            [
             0.3333333333333333,
             "#9c179e"
            ],
            [
             0.4444444444444444,
             "#bd3786"
            ],
            [
             0.5555555555555556,
             "#d8576b"
            ],
            [
             0.6666666666666666,
             "#ed7953"
            ],
            [
             0.7777777777777778,
             "#fb9f3a"
            ],
            [
             0.8888888888888888,
             "#fdca26"
            ],
            [
             1,
             "#f0f921"
            ]
           ]
          },
          "colorway": [
           "#636efa",
           "#EF553B",
           "#00cc96",
           "#ab63fa",
           "#FFA15A",
           "#19d3f3",
           "#FF6692",
           "#B6E880",
           "#FF97FF",
           "#FECB52"
          ],
          "font": {
           "color": "#2a3f5f"
          },
          "geo": {
           "bgcolor": "white",
           "lakecolor": "white",
           "landcolor": "#E5ECF6",
           "showlakes": true,
           "showland": true,
           "subunitcolor": "white"
          },
          "hoverlabel": {
           "align": "left"
          },
          "hovermode": "closest",
          "mapbox": {
           "style": "light"
          },
          "paper_bgcolor": "white",
          "plot_bgcolor": "#E5ECF6",
          "polar": {
           "angularaxis": {
            "gridcolor": "white",
            "linecolor": "white",
            "ticks": ""
           },
           "bgcolor": "#E5ECF6",
           "radialaxis": {
            "gridcolor": "white",
            "linecolor": "white",
            "ticks": ""
           }
          },
          "scene": {
           "xaxis": {
            "backgroundcolor": "#E5ECF6",
            "gridcolor": "white",
            "gridwidth": 2,
            "linecolor": "white",
            "showbackground": true,
            "ticks": "",
            "zerolinecolor": "white"
           },
           "yaxis": {
            "backgroundcolor": "#E5ECF6",
            "gridcolor": "white",
            "gridwidth": 2,
            "linecolor": "white",
            "showbackground": true,
            "ticks": "",
            "zerolinecolor": "white"
           },
           "zaxis": {
            "backgroundcolor": "#E5ECF6",
            "gridcolor": "white",
            "gridwidth": 2,
            "linecolor": "white",
            "showbackground": true,
            "ticks": "",
            "zerolinecolor": "white"
           }
          },
          "shapedefaults": {
           "line": {
            "color": "#2a3f5f"
           }
          },
          "ternary": {
           "aaxis": {
            "gridcolor": "white",
            "linecolor": "white",
            "ticks": ""
           },
           "baxis": {
            "gridcolor": "white",
            "linecolor": "white",
            "ticks": ""
           },
           "bgcolor": "#E5ECF6",
           "caxis": {
            "gridcolor": "white",
            "linecolor": "white",
            "ticks": ""
           }
          },
          "title": {
           "x": 0.05
          },
          "xaxis": {
           "automargin": true,
           "gridcolor": "white",
           "linecolor": "white",
           "ticks": "",
           "title": {
            "standoff": 15
           },
           "zerolinecolor": "white",
           "zerolinewidth": 2
          },
          "yaxis": {
           "automargin": true,
           "gridcolor": "white",
           "linecolor": "white",
           "ticks": "",
           "title": {
            "standoff": 15
           },
           "zerolinecolor": "white",
           "zerolinewidth": 2
          }
         }
        },
        "title": {
         "text": "Parallel Coordinate Plot"
        }
       }
      }
     },
     "metadata": {},
     "output_type": "display_data"
    }
   ],
   "source": [
    "optuna.visualization.plot_parallel_coordinate(study)"
   ]
  },
  {
   "cell_type": "code",
   "execution_count": 35,
   "id": "ffd24796",
   "metadata": {},
   "outputs": [
    {
     "name": "stdout",
     "output_type": "stream",
     "text": [
      "0:\tlearn: 1.9441827\ttotal: 380ms\tremaining: 3m 32s\n",
      "1:\tlearn: 1.9431090\ttotal: 557ms\tremaining: 2m 35s\n",
      "2:\tlearn: 1.9422475\ttotal: 753ms\tremaining: 2m 20s\n",
      "3:\tlearn: 1.9417769\ttotal: 901ms\tremaining: 2m 5s\n",
      "4:\tlearn: 1.9413161\ttotal: 1.08s\tremaining: 2m\n",
      "5:\tlearn: 1.9408937\ttotal: 1.24s\tremaining: 1m 54s\n",
      "6:\tlearn: 1.9406122\ttotal: 1.41s\tremaining: 1m 51s\n",
      "7:\tlearn: 1.9402217\ttotal: 1.6s\tremaining: 1m 50s\n",
      "8:\tlearn: 1.9399121\ttotal: 1.79s\tremaining: 1m 49s\n",
      "9:\tlearn: 1.9396796\ttotal: 1.96s\tremaining: 1m 48s\n",
      "10:\tlearn: 1.9394912\ttotal: 2.13s\tremaining: 1m 46s\n",
      "11:\tlearn: 1.9392952\ttotal: 2.33s\tremaining: 1m 46s\n",
      "12:\tlearn: 1.9390309\ttotal: 2.5s\tremaining: 1m 45s\n",
      "13:\tlearn: 1.9388111\ttotal: 2.66s\tremaining: 1m 43s\n",
      "14:\tlearn: 1.9386341\ttotal: 2.83s\tremaining: 1m 42s\n",
      "15:\tlearn: 1.9383893\ttotal: 3s\tremaining: 1m 42s\n",
      "16:\tlearn: 1.9381622\ttotal: 3.2s\tremaining: 1m 42s\n",
      "17:\tlearn: 1.9379482\ttotal: 3.39s\tremaining: 1m 42s\n",
      "18:\tlearn: 1.9377850\ttotal: 3.56s\tremaining: 1m 41s\n",
      "19:\tlearn: 1.9376017\ttotal: 3.72s\tremaining: 1m 40s\n",
      "20:\tlearn: 1.9373929\ttotal: 3.92s\tremaining: 1m 40s\n",
      "21:\tlearn: 1.9372361\ttotal: 4.08s\tremaining: 1m 39s\n",
      "22:\tlearn: 1.9370918\ttotal: 4.25s\tremaining: 1m 39s\n",
      "23:\tlearn: 1.9368970\ttotal: 4.42s\tremaining: 1m 38s\n",
      "24:\tlearn: 1.9367519\ttotal: 4.61s\tremaining: 1m 38s\n",
      "25:\tlearn: 1.9365968\ttotal: 4.81s\tremaining: 1m 38s\n",
      "26:\tlearn: 1.9364839\ttotal: 5s\tremaining: 1m 38s\n",
      "27:\tlearn: 1.9362916\ttotal: 5.18s\tremaining: 1m 38s\n",
      "28:\tlearn: 1.9361315\ttotal: 5.41s\tremaining: 1m 39s\n",
      "29:\tlearn: 1.9360097\ttotal: 5.61s\tremaining: 1m 39s\n",
      "30:\tlearn: 1.9358604\ttotal: 5.78s\tremaining: 1m 38s\n",
      "31:\tlearn: 1.9357123\ttotal: 5.97s\tremaining: 1m 38s\n",
      "32:\tlearn: 1.9355687\ttotal: 6.13s\tremaining: 1m 38s\n",
      "33:\tlearn: 1.9353634\ttotal: 6.3s\tremaining: 1m 37s\n",
      "34:\tlearn: 1.9352606\ttotal: 6.48s\tremaining: 1m 37s\n",
      "35:\tlearn: 1.9351194\ttotal: 6.65s\tremaining: 1m 36s\n",
      "36:\tlearn: 1.9350013\ttotal: 6.81s\tremaining: 1m 36s\n",
      "37:\tlearn: 1.9348570\ttotal: 6.99s\tremaining: 1m 36s\n",
      "38:\tlearn: 1.9347249\ttotal: 7.17s\tremaining: 1m 36s\n",
      "39:\tlearn: 1.9345810\ttotal: 7.34s\tremaining: 1m 35s\n",
      "40:\tlearn: 1.9344341\ttotal: 7.5s\tremaining: 1m 35s\n",
      "41:\tlearn: 1.9342959\ttotal: 7.67s\tremaining: 1m 34s\n",
      "42:\tlearn: 1.9341524\ttotal: 7.84s\tremaining: 1m 34s\n",
      "43:\tlearn: 1.9340109\ttotal: 8.03s\tremaining: 1m 34s\n",
      "44:\tlearn: 1.9337981\ttotal: 8.21s\tremaining: 1m 34s\n",
      "45:\tlearn: 1.9336525\ttotal: 8.4s\tremaining: 1m 34s\n",
      "46:\tlearn: 1.9335263\ttotal: 8.57s\tremaining: 1m 33s\n",
      "47:\tlearn: 1.9334397\ttotal: 8.74s\tremaining: 1m 33s\n",
      "48:\tlearn: 1.9332478\ttotal: 8.92s\tremaining: 1m 33s\n",
      "49:\tlearn: 1.9330762\ttotal: 9.12s\tremaining: 1m 33s\n",
      "50:\tlearn: 1.9329275\ttotal: 9.29s\tremaining: 1m 32s\n",
      "51:\tlearn: 1.9327930\ttotal: 9.47s\tremaining: 1m 32s\n",
      "52:\tlearn: 1.9326356\ttotal: 9.68s\tremaining: 1m 32s\n",
      "53:\tlearn: 1.9324614\ttotal: 9.85s\tremaining: 1m 32s\n",
      "54:\tlearn: 1.9323217\ttotal: 10s\tremaining: 1m 32s\n",
      "55:\tlearn: 1.9321821\ttotal: 10.2s\tremaining: 1m 31s\n",
      "56:\tlearn: 1.9320258\ttotal: 10.4s\tremaining: 1m 31s\n",
      "57:\tlearn: 1.9318795\ttotal: 10.5s\tremaining: 1m 31s\n",
      "58:\tlearn: 1.9317130\ttotal: 10.7s\tremaining: 1m 30s\n",
      "59:\tlearn: 1.9315589\ttotal: 10.9s\tremaining: 1m 30s\n",
      "60:\tlearn: 1.9313684\ttotal: 11s\tremaining: 1m 30s\n",
      "61:\tlearn: 1.9312183\ttotal: 11.2s\tremaining: 1m 30s\n",
      "62:\tlearn: 1.9310787\ttotal: 11.4s\tremaining: 1m 30s\n",
      "63:\tlearn: 1.9309462\ttotal: 11.6s\tremaining: 1m 30s\n",
      "64:\tlearn: 1.9307783\ttotal: 11.8s\tremaining: 1m 29s\n",
      "65:\tlearn: 1.9306581\ttotal: 12s\tremaining: 1m 29s\n",
      "66:\tlearn: 1.9305289\ttotal: 12.2s\tremaining: 1m 29s\n",
      "67:\tlearn: 1.9304128\ttotal: 12.4s\tremaining: 1m 29s\n",
      "68:\tlearn: 1.9302994\ttotal: 12.5s\tremaining: 1m 29s\n",
      "69:\tlearn: 1.9301943\ttotal: 12.7s\tremaining: 1m 29s\n",
      "70:\tlearn: 1.9300520\ttotal: 12.9s\tremaining: 1m 29s\n",
      "71:\tlearn: 1.9299169\ttotal: 13.1s\tremaining: 1m 28s\n",
      "72:\tlearn: 1.9297927\ttotal: 13.3s\tremaining: 1m 28s\n",
      "73:\tlearn: 1.9296429\ttotal: 13.5s\tremaining: 1m 28s\n",
      "74:\tlearn: 1.9295212\ttotal: 13.6s\tremaining: 1m 28s\n",
      "75:\tlearn: 1.9293978\ttotal: 13.8s\tremaining: 1m 28s\n",
      "76:\tlearn: 1.9292532\ttotal: 14s\tremaining: 1m 27s\n",
      "77:\tlearn: 1.9291260\ttotal: 14.1s\tremaining: 1m 27s\n",
      "78:\tlearn: 1.9289932\ttotal: 14.3s\tremaining: 1m 27s\n",
      "79:\tlearn: 1.9288732\ttotal: 14.5s\tremaining: 1m 27s\n",
      "80:\tlearn: 1.9287403\ttotal: 14.7s\tremaining: 1m 27s\n",
      "81:\tlearn: 1.9286514\ttotal: 14.9s\tremaining: 1m 26s\n",
      "82:\tlearn: 1.9285664\ttotal: 15s\tremaining: 1m 26s\n",
      "83:\tlearn: 1.9284478\ttotal: 15.2s\tremaining: 1m 26s\n",
      "84:\tlearn: 1.9283487\ttotal: 15.3s\tremaining: 1m 25s\n",
      "85:\tlearn: 1.9282356\ttotal: 15.5s\tremaining: 1m 25s\n",
      "86:\tlearn: 1.9280918\ttotal: 15.7s\tremaining: 1m 25s\n",
      "87:\tlearn: 1.9279370\ttotal: 15.9s\tremaining: 1m 25s\n",
      "88:\tlearn: 1.9278210\ttotal: 16s\tremaining: 1m 25s\n",
      "89:\tlearn: 1.9277037\ttotal: 16.2s\tremaining: 1m 24s\n",
      "90:\tlearn: 1.9275971\ttotal: 16.4s\tremaining: 1m 24s\n",
      "91:\tlearn: 1.9274661\ttotal: 16.6s\tremaining: 1m 24s\n",
      "92:\tlearn: 1.9273193\ttotal: 16.7s\tremaining: 1m 24s\n",
      "93:\tlearn: 1.9271831\ttotal: 16.9s\tremaining: 1m 24s\n",
      "94:\tlearn: 1.9270576\ttotal: 17.1s\tremaining: 1m 23s\n",
      "95:\tlearn: 1.9269354\ttotal: 17.3s\tremaining: 1m 23s\n",
      "96:\tlearn: 1.9268138\ttotal: 17.4s\tremaining: 1m 23s\n",
      "97:\tlearn: 1.9267009\ttotal: 17.6s\tremaining: 1m 23s\n",
      "98:\tlearn: 1.9266352\ttotal: 17.8s\tremaining: 1m 23s\n",
      "99:\tlearn: 1.9265306\ttotal: 18s\tremaining: 1m 22s\n",
      "100:\tlearn: 1.9264153\ttotal: 18.2s\tremaining: 1m 22s\n",
      "101:\tlearn: 1.9262882\ttotal: 18.3s\tremaining: 1m 22s\n",
      "102:\tlearn: 1.9261833\ttotal: 18.5s\tremaining: 1m 22s\n",
      "103:\tlearn: 1.9261137\ttotal: 18.7s\tremaining: 1m 22s\n",
      "104:\tlearn: 1.9259990\ttotal: 18.9s\tremaining: 1m 22s\n",
      "105:\tlearn: 1.9258652\ttotal: 19.1s\tremaining: 1m 21s\n",
      "106:\tlearn: 1.9257721\ttotal: 19.3s\tremaining: 1m 21s\n",
      "107:\tlearn: 1.9256853\ttotal: 19.5s\tremaining: 1m 21s\n",
      "108:\tlearn: 1.9255541\ttotal: 19.6s\tremaining: 1m 21s\n",
      "109:\tlearn: 1.9254555\ttotal: 19.8s\tremaining: 1m 21s\n",
      "110:\tlearn: 1.9253714\ttotal: 20s\tremaining: 1m 20s\n",
      "111:\tlearn: 1.9252774\ttotal: 20.1s\tremaining: 1m 20s\n",
      "112:\tlearn: 1.9251745\ttotal: 20.3s\tremaining: 1m 20s\n",
      "113:\tlearn: 1.9250617\ttotal: 20.5s\tremaining: 1m 20s\n",
      "114:\tlearn: 1.9249718\ttotal: 20.7s\tremaining: 1m 20s\n",
      "115:\tlearn: 1.9248567\ttotal: 20.9s\tremaining: 1m 20s\n",
      "116:\tlearn: 1.9247278\ttotal: 21s\tremaining: 1m 19s\n",
      "117:\tlearn: 1.9246405\ttotal: 21.2s\tremaining: 1m 19s\n",
      "118:\tlearn: 1.9245411\ttotal: 21.4s\tremaining: 1m 19s\n",
      "119:\tlearn: 1.9244218\ttotal: 21.5s\tremaining: 1m 19s\n",
      "120:\tlearn: 1.9243458\ttotal: 21.7s\tremaining: 1m 18s\n",
      "121:\tlearn: 1.9242688\ttotal: 21.9s\tremaining: 1m 18s\n",
      "122:\tlearn: 1.9241473\ttotal: 22s\tremaining: 1m 18s\n",
      "123:\tlearn: 1.9240596\ttotal: 22.2s\tremaining: 1m 18s\n",
      "124:\tlearn: 1.9239412\ttotal: 22.4s\tremaining: 1m 18s\n",
      "125:\tlearn: 1.9238654\ttotal: 22.5s\tremaining: 1m 17s\n",
      "126:\tlearn: 1.9237579\ttotal: 22.7s\tremaining: 1m 17s\n",
      "127:\tlearn: 1.9236741\ttotal: 22.9s\tremaining: 1m 17s\n",
      "128:\tlearn: 1.9235586\ttotal: 23.1s\tremaining: 1m 17s\n",
      "129:\tlearn: 1.9234813\ttotal: 23.3s\tremaining: 1m 17s\n",
      "130:\tlearn: 1.9233978\ttotal: 23.4s\tremaining: 1m 16s\n",
      "131:\tlearn: 1.9232873\ttotal: 23.6s\tremaining: 1m 16s\n",
      "132:\tlearn: 1.9232035\ttotal: 23.8s\tremaining: 1m 16s\n",
      "133:\tlearn: 1.9231307\ttotal: 23.9s\tremaining: 1m 16s\n",
      "134:\tlearn: 1.9230025\ttotal: 24.1s\tremaining: 1m 16s\n",
      "135:\tlearn: 1.9229269\ttotal: 24.2s\tremaining: 1m 15s\n",
      "136:\tlearn: 1.9228365\ttotal: 24.4s\tremaining: 1m 15s\n",
      "137:\tlearn: 1.9227348\ttotal: 24.6s\tremaining: 1m 15s\n",
      "138:\tlearn: 1.9226320\ttotal: 24.8s\tremaining: 1m 15s\n",
      "139:\tlearn: 1.9225529\ttotal: 25s\tremaining: 1m 15s\n",
      "140:\tlearn: 1.9224686\ttotal: 25.1s\tremaining: 1m 14s\n",
      "141:\tlearn: 1.9223582\ttotal: 25.3s\tremaining: 1m 14s\n",
      "142:\tlearn: 1.9222954\ttotal: 25.5s\tremaining: 1m 14s\n",
      "143:\tlearn: 1.9222061\ttotal: 25.7s\tremaining: 1m 14s\n",
      "144:\tlearn: 1.9221313\ttotal: 25.8s\tremaining: 1m 14s\n",
      "145:\tlearn: 1.9220406\ttotal: 26s\tremaining: 1m 13s\n",
      "146:\tlearn: 1.9219376\ttotal: 26.2s\tremaining: 1m 13s\n",
      "147:\tlearn: 1.9218389\ttotal: 26.3s\tremaining: 1m 13s\n",
      "148:\tlearn: 1.9217590\ttotal: 26.5s\tremaining: 1m 13s\n",
      "149:\tlearn: 1.9216802\ttotal: 26.7s\tremaining: 1m 13s\n",
      "150:\tlearn: 1.9216089\ttotal: 26.9s\tremaining: 1m 12s\n",
      "151:\tlearn: 1.9215028\ttotal: 27s\tremaining: 1m 12s\n",
      "152:\tlearn: 1.9214220\ttotal: 27.2s\tremaining: 1m 12s\n",
      "153:\tlearn: 1.9213675\ttotal: 27.3s\tremaining: 1m 12s\n",
      "154:\tlearn: 1.9212976\ttotal: 27.5s\tremaining: 1m 12s\n",
      "155:\tlearn: 1.9212176\ttotal: 27.6s\tremaining: 1m 11s\n",
      "156:\tlearn: 1.9211356\ttotal: 27.8s\tremaining: 1m 11s\n",
      "157:\tlearn: 1.9210709\ttotal: 28s\tremaining: 1m 11s\n",
      "158:\tlearn: 1.9209946\ttotal: 28.1s\tremaining: 1m 11s\n",
      "159:\tlearn: 1.9209328\ttotal: 28.3s\tremaining: 1m 10s\n",
      "160:\tlearn: 1.9208524\ttotal: 28.5s\tremaining: 1m 10s\n",
      "161:\tlearn: 1.9207300\ttotal: 28.6s\tremaining: 1m 10s\n",
      "162:\tlearn: 1.9206550\ttotal: 28.8s\tremaining: 1m 10s\n",
      "163:\tlearn: 1.9205120\ttotal: 29s\tremaining: 1m 10s\n",
      "164:\tlearn: 1.9204273\ttotal: 29.2s\tremaining: 1m 10s\n",
      "165:\tlearn: 1.9203526\ttotal: 29.3s\tremaining: 1m 9s\n",
      "166:\tlearn: 1.9202663\ttotal: 29.5s\tremaining: 1m 9s\n",
      "167:\tlearn: 1.9201897\ttotal: 29.7s\tremaining: 1m 9s\n",
      "168:\tlearn: 1.9200963\ttotal: 29.9s\tremaining: 1m 9s\n",
      "169:\tlearn: 1.9200335\ttotal: 30.1s\tremaining: 1m 9s\n",
      "170:\tlearn: 1.9199447\ttotal: 30.3s\tremaining: 1m 9s\n",
      "171:\tlearn: 1.9198338\ttotal: 30.5s\tremaining: 1m 8s\n",
      "172:\tlearn: 1.9197636\ttotal: 30.6s\tremaining: 1m 8s\n",
      "173:\tlearn: 1.9196778\ttotal: 30.8s\tremaining: 1m 8s\n",
      "174:\tlearn: 1.9195840\ttotal: 31s\tremaining: 1m 8s\n",
      "175:\tlearn: 1.9195247\ttotal: 31.2s\tremaining: 1m 8s\n",
      "176:\tlearn: 1.9194503\ttotal: 31.3s\tremaining: 1m 7s\n",
      "177:\tlearn: 1.9193682\ttotal: 31.5s\tremaining: 1m 7s\n",
      "178:\tlearn: 1.9192709\ttotal: 31.7s\tremaining: 1m 7s\n",
      "179:\tlearn: 1.9191719\ttotal: 31.9s\tremaining: 1m 7s\n",
      "180:\tlearn: 1.9190709\ttotal: 32s\tremaining: 1m 7s\n",
      "181:\tlearn: 1.9190039\ttotal: 32.2s\tremaining: 1m 7s\n",
      "182:\tlearn: 1.9189388\ttotal: 32.4s\tremaining: 1m 6s\n",
      "183:\tlearn: 1.9188547\ttotal: 32.5s\tremaining: 1m 6s\n",
      "184:\tlearn: 1.9187585\ttotal: 32.7s\tremaining: 1m 6s\n",
      "185:\tlearn: 1.9186784\ttotal: 32.9s\tremaining: 1m 6s\n",
      "186:\tlearn: 1.9186019\ttotal: 33.1s\tremaining: 1m 6s\n",
      "187:\tlearn: 1.9184950\ttotal: 33.3s\tremaining: 1m 6s\n",
      "188:\tlearn: 1.9183916\ttotal: 33.5s\tremaining: 1m 5s\n",
      "189:\tlearn: 1.9183071\ttotal: 33.7s\tremaining: 1m 5s\n",
      "190:\tlearn: 1.9182453\ttotal: 33.8s\tremaining: 1m 5s\n",
      "191:\tlearn: 1.9181933\ttotal: 34s\tremaining: 1m 5s\n",
      "192:\tlearn: 1.9181422\ttotal: 34.1s\tremaining: 1m 5s\n",
      "193:\tlearn: 1.9180517\ttotal: 34.3s\tremaining: 1m 4s\n",
      "194:\tlearn: 1.9179730\ttotal: 34.5s\tremaining: 1m 4s\n",
      "195:\tlearn: 1.9178894\ttotal: 34.7s\tremaining: 1m 4s\n",
      "196:\tlearn: 1.9177981\ttotal: 34.8s\tremaining: 1m 4s\n",
      "197:\tlearn: 1.9177233\ttotal: 35s\tremaining: 1m 4s\n",
      "198:\tlearn: 1.9176251\ttotal: 35.2s\tremaining: 1m 4s\n",
      "199:\tlearn: 1.9175735\ttotal: 35.4s\tremaining: 1m 3s\n",
      "200:\tlearn: 1.9174837\ttotal: 35.6s\tremaining: 1m 3s\n",
      "201:\tlearn: 1.9174379\ttotal: 35.7s\tremaining: 1m 3s\n",
      "202:\tlearn: 1.9173644\ttotal: 35.9s\tremaining: 1m 3s\n",
      "203:\tlearn: 1.9172952\ttotal: 36s\tremaining: 1m 3s\n",
      "204:\tlearn: 1.9172196\ttotal: 36.2s\tremaining: 1m 2s\n",
      "205:\tlearn: 1.9171226\ttotal: 36.4s\tremaining: 1m 2s\n",
      "206:\tlearn: 1.9170410\ttotal: 36.6s\tremaining: 1m 2s\n",
      "207:\tlearn: 1.9169567\ttotal: 36.7s\tremaining: 1m 2s\n",
      "208:\tlearn: 1.9168969\ttotal: 36.9s\tremaining: 1m 2s\n",
      "209:\tlearn: 1.9168187\ttotal: 37s\tremaining: 1m 1s\n",
      "210:\tlearn: 1.9167341\ttotal: 37.2s\tremaining: 1m 1s\n",
      "211:\tlearn: 1.9166823\ttotal: 37.3s\tremaining: 1m 1s\n",
      "212:\tlearn: 1.9166078\ttotal: 37.5s\tremaining: 1m 1s\n",
      "213:\tlearn: 1.9165249\ttotal: 37.7s\tremaining: 1m 1s\n",
      "214:\tlearn: 1.9164432\ttotal: 37.9s\tremaining: 1m\n",
      "215:\tlearn: 1.9163781\ttotal: 38.1s\tremaining: 1m\n",
      "216:\tlearn: 1.9163033\ttotal: 38.2s\tremaining: 1m\n",
      "217:\tlearn: 1.9162383\ttotal: 38.4s\tremaining: 1m\n",
      "218:\tlearn: 1.9161799\ttotal: 38.6s\tremaining: 1m\n",
      "219:\tlearn: 1.9161054\ttotal: 38.8s\tremaining: 1m\n",
      "220:\tlearn: 1.9160127\ttotal: 39s\tremaining: 59.9s\n",
      "221:\tlearn: 1.9159296\ttotal: 39.1s\tremaining: 59.8s\n",
      "222:\tlearn: 1.9158591\ttotal: 39.3s\tremaining: 59.6s\n",
      "223:\tlearn: 1.9157799\ttotal: 39.5s\tremaining: 59.5s\n",
      "224:\tlearn: 1.9157159\ttotal: 39.7s\tremaining: 59.3s\n",
      "225:\tlearn: 1.9156582\ttotal: 39.9s\tremaining: 59.1s\n",
      "226:\tlearn: 1.9155867\ttotal: 40s\tremaining: 58.9s\n",
      "227:\tlearn: 1.9155032\ttotal: 40.2s\tremaining: 58.7s\n",
      "228:\tlearn: 1.9154387\ttotal: 40.4s\tremaining: 58.5s\n",
      "229:\tlearn: 1.9153317\ttotal: 40.6s\tremaining: 58.4s\n",
      "230:\tlearn: 1.9152610\ttotal: 40.7s\tremaining: 58.2s\n",
      "231:\tlearn: 1.9152022\ttotal: 40.9s\tremaining: 58s\n",
      "232:\tlearn: 1.9151452\ttotal: 41.1s\tremaining: 57.8s\n",
      "233:\tlearn: 1.9150916\ttotal: 41.2s\tremaining: 57.6s\n",
      "234:\tlearn: 1.9150247\ttotal: 41.4s\tremaining: 57.4s\n",
      "235:\tlearn: 1.9149769\ttotal: 41.6s\tremaining: 57.2s\n",
      "236:\tlearn: 1.9148994\ttotal: 41.7s\tremaining: 57s\n",
      "237:\tlearn: 1.9148125\ttotal: 41.9s\tremaining: 56.8s\n",
      "238:\tlearn: 1.9147488\ttotal: 42s\tremaining: 56.6s\n",
      "239:\tlearn: 1.9146777\ttotal: 42.2s\tremaining: 56.5s\n",
      "240:\tlearn: 1.9146374\ttotal: 42.4s\tremaining: 56.3s\n",
      "241:\tlearn: 1.9145702\ttotal: 42.5s\tremaining: 56.1s\n",
      "242:\tlearn: 1.9144949\ttotal: 42.7s\tremaining: 55.9s\n",
      "243:\tlearn: 1.9144394\ttotal: 42.9s\tremaining: 55.7s\n",
      "244:\tlearn: 1.9143648\ttotal: 43s\tremaining: 55.5s\n",
      "245:\tlearn: 1.9143059\ttotal: 43.2s\tremaining: 55.3s\n",
      "246:\tlearn: 1.9142626\ttotal: 43.4s\tremaining: 55.1s\n",
      "247:\tlearn: 1.9141761\ttotal: 43.5s\tremaining: 54.9s\n",
      "248:\tlearn: 1.9141197\ttotal: 43.7s\tremaining: 54.7s\n",
      "249:\tlearn: 1.9140543\ttotal: 43.8s\tremaining: 54.5s\n",
      "250:\tlearn: 1.9139866\ttotal: 44s\tremaining: 54.3s\n",
      "251:\tlearn: 1.9139094\ttotal: 44.2s\tremaining: 54.2s\n",
      "252:\tlearn: 1.9138636\ttotal: 44.3s\tremaining: 54s\n",
      "253:\tlearn: 1.9137961\ttotal: 44.5s\tremaining: 53.8s\n",
      "254:\tlearn: 1.9137270\ttotal: 44.7s\tremaining: 53.6s\n",
      "255:\tlearn: 1.9136277\ttotal: 44.9s\tremaining: 53.5s\n",
      "256:\tlearn: 1.9135690\ttotal: 45s\tremaining: 53.3s\n",
      "257:\tlearn: 1.9135230\ttotal: 45.2s\tremaining: 53.1s\n",
      "258:\tlearn: 1.9134338\ttotal: 45.4s\tremaining: 52.9s\n",
      "259:\tlearn: 1.9133538\ttotal: 45.6s\tremaining: 52.8s\n",
      "260:\tlearn: 1.9132682\ttotal: 45.8s\tremaining: 52.6s\n",
      "261:\tlearn: 1.9132205\ttotal: 45.9s\tremaining: 52.4s\n",
      "262:\tlearn: 1.9131612\ttotal: 46.1s\tremaining: 52.2s\n",
      "263:\tlearn: 1.9130929\ttotal: 46.3s\tremaining: 52s\n",
      "264:\tlearn: 1.9130299\ttotal: 46.5s\tremaining: 51.9s\n",
      "265:\tlearn: 1.9129471\ttotal: 46.6s\tremaining: 51.7s\n",
      "266:\tlearn: 1.9129017\ttotal: 46.8s\tremaining: 51.5s\n",
      "267:\tlearn: 1.9128702\ttotal: 47s\tremaining: 51.3s\n",
      "268:\tlearn: 1.9127879\ttotal: 47.1s\tremaining: 51.2s\n",
      "269:\tlearn: 1.9127062\ttotal: 47.3s\tremaining: 51s\n",
      "270:\tlearn: 1.9126361\ttotal: 47.5s\tremaining: 50.8s\n",
      "271:\tlearn: 1.9125698\ttotal: 47.6s\tremaining: 50.6s\n",
      "272:\tlearn: 1.9125129\ttotal: 47.8s\tremaining: 50.4s\n",
      "273:\tlearn: 1.9124296\ttotal: 47.9s\tremaining: 50.2s\n",
      "274:\tlearn: 1.9123798\ttotal: 48.1s\tremaining: 50s\n",
      "275:\tlearn: 1.9123147\ttotal: 48.2s\tremaining: 49.8s\n",
      "276:\tlearn: 1.9122523\ttotal: 48.4s\tremaining: 49.6s\n",
      "277:\tlearn: 1.9121791\ttotal: 48.6s\tremaining: 49.5s\n",
      "278:\tlearn: 1.9121089\ttotal: 48.8s\tremaining: 49.3s\n",
      "279:\tlearn: 1.9120290\ttotal: 49s\tremaining: 49.1s\n",
      "280:\tlearn: 1.9119312\ttotal: 49.1s\tremaining: 49s\n",
      "281:\tlearn: 1.9118673\ttotal: 49.3s\tremaining: 48.8s\n",
      "282:\tlearn: 1.9117979\ttotal: 49.5s\tremaining: 48.6s\n",
      "283:\tlearn: 1.9117586\ttotal: 49.7s\tremaining: 48.4s\n",
      "284:\tlearn: 1.9116925\ttotal: 49.9s\tremaining: 48.3s\n",
      "285:\tlearn: 1.9116266\ttotal: 50.1s\tremaining: 48.1s\n",
      "286:\tlearn: 1.9115819\ttotal: 50.2s\tremaining: 47.9s\n",
      "287:\tlearn: 1.9114992\ttotal: 50.4s\tremaining: 47.8s\n",
      "288:\tlearn: 1.9114695\ttotal: 50.5s\tremaining: 47.5s\n",
      "289:\tlearn: 1.9113893\ttotal: 50.7s\tremaining: 47.4s\n",
      "290:\tlearn: 1.9113357\ttotal: 50.9s\tremaining: 47.2s\n",
      "291:\tlearn: 1.9112683\ttotal: 51s\tremaining: 47s\n",
      "292:\tlearn: 1.9111949\ttotal: 51.2s\tremaining: 46.8s\n",
      "293:\tlearn: 1.9111384\ttotal: 51.4s\tremaining: 46.7s\n",
      "294:\tlearn: 1.9110761\ttotal: 51.6s\tremaining: 46.5s\n",
      "295:\tlearn: 1.9109979\ttotal: 51.7s\tremaining: 46.3s\n",
      "296:\tlearn: 1.9109347\ttotal: 51.9s\tremaining: 46.1s\n",
      "297:\tlearn: 1.9108834\ttotal: 52.1s\tremaining: 45.9s\n",
      "298:\tlearn: 1.9108349\ttotal: 52.2s\tremaining: 45.7s\n",
      "299:\tlearn: 1.9107711\ttotal: 52.4s\tremaining: 45.6s\n",
      "300:\tlearn: 1.9107114\ttotal: 52.5s\tremaining: 45.4s\n",
      "301:\tlearn: 1.9106498\ttotal: 52.7s\tremaining: 45.2s\n",
      "302:\tlearn: 1.9106036\ttotal: 52.9s\tremaining: 45s\n",
      "303:\tlearn: 1.9105385\ttotal: 53s\tremaining: 44.8s\n",
      "304:\tlearn: 1.9104629\ttotal: 53.2s\tremaining: 44.7s\n",
      "305:\tlearn: 1.9103828\ttotal: 53.4s\tremaining: 44.5s\n",
      "306:\tlearn: 1.9103206\ttotal: 53.6s\tremaining: 44.3s\n",
      "307:\tlearn: 1.9102683\ttotal: 53.7s\tremaining: 44.1s\n",
      "308:\tlearn: 1.9101795\ttotal: 53.9s\tremaining: 44s\n",
      "309:\tlearn: 1.9101182\ttotal: 54.1s\tremaining: 43.8s\n",
      "310:\tlearn: 1.9100607\ttotal: 54.3s\tremaining: 43.6s\n",
      "311:\tlearn: 1.9100069\ttotal: 54.4s\tremaining: 43.4s\n",
      "312:\tlearn: 1.9099402\ttotal: 54.6s\tremaining: 43.3s\n",
      "313:\tlearn: 1.9098759\ttotal: 54.8s\tremaining: 43.1s\n",
      "314:\tlearn: 1.9098329\ttotal: 55s\tremaining: 42.9s\n",
      "315:\tlearn: 1.9097808\ttotal: 55.1s\tremaining: 42.7s\n",
      "316:\tlearn: 1.9097223\ttotal: 55.3s\tremaining: 42.6s\n",
      "317:\tlearn: 1.9096591\ttotal: 55.5s\tremaining: 42.4s\n",
      "318:\tlearn: 1.9096138\ttotal: 55.6s\tremaining: 42.2s\n",
      "319:\tlearn: 1.9095532\ttotal: 55.8s\tremaining: 42s\n",
      "320:\tlearn: 1.9094630\ttotal: 56s\tremaining: 41.9s\n",
      "321:\tlearn: 1.9093933\ttotal: 56.2s\tremaining: 41.7s\n",
      "322:\tlearn: 1.9093324\ttotal: 56.4s\tremaining: 41.5s\n",
      "323:\tlearn: 1.9092639\ttotal: 56.6s\tremaining: 41.4s\n",
      "324:\tlearn: 1.9091959\ttotal: 56.7s\tremaining: 41.2s\n",
      "325:\tlearn: 1.9091644\ttotal: 56.9s\tremaining: 41s\n",
      "326:\tlearn: 1.9091196\ttotal: 57.1s\tremaining: 40.9s\n",
      "327:\tlearn: 1.9090611\ttotal: 57.3s\tremaining: 40.7s\n",
      "328:\tlearn: 1.9090046\ttotal: 57.4s\tremaining: 40.5s\n",
      "329:\tlearn: 1.9089543\ttotal: 57.6s\tremaining: 40.3s\n",
      "330:\tlearn: 1.9089232\ttotal: 57.8s\tremaining: 40.2s\n",
      "331:\tlearn: 1.9088483\ttotal: 58s\tremaining: 40s\n",
      "332:\tlearn: 1.9087831\ttotal: 58.2s\tremaining: 39.8s\n",
      "333:\tlearn: 1.9087526\ttotal: 58.3s\tremaining: 39.6s\n",
      "334:\tlearn: 1.9086910\ttotal: 58.5s\tremaining: 39.5s\n",
      "335:\tlearn: 1.9086210\ttotal: 58.7s\tremaining: 39.3s\n",
      "336:\tlearn: 1.9085631\ttotal: 58.9s\tremaining: 39.1s\n",
      "337:\tlearn: 1.9085153\ttotal: 59s\tremaining: 39s\n",
      "338:\tlearn: 1.9084701\ttotal: 59.2s\tremaining: 38.8s\n",
      "339:\tlearn: 1.9083858\ttotal: 59.4s\tremaining: 38.6s\n",
      "340:\tlearn: 1.9083512\ttotal: 59.5s\tremaining: 38.4s\n",
      "341:\tlearn: 1.9082938\ttotal: 59.6s\tremaining: 38.2s\n",
      "342:\tlearn: 1.9082373\ttotal: 59.8s\tremaining: 38s\n",
      "343:\tlearn: 1.9081963\ttotal: 60s\tremaining: 37.8s\n",
      "344:\tlearn: 1.9081466\ttotal: 1m\tremaining: 37.7s\n",
      "345:\tlearn: 1.9081196\ttotal: 1m\tremaining: 37.5s\n",
      "346:\tlearn: 1.9080721\ttotal: 1m\tremaining: 37.3s\n",
      "347:\tlearn: 1.9080386\ttotal: 1m\tremaining: 37.1s\n",
      "348:\tlearn: 1.9079964\ttotal: 1m\tremaining: 37s\n",
      "349:\tlearn: 1.9079268\ttotal: 1m 1s\tremaining: 36.8s\n",
      "350:\tlearn: 1.9078829\ttotal: 1m 1s\tremaining: 36.6s\n",
      "351:\tlearn: 1.9078080\ttotal: 1m 1s\tremaining: 36.5s\n",
      "352:\tlearn: 1.9077451\ttotal: 1m 1s\tremaining: 36.3s\n",
      "353:\tlearn: 1.9076768\ttotal: 1m 1s\tremaining: 36.1s\n",
      "354:\tlearn: 1.9076133\ttotal: 1m 1s\tremaining: 35.9s\n",
      "355:\tlearn: 1.9075707\ttotal: 1m 2s\tremaining: 35.8s\n",
      "356:\tlearn: 1.9075140\ttotal: 1m 2s\tremaining: 35.6s\n",
      "357:\tlearn: 1.9074586\ttotal: 1m 2s\tremaining: 35.4s\n",
      "358:\tlearn: 1.9073831\ttotal: 1m 2s\tremaining: 35.2s\n",
      "359:\tlearn: 1.9073274\ttotal: 1m 2s\tremaining: 35.1s\n",
      "360:\tlearn: 1.9072578\ttotal: 1m 2s\tremaining: 34.9s\n",
      "361:\tlearn: 1.9071905\ttotal: 1m 3s\tremaining: 34.7s\n",
      "362:\tlearn: 1.9071151\ttotal: 1m 3s\tremaining: 34.5s\n",
      "363:\tlearn: 1.9070590\ttotal: 1m 3s\tremaining: 34.3s\n",
      "364:\tlearn: 1.9069950\ttotal: 1m 3s\tremaining: 34.2s\n",
      "365:\tlearn: 1.9069260\ttotal: 1m 3s\tremaining: 34s\n",
      "366:\tlearn: 1.9068746\ttotal: 1m 3s\tremaining: 33.8s\n",
      "367:\tlearn: 1.9068094\ttotal: 1m 4s\tremaining: 33.6s\n",
      "368:\tlearn: 1.9067423\ttotal: 1m 4s\tremaining: 33.5s\n",
      "369:\tlearn: 1.9066928\ttotal: 1m 4s\tremaining: 33.3s\n",
      "370:\tlearn: 1.9066312\ttotal: 1m 4s\tremaining: 33.1s\n",
      "371:\tlearn: 1.9066050\ttotal: 1m 4s\tremaining: 32.9s\n",
      "372:\tlearn: 1.9065518\ttotal: 1m 4s\tremaining: 32.7s\n",
      "373:\tlearn: 1.9064765\ttotal: 1m 5s\tremaining: 32.6s\n",
      "374:\tlearn: 1.9064173\ttotal: 1m 5s\tremaining: 32.4s\n",
      "375:\tlearn: 1.9063464\ttotal: 1m 5s\tremaining: 32.2s\n",
      "376:\tlearn: 1.9062871\ttotal: 1m 5s\tremaining: 32s\n",
      "377:\tlearn: 1.9062352\ttotal: 1m 5s\tremaining: 31.9s\n",
      "378:\tlearn: 1.9062095\ttotal: 1m 5s\tremaining: 31.7s\n",
      "379:\tlearn: 1.9061831\ttotal: 1m 6s\tremaining: 31.5s\n",
      "380:\tlearn: 1.9061193\ttotal: 1m 6s\tremaining: 31.3s\n",
      "381:\tlearn: 1.9060712\ttotal: 1m 6s\tremaining: 31.2s\n",
      "382:\tlearn: 1.9060178\ttotal: 1m 6s\tremaining: 31s\n",
      "383:\tlearn: 1.9059857\ttotal: 1m 6s\tremaining: 30.8s\n",
      "384:\tlearn: 1.9059197\ttotal: 1m 7s\tremaining: 30.7s\n",
      "385:\tlearn: 1.9058740\ttotal: 1m 7s\tremaining: 30.5s\n",
      "386:\tlearn: 1.9057832\ttotal: 1m 7s\tremaining: 30.3s\n",
      "387:\tlearn: 1.9057244\ttotal: 1m 7s\tremaining: 30.2s\n",
      "388:\tlearn: 1.9056666\ttotal: 1m 7s\tremaining: 30s\n",
      "389:\tlearn: 1.9056173\ttotal: 1m 8s\tremaining: 29.9s\n",
      "390:\tlearn: 1.9055477\ttotal: 1m 8s\tremaining: 29.7s\n",
      "391:\tlearn: 1.9054745\ttotal: 1m 8s\tremaining: 29.6s\n",
      "392:\tlearn: 1.9054187\ttotal: 1m 8s\tremaining: 29.4s\n",
      "393:\tlearn: 1.9053699\ttotal: 1m 8s\tremaining: 29.2s\n",
      "394:\tlearn: 1.9053284\ttotal: 1m 9s\tremaining: 29s\n",
      "395:\tlearn: 1.9052652\ttotal: 1m 9s\tremaining: 28.9s\n",
      "396:\tlearn: 1.9051969\ttotal: 1m 9s\tremaining: 28.7s\n",
      "397:\tlearn: 1.9051364\ttotal: 1m 9s\tremaining: 28.5s\n",
      "398:\tlearn: 1.9050839\ttotal: 1m 9s\tremaining: 28.3s\n",
      "399:\tlearn: 1.9050258\ttotal: 1m 9s\tremaining: 28.2s\n",
      "400:\tlearn: 1.9049441\ttotal: 1m 10s\tremaining: 28s\n",
      "401:\tlearn: 1.9048952\ttotal: 1m 10s\tremaining: 27.8s\n",
      "402:\tlearn: 1.9048349\ttotal: 1m 10s\tremaining: 27.6s\n",
      "403:\tlearn: 1.9047608\ttotal: 1m 10s\tremaining: 27.5s\n",
      "404:\tlearn: 1.9047263\ttotal: 1m 10s\tremaining: 27.3s\n",
      "405:\tlearn: 1.9046492\ttotal: 1m 10s\tremaining: 27.1s\n",
      "406:\tlearn: 1.9046139\ttotal: 1m 11s\tremaining: 26.9s\n",
      "407:\tlearn: 1.9045428\ttotal: 1m 11s\tremaining: 26.7s\n",
      "408:\tlearn: 1.9044775\ttotal: 1m 11s\tremaining: 26.6s\n",
      "409:\tlearn: 1.9044140\ttotal: 1m 11s\tremaining: 26.4s\n",
      "410:\tlearn: 1.9043560\ttotal: 1m 11s\tremaining: 26.2s\n",
      "411:\tlearn: 1.9043183\ttotal: 1m 12s\tremaining: 26s\n",
      "412:\tlearn: 1.9042562\ttotal: 1m 12s\tremaining: 25.9s\n",
      "413:\tlearn: 1.9042002\ttotal: 1m 12s\tremaining: 25.7s\n",
      "414:\tlearn: 1.9041239\ttotal: 1m 12s\tremaining: 25.5s\n",
      "415:\tlearn: 1.9040742\ttotal: 1m 12s\tremaining: 25.4s\n",
      "416:\tlearn: 1.9040096\ttotal: 1m 12s\tremaining: 25.2s\n",
      "417:\tlearn: 1.9039721\ttotal: 1m 13s\tremaining: 25s\n",
      "418:\tlearn: 1.9039025\ttotal: 1m 13s\tremaining: 24.8s\n",
      "419:\tlearn: 1.9038384\ttotal: 1m 13s\tremaining: 24.7s\n",
      "420:\tlearn: 1.9037823\ttotal: 1m 13s\tremaining: 24.5s\n",
      "421:\tlearn: 1.9037248\ttotal: 1m 13s\tremaining: 24.3s\n",
      "422:\tlearn: 1.9036719\ttotal: 1m 14s\tremaining: 24.1s\n",
      "423:\tlearn: 1.9036057\ttotal: 1m 14s\tremaining: 24s\n",
      "424:\tlearn: 1.9035347\ttotal: 1m 14s\tremaining: 23.8s\n",
      "425:\tlearn: 1.9034764\ttotal: 1m 14s\tremaining: 23.6s\n",
      "426:\tlearn: 1.9034438\ttotal: 1m 14s\tremaining: 23.4s\n",
      "427:\tlearn: 1.9034001\ttotal: 1m 14s\tremaining: 23.3s\n",
      "428:\tlearn: 1.9033438\ttotal: 1m 15s\tremaining: 23.1s\n",
      "429:\tlearn: 1.9032828\ttotal: 1m 15s\tremaining: 22.9s\n",
      "430:\tlearn: 1.9032128\ttotal: 1m 15s\tremaining: 22.7s\n",
      "431:\tlearn: 1.9031516\ttotal: 1m 15s\tremaining: 22.6s\n",
      "432:\tlearn: 1.9030902\ttotal: 1m 15s\tremaining: 22.4s\n",
      "433:\tlearn: 1.9030618\ttotal: 1m 15s\tremaining: 22.2s\n",
      "434:\tlearn: 1.9030080\ttotal: 1m 16s\tremaining: 22s\n",
      "435:\tlearn: 1.9029334\ttotal: 1m 16s\tremaining: 21.9s\n",
      "436:\tlearn: 1.9029027\ttotal: 1m 16s\tremaining: 21.7s\n",
      "437:\tlearn: 1.9028634\ttotal: 1m 16s\tremaining: 21.5s\n",
      "438:\tlearn: 1.9027975\ttotal: 1m 16s\tremaining: 21.3s\n",
      "439:\tlearn: 1.9027601\ttotal: 1m 16s\tremaining: 21.2s\n",
      "440:\tlearn: 1.9027072\ttotal: 1m 17s\tremaining: 21s\n",
      "441:\tlearn: 1.9026639\ttotal: 1m 17s\tremaining: 20.8s\n",
      "442:\tlearn: 1.9025718\ttotal: 1m 17s\tremaining: 20.6s\n",
      "443:\tlearn: 1.9025069\ttotal: 1m 17s\tremaining: 20.5s\n",
      "444:\tlearn: 1.9024649\ttotal: 1m 17s\tremaining: 20.3s\n",
      "445:\tlearn: 1.9024049\ttotal: 1m 17s\tremaining: 20.1s\n",
      "446:\tlearn: 1.9023684\ttotal: 1m 18s\tremaining: 19.9s\n",
      "447:\tlearn: 1.9023355\ttotal: 1m 18s\tremaining: 19.8s\n",
      "448:\tlearn: 1.9023082\ttotal: 1m 18s\tremaining: 19.6s\n",
      "449:\tlearn: 1.9022618\ttotal: 1m 18s\tremaining: 19.4s\n",
      "450:\tlearn: 1.9022100\ttotal: 1m 18s\tremaining: 19.2s\n",
      "451:\tlearn: 1.9021342\ttotal: 1m 19s\tremaining: 19.1s\n",
      "452:\tlearn: 1.9020856\ttotal: 1m 19s\tremaining: 18.9s\n",
      "453:\tlearn: 1.9020355\ttotal: 1m 19s\tremaining: 18.7s\n",
      "454:\tlearn: 1.9019646\ttotal: 1m 19s\tremaining: 18.5s\n",
      "455:\tlearn: 1.9019223\ttotal: 1m 19s\tremaining: 18.3s\n",
      "456:\tlearn: 1.9018852\ttotal: 1m 19s\tremaining: 18.2s\n",
      "457:\tlearn: 1.9018335\ttotal: 1m 19s\tremaining: 18s\n",
      "458:\tlearn: 1.9017763\ttotal: 1m 20s\tremaining: 17.8s\n",
      "459:\tlearn: 1.9017459\ttotal: 1m 20s\tremaining: 17.6s\n",
      "460:\tlearn: 1.9017036\ttotal: 1m 20s\tremaining: 17.5s\n",
      "461:\tlearn: 1.9016614\ttotal: 1m 20s\tremaining: 17.3s\n",
      "462:\tlearn: 1.9016179\ttotal: 1m 20s\tremaining: 17.1s\n",
      "463:\tlearn: 1.9015365\ttotal: 1m 21s\tremaining: 16.9s\n",
      "464:\tlearn: 1.9014776\ttotal: 1m 21s\tremaining: 16.8s\n",
      "465:\tlearn: 1.9014468\ttotal: 1m 21s\tremaining: 16.6s\n",
      "466:\tlearn: 1.9013930\ttotal: 1m 21s\tremaining: 16.4s\n",
      "467:\tlearn: 1.9013434\ttotal: 1m 21s\tremaining: 16.2s\n",
      "468:\tlearn: 1.9012652\ttotal: 1m 21s\tremaining: 16.1s\n",
      "469:\tlearn: 1.9012249\ttotal: 1m 22s\tremaining: 15.9s\n",
      "470:\tlearn: 1.9011693\ttotal: 1m 22s\tremaining: 15.7s\n",
      "471:\tlearn: 1.9011070\ttotal: 1m 22s\tremaining: 15.5s\n",
      "472:\tlearn: 1.9010655\ttotal: 1m 22s\tremaining: 15.4s\n",
      "473:\tlearn: 1.9009881\ttotal: 1m 22s\tremaining: 15.2s\n",
      "474:\tlearn: 1.9009323\ttotal: 1m 22s\tremaining: 15s\n",
      "475:\tlearn: 1.9008782\ttotal: 1m 23s\tremaining: 14.8s\n",
      "476:\tlearn: 1.9008130\ttotal: 1m 23s\tremaining: 14.7s\n",
      "477:\tlearn: 1.9007653\ttotal: 1m 23s\tremaining: 14.5s\n",
      "478:\tlearn: 1.9007111\ttotal: 1m 23s\tremaining: 14.3s\n",
      "479:\tlearn: 1.9006554\ttotal: 1m 23s\tremaining: 14.2s\n",
      "480:\tlearn: 1.9006183\ttotal: 1m 24s\tremaining: 14s\n",
      "481:\tlearn: 1.9005593\ttotal: 1m 24s\tremaining: 13.8s\n",
      "482:\tlearn: 1.9004873\ttotal: 1m 24s\tremaining: 13.6s\n",
      "483:\tlearn: 1.9004274\ttotal: 1m 24s\tremaining: 13.4s\n",
      "484:\tlearn: 1.9003693\ttotal: 1m 24s\tremaining: 13.3s\n",
      "485:\tlearn: 1.9003316\ttotal: 1m 24s\tremaining: 13.1s\n",
      "486:\tlearn: 1.9002859\ttotal: 1m 25s\tremaining: 12.9s\n",
      "487:\tlearn: 1.9002370\ttotal: 1m 25s\tremaining: 12.7s\n",
      "488:\tlearn: 1.9001771\ttotal: 1m 25s\tremaining: 12.6s\n",
      "489:\tlearn: 1.9001282\ttotal: 1m 25s\tremaining: 12.4s\n",
      "490:\tlearn: 1.9000887\ttotal: 1m 25s\tremaining: 12.2s\n",
      "491:\tlearn: 1.9000377\ttotal: 1m 25s\tremaining: 12s\n",
      "492:\tlearn: 1.9000015\ttotal: 1m 26s\tremaining: 11.9s\n",
      "493:\tlearn: 1.8999631\ttotal: 1m 26s\tremaining: 11.7s\n",
      "494:\tlearn: 1.8999206\ttotal: 1m 26s\tremaining: 11.5s\n",
      "495:\tlearn: 1.8998764\ttotal: 1m 26s\tremaining: 11.3s\n",
      "496:\tlearn: 1.8998416\ttotal: 1m 26s\tremaining: 11.2s\n",
      "497:\tlearn: 1.8997880\ttotal: 1m 26s\tremaining: 11s\n",
      "498:\tlearn: 1.8997431\ttotal: 1m 27s\tremaining: 10.8s\n",
      "499:\tlearn: 1.8996973\ttotal: 1m 27s\tremaining: 10.6s\n",
      "500:\tlearn: 1.8996530\ttotal: 1m 27s\tremaining: 10.5s\n",
      "501:\tlearn: 1.8996186\ttotal: 1m 27s\tremaining: 10.3s\n",
      "502:\tlearn: 1.8995611\ttotal: 1m 27s\tremaining: 10.1s\n",
      "503:\tlearn: 1.8995123\ttotal: 1m 27s\tremaining: 9.94s\n",
      "504:\tlearn: 1.8994567\ttotal: 1m 28s\tremaining: 9.76s\n",
      "505:\tlearn: 1.8994070\ttotal: 1m 28s\tremaining: 9.59s\n",
      "506:\tlearn: 1.8993800\ttotal: 1m 28s\tremaining: 9.41s\n",
      "507:\tlearn: 1.8993144\ttotal: 1m 28s\tremaining: 9.23s\n",
      "508:\tlearn: 1.8992553\ttotal: 1m 28s\tremaining: 9.06s\n",
      "509:\tlearn: 1.8991933\ttotal: 1m 28s\tremaining: 8.88s\n",
      "510:\tlearn: 1.8991458\ttotal: 1m 29s\tremaining: 8.71s\n",
      "511:\tlearn: 1.8990922\ttotal: 1m 29s\tremaining: 8.54s\n",
      "512:\tlearn: 1.8990507\ttotal: 1m 29s\tremaining: 8.36s\n",
      "513:\tlearn: 1.8989927\ttotal: 1m 29s\tremaining: 8.19s\n",
      "514:\tlearn: 1.8989588\ttotal: 1m 29s\tremaining: 8.01s\n",
      "515:\tlearn: 1.8989100\ttotal: 1m 29s\tremaining: 7.84s\n",
      "516:\tlearn: 1.8988658\ttotal: 1m 30s\tremaining: 7.67s\n",
      "517:\tlearn: 1.8988035\ttotal: 1m 30s\tremaining: 7.49s\n",
      "518:\tlearn: 1.8987536\ttotal: 1m 30s\tremaining: 7.32s\n",
      "519:\tlearn: 1.8986880\ttotal: 1m 30s\tremaining: 7.15s\n",
      "520:\tlearn: 1.8986085\ttotal: 1m 30s\tremaining: 6.97s\n",
      "521:\tlearn: 1.8985458\ttotal: 1m 30s\tremaining: 6.79s\n",
      "522:\tlearn: 1.8984800\ttotal: 1m 31s\tremaining: 6.62s\n",
      "523:\tlearn: 1.8984577\ttotal: 1m 31s\tremaining: 6.45s\n",
      "524:\tlearn: 1.8984046\ttotal: 1m 31s\tremaining: 6.27s\n",
      "525:\tlearn: 1.8983551\ttotal: 1m 31s\tremaining: 6.1s\n",
      "526:\tlearn: 1.8982999\ttotal: 1m 31s\tremaining: 5.92s\n",
      "527:\tlearn: 1.8982549\ttotal: 1m 31s\tremaining: 5.75s\n",
      "528:\tlearn: 1.8982002\ttotal: 1m 32s\tremaining: 5.57s\n",
      "529:\tlearn: 1.8981533\ttotal: 1m 32s\tremaining: 5.4s\n",
      "530:\tlearn: 1.8981200\ttotal: 1m 32s\tremaining: 5.22s\n",
      "531:\tlearn: 1.8980799\ttotal: 1m 32s\tremaining: 5.05s\n",
      "532:\tlearn: 1.8980177\ttotal: 1m 32s\tremaining: 4.88s\n",
      "533:\tlearn: 1.8979817\ttotal: 1m 32s\tremaining: 4.7s\n",
      "534:\tlearn: 1.8979542\ttotal: 1m 33s\tremaining: 4.52s\n",
      "535:\tlearn: 1.8979309\ttotal: 1m 33s\tremaining: 4.35s\n",
      "536:\tlearn: 1.8978683\ttotal: 1m 33s\tremaining: 4.17s\n",
      "537:\tlearn: 1.8978082\ttotal: 1m 33s\tremaining: 4s\n",
      "538:\tlearn: 1.8977576\ttotal: 1m 33s\tremaining: 3.83s\n",
      "539:\tlearn: 1.8977004\ttotal: 1m 33s\tremaining: 3.65s\n",
      "540:\tlearn: 1.8976637\ttotal: 1m 34s\tremaining: 3.48s\n",
      "541:\tlearn: 1.8976203\ttotal: 1m 34s\tremaining: 3.3s\n",
      "542:\tlearn: 1.8975812\ttotal: 1m 34s\tremaining: 3.13s\n",
      "543:\tlearn: 1.8975275\ttotal: 1m 34s\tremaining: 2.96s\n",
      "544:\tlearn: 1.8974608\ttotal: 1m 34s\tremaining: 2.78s\n",
      "545:\tlearn: 1.8974297\ttotal: 1m 34s\tremaining: 2.61s\n",
      "546:\tlearn: 1.8973785\ttotal: 1m 35s\tremaining: 2.43s\n",
      "547:\tlearn: 1.8973307\ttotal: 1m 35s\tremaining: 2.26s\n",
      "548:\tlearn: 1.8972769\ttotal: 1m 35s\tremaining: 2.08s\n",
      "549:\tlearn: 1.8972381\ttotal: 1m 35s\tremaining: 1.91s\n",
      "550:\tlearn: 1.8971879\ttotal: 1m 35s\tremaining: 1.74s\n",
      "551:\tlearn: 1.8971418\ttotal: 1m 35s\tremaining: 1.56s\n",
      "552:\tlearn: 1.8971173\ttotal: 1m 36s\tremaining: 1.39s\n",
      "553:\tlearn: 1.8970831\ttotal: 1m 36s\tremaining: 1.22s\n",
      "554:\tlearn: 1.8970300\ttotal: 1m 36s\tremaining: 1.04s\n",
      "555:\tlearn: 1.8969843\ttotal: 1m 36s\tremaining: 868ms\n",
      "556:\tlearn: 1.8969460\ttotal: 1m 36s\tremaining: 695ms\n",
      "557:\tlearn: 1.8968840\ttotal: 1m 36s\tremaining: 521ms\n",
      "558:\tlearn: 1.8968304\ttotal: 1m 37s\tremaining: 347ms\n",
      "559:\tlearn: 1.8967776\ttotal: 1m 37s\tremaining: 174ms\n",
      "560:\tlearn: 1.8967325\ttotal: 1m 37s\tremaining: 0us\n",
      "0.32313235294128195\n"
     ]
    }
   ],
   "source": [
    "model_final = CatBoostClassifier(**params)\n",
    "\n",
    "model_final.fit(X_train,y_train)\n",
    "\n",
    "y_preds = model_final.predict_proba(X_test)\n",
    "results = map3(y_test,y_preds,k=3)\n",
    "print(results)"
   ]
  },
  {
   "cell_type": "code",
   "execution_count": 36,
   "id": "41be69dc",
   "metadata": {},
   "outputs": [],
   "source": [
    "X_final = preprocessor(df_test)"
   ]
  },
  {
   "cell_type": "code",
   "execution_count": 37,
   "id": "0a76a5f1",
   "metadata": {},
   "outputs": [],
   "source": [
    "y_final = model_final.predict_proba(X_final)"
   ]
  },
  {
   "cell_type": "code",
   "execution_count": 38,
   "id": "d793c58e",
   "metadata": {},
   "outputs": [],
   "source": [
    "top3_pred_indices = np.argsort(y_final, axis=1)[:, -3:][:, ::-1]"
   ]
  },
  {
   "cell_type": "code",
   "execution_count": 39,
   "id": "db857739",
   "metadata": {},
   "outputs": [],
   "source": [
    "pred_labels = np.array([\n",
    "    encoder.inverse_transform(row) for row in top3_pred_indices\n",
    "])"
   ]
  },
  {
   "cell_type": "code",
   "execution_count": 40,
   "id": "4409f26e",
   "metadata": {},
   "outputs": [
    {
     "data": {
      "text/plain": [
       "array([['DAP', '10-26-26', '20-20'],\n",
       "       ['17-17-17', '10-26-26', '20-20'],\n",
       "       ['20-20', '10-26-26', '14-35-14'],\n",
       "       ...,\n",
       "       ['14-35-14', 'Urea', '17-17-17'],\n",
       "       ['10-26-26', 'DAP', '17-17-17'],\n",
       "       ['17-17-17', '14-35-14', '20-20']], dtype=object)"
      ]
     },
     "execution_count": 40,
     "metadata": {},
     "output_type": "execute_result"
    }
   ],
   "source": [
    "pred_labels"
   ]
  },
  {
   "cell_type": "code",
   "execution_count": 41,
   "id": "5685cbf3",
   "metadata": {},
   "outputs": [],
   "source": [
    "data_f = pd.DataFrame(pred_labels)"
   ]
  },
  {
   "cell_type": "code",
   "execution_count": 42,
   "id": "157610a4",
   "metadata": {},
   "outputs": [],
   "source": [
    "df_final['Fertilizer Name'] = data_f[0] + \" \" + data_f[1] + \" \" + data_f[2]"
   ]
  },
  {
   "cell_type": "code",
   "execution_count": 43,
   "id": "ff594919",
   "metadata": {},
   "outputs": [],
   "source": [
    "df_final.to_csv(\"submission.csv\",index=False)"
   ]
  }
 ],
 "metadata": {
  "kernelspec": {
   "display_name": "Python 3",
   "language": "python",
   "name": "python3"
  },
  "language_info": {
   "codemirror_mode": {
    "name": "ipython",
    "version": 3
   },
   "file_extension": ".py",
   "mimetype": "text/x-python",
   "name": "python",
   "nbconvert_exporter": "python",
   "pygments_lexer": "ipython3",
   "version": "3.11.4"
  }
 },
 "nbformat": 4,
 "nbformat_minor": 5
}
